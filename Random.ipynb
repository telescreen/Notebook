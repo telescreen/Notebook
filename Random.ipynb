{
 "cells": [
  {
   "cell_type": "code",
   "execution_count": 7,
   "metadata": {
    "collapsed": false
   },
   "outputs": [
    {
     "data": {
      "text/plain": [
       "720.0"
      ]
     },
     "execution_count": 7,
     "metadata": {},
     "output_type": "execute_result"
    }
   ],
   "source": [
    "1.5*60*8"
   ]
  },
  {
   "cell_type": "code",
   "execution_count": 8,
   "metadata": {
    "collapsed": false
   },
   "outputs": [
    {
     "data": {
      "text/plain": [
       "269.6"
      ]
     },
     "execution_count": 8,
     "metadata": {},
     "output_type": "execute_result"
    }
   ],
   "source": [
    "337-337*0.2"
   ]
  },
  {
   "cell_type": "code",
   "execution_count": 10,
   "metadata": {
    "collapsed": false
   },
   "outputs": [
    {
     "data": {
      "text/plain": [
       "(-1-1.2246467991473532e-16j)"
      ]
     },
     "execution_count": 10,
     "metadata": {},
     "output_type": "execute_result"
    }
   ],
   "source": [
    "import numpy as np\n",
    "np.exp(np.pi*(-1j))"
   ]
  },
  {
   "cell_type": "code",
   "execution_count": 15,
   "metadata": {
    "collapsed": false
   },
   "outputs": [
    {
     "name": "stdout",
     "output_type": "stream",
     "text": [
      "0.0\n",
      "-0.25\n",
      "0.5\n",
      "-1.0\n",
      "2.0\n",
      "-4.0\n",
      "8.0\n",
      "-16.0\n",
      "32.0\n",
      "-64.0\n",
      "128.0\n",
      "-256.0\n",
      "512.0\n",
      "-1024.0\n",
      "2048.0\n",
      "-4096.0\n",
      "8192.0\n",
      "-16384.0\n",
      "32768.0\n",
      "-65536.0\n",
      "131072.0\n",
      "-262144.0\n",
      "524288.0\n",
      "-1048576.0\n",
      "2097152.0\n",
      "-4194304.0\n",
      "8388608.0\n",
      "-16777216.0\n",
      "33554432.0\n",
      "-67108864.0\n",
      "134217728.0\n",
      "-268435456.0\n",
      "536870912.0\n",
      "-1073741824.0\n",
      "2147483648.0\n",
      "-4294967296.0\n",
      "8589934592.0\n",
      "-17179869184.0\n",
      "34359738368.0\n",
      "-68719476736.0\n",
      "137438953472.0\n",
      "-274877906944.0\n",
      "549755813888.0\n",
      "-1.09951162778e+12\n",
      "2.19902325555e+12\n",
      "-4.3980465111e+12\n",
      "8.79609302221e+12\n",
      "-1.75921860444e+13\n",
      "3.51843720888e+13\n",
      "-7.03687441777e+13\n",
      "1.40737488355e+14\n"
     ]
    }
   ],
   "source": [
    "class CCDT:\n",
    "    def __init__(self):\n",
    "        self.y = 0\n",
    "        \n",
    "    def calculate(self,x):\n",
    "        for i in range(len(x)-1):\n",
    "            y = x[i+1] - 1/2*x[i] - 2*self.y\n",
    "            self.y = y\n",
    "            yield(y)\n",
    "            \n",
    "y = CCDT()\n",
    "x = np.concatenate(([1,0.5], np.zeros(50)))\n",
    "for yval in y.calculate(x):\n",
    "    print(yval)"
   ]
  }
 ],
 "metadata": {
  "kernelspec": {
   "display_name": "Python 3",
   "language": "python",
   "name": "python3"
  },
  "language_info": {
   "codemirror_mode": {
    "name": "ipython",
    "version": 3
   },
   "file_extension": ".py",
   "mimetype": "text/x-python",
   "name": "python",
   "nbconvert_exporter": "python",
   "pygments_lexer": "ipython3",
   "version": "3.4.3"
  }
 },
 "nbformat": 4,
 "nbformat_minor": 0
}
