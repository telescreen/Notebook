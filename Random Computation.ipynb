{
 "cells": [
  {
   "cell_type": "code",
   "execution_count": 4,
   "metadata": {
    "collapsed": false
   },
   "outputs": [
    {
     "name": "stdout",
     "output_type": "stream",
     "text": [
      "Populating the interactive namespace from numpy and matplotlib\n"
     ]
    },
    {
     "data": {
      "text/plain": [
       "14"
      ]
     },
     "execution_count": 4,
     "metadata": {},
     "output_type": "execute_result"
    }
   ],
   "source": [
    "%pylab inline\n",
    "\n",
    "v = [-1,2,-3]\n",
    "sum([x**2 for x in v])"
   ]
  },
  {
   "cell_type": "code",
   "execution_count": 5,
   "metadata": {
    "collapsed": false
   },
   "outputs": [
    {
     "data": {
      "text/plain": [
       "5292000"
      ]
     },
     "execution_count": 5,
     "metadata": {},
     "output_type": "execute_result"
    }
   ],
   "source": [
    "44100*120"
   ]
  },
  {
   "cell_type": "code",
   "execution_count": 18,
   "metadata": {
    "collapsed": false
   },
   "outputs": [
    {
     "data": {
      "text/plain": [
       "(7.115929037552512e-17, 9.238619248114253e-15)"
      ]
     },
     "execution_count": 18,
     "metadata": {},
     "output_type": "execute_result"
    }
   ],
   "source": [
    "from scipy.integrate import quad\n",
    "\n",
    "quad(lambda t: t*sin(pi*t), -1, 1)\n",
    "quad(lambda t: sin(pi*t)**2, -1, 1)\n",
    "quad(lambda t: (1-abs(t))*sin(pi*t), -1, 1)\n",
    "quad(lambda t: sin(4*pi*t)*sin(5*pi*t), -1, 1)"
   ]
  },
  {
   "cell_type": "code",
   "execution_count": 31,
   "metadata": {
    "collapsed": false
   },
   "outputs": [
    {
     "data": {
      "text/plain": [
       "0.5"
      ]
     },
     "execution_count": 31,
     "metadata": {},
     "output_type": "execute_result"
    }
   ],
   "source": [
    "v0 = [1/2, 1/2, 1/2, 1/2]\n",
    "v1 = [1/2, 1/2, -1/2, -1/2]\n",
    "v2 = [1/2,-1/2,1/2,-1/2]\n",
    "\n",
    "v4 = [.5, -.5, -.5, .5]\n",
    "dot(v2,v4)"
   ]
  },
  {
   "cell_type": "code",
   "execution_count": 25,
   "metadata": {
    "collapsed": false
   },
   "outputs": [
    {
     "data": {
      "text/plain": [
       "6"
      ]
     },
     "execution_count": 25,
     "metadata": {},
     "output_type": "execute_result"
    }
   ],
   "source": [
    "from scipy.misc import comb\n",
    "comb(4,2,exact=True)"
   ]
  },
  {
   "cell_type": "code",
   "execution_count": 65,
   "metadata": {
    "collapsed": false
   },
   "outputs": [
    {
     "data": {
      "text/latex": [
       "$$\\left ( \\left[\\begin{matrix}0.5 & 0.5 & 0.5\\\\0.5 & 0.5 & -0.5\\\\0.5 & -0.5 & 0.5\\\\0.5 & -0.5 & -0.5\\end{matrix}\\right], \\quad \\left[\\begin{matrix}0.5 & 0.5 & 0.5 & 0.5\\\\0.5 & 0.5 & -0.5 & -0.5\\\\0.5 & -0.5 & 0.5 & -0.5\\end{matrix}\\right], \\quad \\left [ \\left[\\begin{matrix}1.0\\\\-1.0\\\\-1.0\\\\1\\end{matrix}\\right]\\right ]\\right )$$"
      ],
      "text/plain": [
       "⎛⎡0.5  0.5   0.5 ⎤, ⎡0.5  0.5   0.5   0.5 ⎤, ⎡⎡1.0 ⎤⎤⎞\n",
       "⎜⎢               ⎥  ⎢                     ⎥  ⎢⎢    ⎥⎥⎟\n",
       "⎜⎢0.5  0.5   -0.5⎥  ⎢0.5  0.5   -0.5  -0.5⎥  ⎢⎢-1.0⎥⎥⎟\n",
       "⎜⎢               ⎥  ⎢                     ⎥  ⎢⎢    ⎥⎥⎟\n",
       "⎜⎢0.5  -0.5  0.5 ⎥  ⎣0.5  -0.5  0.5   -0.5⎦  ⎢⎢-1.0⎥⎥⎟\n",
       "⎜⎢               ⎥                           ⎢⎢    ⎥⎥⎟\n",
       "⎝⎣0.5  -0.5  -0.5⎦                           ⎣⎣ 1  ⎦⎦⎠"
      ]
     },
     "execution_count": 65,
     "metadata": {},
     "output_type": "execute_result"
    }
   ],
   "source": [
    "import sympy\n",
    "sympy.init_printing(use_latex='mathjax')\n",
    "M = sympy.Matrix([v0, v1, v2])\n",
    "(M.T, M, M.nullspace())"
   ]
  },
  {
   "cell_type": "code",
   "execution_count": 67,
   "metadata": {
    "collapsed": false
   },
   "outputs": [
    {
     "data": {
      "text/latex": [
       "$$\\left ( \\left[\\begin{matrix}0\\\\0\\\\0\\end{matrix}\\right], \\quad \\left[\\begin{matrix}0\\\\0\\\\-2.0\\end{matrix}\\right]\\right )$$"
      ],
      "text/plain": [
       "⎛⎡0⎤, ⎡ 0  ⎤⎞\n",
       "⎜⎢ ⎥  ⎢    ⎥⎟\n",
       "⎜⎢0⎥  ⎢ 0  ⎥⎟\n",
       "⎜⎢ ⎥  ⎢    ⎥⎟\n",
       "⎝⎣0⎦  ⎣-2.0⎦⎠"
      ]
     },
     "execution_count": 67,
     "metadata": {},
     "output_type": "execute_result"
    }
   ],
   "source": [
    "v0 = numpy.array([1,-1,-1,1]).reshape(4,1)\n",
    "v1 = numpy.array([-1,1,-1,1]).reshape(4,1)\n",
    "(M*v0, M*v1)"
   ]
  },
  {
   "cell_type": "code",
   "execution_count": 69,
   "metadata": {
    "collapsed": false
   },
   "outputs": [
    {
     "data": {
      "text/plain": [
       "array([[ 2.],\n",
       "       [ 1.],\n",
       "       [ 2.],\n",
       "       [ 0.]])"
      ]
     },
     "execution_count": 69,
     "metadata": {},
     "output_type": "execute_result"
    }
   ],
   "source": [
    "A = array([[.5, .5, .5, .5],\n",
    "      [.5, .5, -.5, -.5],\n",
    "      [.5, -.5, .5, -.5],\n",
    "      [.5, -.5, -.5, .5]])\n",
    "B = array([2.5, .5, 1.5, -.5]).reshape(4,1)\n",
    "linalg.solve(A,B)"
   ]
  },
  {
   "cell_type": "code",
   "execution_count": 82,
   "metadata": {
    "collapsed": false
   },
   "outputs": [
    {
     "data": {
      "text/plain": [
       "matrix([[1, 0, 0, 0],\n",
       "        [0, 1, 0, 0],\n",
       "        [0, 0, 1, 0],\n",
       "        [0, 0, 0, 1]])"
      ]
     },
     "execution_count": 82,
     "metadata": {},
     "output_type": "execute_result"
    }
   ],
   "source": [
    "a = numpy.asmatrix([\n",
    "    [0,0,0,1],\n",
    "    [1,0,0,0],\n",
    "    [0,1,0,0],\n",
    "    [0,0,1,0]])\n",
    "a**4"
   ]
  }
 ],
 "metadata": {
  "kernelspec": {
   "display_name": "Python 3",
   "language": "python",
   "name": "python3"
  },
  "language_info": {
   "codemirror_mode": {
    "name": "ipython",
    "version": 3
   },
   "file_extension": ".py",
   "mimetype": "text/x-python",
   "name": "python",
   "nbconvert_exporter": "python",
   "pygments_lexer": "ipython3",
   "version": "3.4.3"
  }
 },
 "nbformat": 4,
 "nbformat_minor": 0
}
