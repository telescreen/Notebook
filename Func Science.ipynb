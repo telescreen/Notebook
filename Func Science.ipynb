{
 "metadata": {
  "name": "",
  "signature": "sha256:d77d962247b082d100513010b95d899a0411927cc96c3a03dd0a005844487e4f"
 },
 "nbformat": 3,
 "nbformat_minor": 0,
 "worksheets": [
  {
   "cells": [
    {
     "cell_type": "markdown",
     "metadata": {},
     "source": [
      "Ballmer Peak http://xkcd.com/323/\n",
      "-----------------------------------\n",
      "\n",
      "<img src='http://imgs.xkcd.com/comics/ballmer_peak.png'/>\n",
      "\n",
      "\n",
      "\n",
      "Machine Learning is a broad field \n",
      "------------------------------------\n",
      "<img src='images/ML.png' />"
     ]
    },
    {
     "cell_type": "markdown",
     "metadata": {},
     "source": []
    }
   ],
   "metadata": {}
  }
 ]
}