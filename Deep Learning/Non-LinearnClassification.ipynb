{
 "cells": [
  {
   "cell_type": "markdown",
   "metadata": {},
   "source": [
    "# Non-LinearnClassification: Kernels\n",
    "\n",
    "\n",
    "* Non-linear classifiers from feature maps\n",
    "* Moving from coordinate parameterization to weighting examples\n",
    "* Kernel functions induced from feature maps\n",
    "* Kernel perceptron, kernel linear regression\n",
    "* Properties of kernel functions \n",
    "\n",
    "### Non linear classification and regression\n",
    "\n",
    "* Non-linear classification\n",
    "\n",
    "$$ h(x;\\theta,\\theta_0) = sign(\\theta \\cdot \\phi(x) + \\theta_0) $$\n",
    "\n",
    "* Non-linear regression\n",
    "\n",
    "$$ f(x; \\theta,\\theta_0) = \\theta \\cdot \\phi(x) + \\theta_0 $$\n",
    "\n",
    "* By mapping input examples explicitly into feature vectors, and performing linear classification or regression on top of such feature vectors, we get a lot of expressive power.\n",
    "* The downside is that these vectors can be quite high dimensional.\n",
    "\n",
    "### Inner products, kernels\n",
    "\n",
    "Computing the inner product between two feature vectors can be cheap even if the vectors are very high dimensional\n",
    "\n",
    "$$ \\phi(x) = [x_1, x_2, x_1^2, \\sqrt{2}x_1x_2, x_2] $$\n",
    "$$ \\phi(x') = [x_1', x_2', x_1'^2, \\sqrt{2}x_1'x_2', x_2'] $$\n",
    "\n",
    "if we can calculate inner product of above 2 feature vectors we have\n",
    "\n",
    "$$ \\phi(x) \\cdot \\phi(x') = (x \\cdot x') + (x \\cdot x')^2 $$\n",
    "\n",
    "Kernel function is the inner product of 2 feature vectors.\n",
    "\n",
    "### Kernel vs features\n",
    "\n",
    "* For some feature maps, we can evaluate the inner products very efficiently\n",
    "\n",
    "$$ K(x,x') = \\phi(x) \\cdot \\phi(x') = (1 + x \\cdot x')^P $$\n",
    "\n",
    "* In those cases, it is advantageous to express the linear classifiers (regression methods) in terms of kernels rather than explicitly constructing feature vectors.\n",
    "\n",
    "### Computational Efficiency\n",
    "\n",
    "Recall perceptron algorithm\n",
    "\n",
    "$\\theta = 0 $\n",
    "\n",
    "Run through $ i = 1,\\dots,n $\n",
    "\n",
    "$\\text{ if } y^{(i)}\\theta \\cdot \\phi(x^{(i)}) \\leq 0 : \\theta \\leftarrow \\theta + y^{(i)} \\cdot \\phi(x^{(i)})$\n",
    "\n",
    "We can update the theta instead of a loop by adding a term counting the number of updates\n",
    "\n",
    "$$ \\theta \\cdot \\phi(x^{(i)}) = \\sum_{j=1}^n \\alpha_j y^{(j)} K(x^{(i)}, x^{(j)}) $$\n",
    "\n",
    "So basically we just need to update $\\alpha$ instead of updating new value of $\\theta$\n",
    "\n",
    "### Feature engineering - kernels\n",
    "\n",
    "Composition rules:\n",
    "\n",
    "1. $K(x,x') = 1$ is a kernel function\n",
    "2. Let $f: \\mathbb{R}^d \\rightarrow \\mathbb{R}$ and $K(x,x')$ is a kernel. Then so is $\\hat{K}(x,x') = f(x) K(x,x') f(x') $\n",
    "3. If $K_1(x,x')$ and $K_2(x,x')$ are kernels, then $K(x,x') = K_1(x,x') + K_2(x,x')$ is a kernel\n",
    "4. If $K_1(x,x')$ and $K_2(x,x')$ are kernels, then $K(x,x') = K_1(x,x')K_2(x,x')$ is a kernel\n",
    "\n",
    "\n",
    "### Radial basis kernel\n",
    "\n",
    "The feature vectors can be infinite dimensional.\n",
    "\n",
    "$$ K(x,x') = exp\\big(-\\frac{1}{2}||x - x'||^2\\big) $$\n",
    "\n",
    "The graph of this **radial basis kernel** is as follow."
   ]
  },
  {
   "cell_type": "code",
   "execution_count": 5,
   "metadata": {},
   "outputs": [
    {
     "data": {
      "text/plain": [
       "[<matplotlib.lines.Line2D at 0x7f2c1795db38>]"
      ]
     },
     "execution_count": 5,
     "metadata": {},
     "output_type": "execute_result"
    },
    {
     "data": {
      "image/png": "[encoded data removed]",
      "text/plain": [
       "<Figure size 432x288 with 1 Axes>"
      ]
     },
     "metadata": {
      "needs_background": "light"
     },
     "output_type": "display_data"
    }
   ],
   "source": [
    "%matplotlib inline\n",
    "import numpy as np\n",
    "import matplotlib.pyplot as plt\n",
    "\n",
    "k = lambda x: np.exp(-x/2)\n",
    "x = np.linspace(0,10,100)\n",
    "y = k(x)\n",
    "plt.plot(x,y)"
   ]
  },
  {
   "cell_type": "code",
   "execution_count": 6,
   "metadata": {},
   "outputs": [
    {
     "data": {
      "text/plain": [
       "0.4930686913952398"
      ]
     },
     "execution_count": 6,
     "metadata": {},
     "output_type": "execute_result"
    }
   ],
   "source": [
    "x = np.array([1,0,0])\n",
    "x1 = np.array([0,1,0])\n",
    "rbk = lambda x, x1: np.exp(-np.linalg.norm(x-x1)/2)\n",
    "rbk(x,x1)"
   ]
  }
 ],
 "metadata": {
  "kernelspec": {
   "display_name": "Python 3",
   "language": "python",
   "name": "python3"
  },
  "language_info": {
   "codemirror_mode": {
    "name": "ipython",
    "version": 3
   },
   "file_extension": ".py",
   "mimetype": "text/x-python",
   "name": "python",
   "nbconvert_exporter": "python",
   "pygments_lexer": "ipython3",
   "version": "3.7.3"
  }
 },
 "nbformat": 4,
 "nbformat_minor": 2
}
