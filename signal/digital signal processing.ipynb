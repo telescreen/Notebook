{
 "cells": [
  {
   "cell_type": "markdown",
   "metadata": {},
   "source": [
    "# Variables and Arrays\n",
    "\n",
    "Initliazing arrays is simple and can be done using the following commands, for example:"
   ]
  },
  {
   "cell_type": "code",
   "execution_count": null,
   "metadata": {
    "collapsed": true
   },
   "outputs": [],
   "source": [
    "v1 = [1,2,3,4]\n",
    "v2 = [4,2,7,4]\n",
    "v3 = [v1,v2]"
   ]
  },
  {
   "cell_type": "code",
   "execution_count": 2,
   "metadata": {
    "collapsed": false
   },
   "outputs": [
    {
     "name": "stdout",
     "output_type": "stream",
     "text": [
      "Populating the interactive namespace from numpy and matplotlib\n"
     ]
    }
   ],
   "source": [
    "%pylab inline\n",
    "z1 = zeros(2)\n",
    "o1 = ones((2,2))"
   ]
  },
  {
   "cell_type": "markdown",
   "metadata": {},
   "source": [
    "The very first line calls the ipython magic command %pylab, which initializes the environment with commands from numpy and matplotlib. Note that this can only work in an ipython shell or notebook. If you are writing a script, you will need to import numpy and matplotlib manually. "
   ]
  },
  {
   "cell_type": "code",
   "execution_count": 2,
   "metadata": {
    "collapsed": false
   },
   "outputs": [
    {
     "data": {
      "text/plain": [
       "(2, 4)"
      ]
     },
     "execution_count": 2,
     "metadata": {},
     "output_type": "execute_result"
    }
   ],
   "source": [
    "v1 = [1,2,3,4]\n",
    "v2 = [4,2,7,4]\n",
    "v3 = [v1,v2]"
   ]
  },
  {
   "cell_type": "code",
   "execution_count": 5,
   "metadata": {
    "collapsed": false
   },
   "outputs": [
    {
     "name": "stdout",
     "output_type": "stream",
     "text": [
      "2\n",
      "4\n"
     ]
    }
   ],
   "source": [
    "print(size(v3,0))\n",
    "print(size(v3,1))"
   ]
  },
  {
   "cell_type": "markdown",
   "metadata": {},
   "source": [
    "# Matrix operations\n",
    "\n",
    "Many functions are provided to manipulate an array. Some useful ones are explained here. \n",
    "\n",
    "To flatten a multi-dimensional array into a single-dimensional vector, we use a combination of commands **flatten** and **list**."
   ]
  },
  {
   "cell_type": "code",
   "execution_count": 7,
   "metadata": {
    "collapsed": false
   },
   "outputs": [
    {
     "data": {
      "text/plain": [
       "[1, 2, 3, 4, 4, 2, 7, 4]"
      ]
     },
     "execution_count": 7,
     "metadata": {},
     "output_type": "execute_result"
    }
   ],
   "source": [
    "v4 = list(flatten(v3))\n",
    "v4"
   ]
  },
  {
   "cell_type": "markdown",
   "metadata": {},
   "source": [
    "The function **transpose** transposes v3, similar to MATLAB's transpose operator(single-quotation). This is shown below:"
   ]
  },
  {
   "cell_type": "code",
   "execution_count": 8,
   "metadata": {
    "collapsed": false
   },
   "outputs": [
    {
     "name": "stdout",
     "output_type": "stream",
     "text": [
      "[[1 4]\n",
      " [2 2]\n",
      " [3 7]\n",
      " [4 4]]\n"
     ]
    }
   ],
   "source": [
    "v5 = transpose(v3)\n",
    "print(v5)"
   ]
  },
  {
   "cell_type": "markdown",
   "metadata": {},
   "source": [
    "The matrix multiplication and element-wise multiplication are performed using the commands **dot** and **multiply**, respectively."
   ]
  },
  {
   "cell_type": "code",
   "execution_count": 9,
   "metadata": {
    "collapsed": false
   },
   "outputs": [
    {
     "name": "stdout",
     "output_type": "stream",
     "text": [
      "[[30 45]\n",
      " [45 85]]\n",
      "[[ 1  4  9 16]\n",
      " [16  4 49 16]]\n"
     ]
    }
   ],
   "source": [
    "v6 = dot(v3, v5)\n",
    "v7 = multiply(v3, v3)\n",
    "print(v6)\n",
    "print(v7)"
   ]
  },
  {
   "cell_type": "markdown",
   "metadata": {},
   "source": [
    "Please note that the summation operator \"+\" has a completely different meaning for arrays/matrices than for scala numbers. The output of the following line of code for example, is the concatenation of the two vectors v1 and v2, rather than their element-wise summation one my guess"
   ]
  },
  {
   "cell_type": "code",
   "execution_count": 10,
   "metadata": {
    "collapsed": false
   },
   "outputs": [
    {
     "data": {
      "text/plain": [
       "[1, 2, 3, 4, 4, 2, 7, 4]"
      ]
     },
     "execution_count": 10,
     "metadata": {},
     "output_type": "execute_result"
    }
   ],
   "source": [
    "v1 + v2"
   ]
  },
  {
   "cell_type": "code",
   "execution_count": 3,
   "metadata": {
    "collapsed": false
   },
   "outputs": [
    {
     "data": {
      "image/png": "[encoded data removed]",
      "text/plain": [
       "<matplotlib.figure.Figure at 0x4b9deb8>"
      ]
     },
     "metadata": {},
     "output_type": "display_data"
    }
   ],
   "source": [
    "x = randn(10000);\n",
    "hist(x,100);"
   ]
  },
  {
   "cell_type": "markdown",
   "metadata": {},
   "source": [
    "# Signal Representation\n",
    "\n",
    "\n",
    "## Basic signals\n",
    "\n",
    "### Impulse \n",
    "\n",
    "The discrete-time impulse (or discrete time _delta function_) is potentially the simplest discrete-time signal;\n",
    "\n",
    "$$\n",
    "\\delta[n] = \\left\\{ \\begin{array}{11}\n",
    "1 & n = 0 \\\\\n",
    "0 & n \\not= 0\n",
    "\\end{array} \\right.\n",
    "$$"
   ]
  },
  {
   "cell_type": "code",
   "execution_count": 28,
   "metadata": {
    "collapsed": false
   },
   "outputs": [
    {
     "data": {
      "text/plain": [
       "<matplotlib.text.Text at 0x8822400>"
      ]
     },
     "execution_count": 28,
     "metadata": {},
     "output_type": "execute_result"
    },
    {
     "data": {
      "image/png": "[encoded data removed]",
      "text/plain": [
       "<matplotlib.figure.Figure at 0x7495be0>"
      ]
     },
     "metadata": {},
     "output_type": "display_data"
    }
   ],
   "source": [
    "xdelta = linspace(-15, 15, 31)\n",
    "delta_function = vectorize(lambda x: 1 if (x == 0) else 0)\n",
    "stem(xdelta, delta_function(xdelta))\n",
    "title('Delta Function')\n",
    "ylim([-.5, 2])\n",
    "xlabel('Samples')\n",
    "ylabel('x')"
   ]
  },
  {
   "cell_type": "markdown",
   "metadata": {},
   "source": [
    "### Unit Step\n",
    "\n",
    "$$\n",
    "u[n] = \\left\\{ \\begin{array}{11}\n",
    "1 & n \\ge 0 \\\\\n",
    "0 & n < 0\n",
    "\\end{array} \\right.\n",
    "$$\n",
    "\n",
    "The unit step can be obtained via a discrete-time integration of the impulse"
   ]
  },
  {
   "cell_type": "code",
   "execution_count": 30,
   "metadata": {
    "collapsed": false
   },
   "outputs": [
    {
     "data": {
      "text/plain": [
       "<matplotlib.text.Text at 0x89aada0>"
      ]
     },
     "execution_count": 30,
     "metadata": {},
     "output_type": "execute_result"
    },
    {
     "data": {
      "image/png": "[encoded data removed]",
      "text/plain": [
       "<matplotlib.figure.Figure at 0x72c1da0>"
      ]
     },
     "metadata": {},
     "output_type": "display_data"
    }
   ],
   "source": [
    "xunit = linspace(-15, 15, 31)\n",
    "unit_function = vectorize(lambda x: 1 if (x >= 0) else 0)\n",
    "stem(xunit, unit_function(xunit))\n",
    "title('Unit Function')\n",
    "ylim([-.5, 2])\n",
    "xlabel('Samples')\n",
    "ylabel('x')"
   ]
  },
  {
   "cell_type": "markdown",
   "metadata": {},
   "source": [
    "### Exponential Decay\n",
    "\n",
    "$$\n",
    "x[n] = a^n u[n], \\mbox{    } a \\in \\mathbb{C}, |a| < 1\n",
    "$$\n",
    "\n",
    "The exponential decay is the free response of a discrete-time first order recursive filter. Exponential sequences are well-behaved only for values of a less than one in magnitude; sequences in which $|a| > 1$ are unbounded and represent an unstable behavior (their energy and power are both infinite)."
   ]
  },
  {
   "cell_type": "code",
   "execution_count": 62,
   "metadata": {
    "collapsed": false
   },
   "outputs": [
    {
     "data": {
      "text/plain": [
       "<matplotlib.text.Text at 0x8d7c320>"
      ]
     },
     "execution_count": 62,
     "metadata": {},
     "output_type": "execute_result"
    },
    {
     "data": {
      "image/png": "[encoded data removed]",
      "text/plain": [
       "<matplotlib.figure.Figure at 0x8ac5898>"
      ]
     },
     "metadata": {},
     "output_type": "display_data"
    }
   ],
   "source": [
    "xexp = linspace(-20, 20, 60)\n",
    "def exp_decay_function(a, xexp):\n",
    "    u = unit_function(xexp)\n",
    "    res = u[u <= 0]\n",
    "    res = concatenate((res, \n",
    "                asarray([a**idx*val for idx, val in enumerate(u[u > 0])])))\n",
    "    return res\n",
    "stem(xexp, exp_decay_function(0.9, xexp))\n",
    "title('Exponention Decay')\n",
    "ylim([-.5, 2])\n",
    "xlabel('Samples')\n",
    "ylabel('x')"
   ]
  },
  {
   "cell_type": "markdown",
   "metadata": {},
   "source": [
    "### Complex Exponential\n",
    "\n",
    "$$\n",
    "x[n] = e^{j(\\omega_0n + \\phi)}\n",
    "$$\n",
    "\n",
    "Special cases of the complex exponential are the real-valued discrete-time sinusoidal oscillations:\n",
    "\n",
    "$$x[n] = sin(\\omega_0n + \\phi)$$\n",
    "$$x[n] = cos(\\omega_0n + \\phi)$$"
   ]
  },
  {
   "cell_type": "code",
   "execution_count": 169,
   "metadata": {
    "collapsed": false
   },
   "outputs": [
    {
     "data": {
      "text/plain": [
       "(-1.2, 1.2)"
      ]
     },
     "execution_count": 169,
     "metadata": {},
     "output_type": "execute_result"
    },
    {
     "data": {
      "image/png": "[encoded data removed]",
      "text/plain": [
       "<matplotlib.figure.Figure at 0xaa63748>"
      ]
     },
     "metadata": {},
     "output_type": "display_data"
    }
   ],
   "source": [
    "xsinu = linspace(-15, 15, 31)\n",
    "ysinu = cos(pi/10*xsinu)\n",
    "stem(xsinu, ysinu)\n",
    "ylim([-1.2, 1.2])"
   ]
  },
  {
   "cell_type": "markdown",
   "metadata": {},
   "source": [
    "## Elementary operators\n",
    "\n",
    "**Shift**: A sequence $x[n]$, shifted by an integer $k$ is:\n",
    "$$y[n] = x[n-k]$$\n",
    "\n",
    "if $k$ is positive, the signal is shifted \"to the right\", meaning that the signal has been _delayed_; if $k$ is negative, the signal is shifted \"to the left\", meaning that the signal has been _advanced_\n",
    "\n",
    "**Scaling**: A sequence $x[n]$ scaled by a factor $a \\in \\mathbb{C}$\n",
    "$$y[n] = ax[n]$$\n",
    "\n",
    "if $a$ is real, then the scaling represents a simple amplification or attenuation of the signal (when $a > 1$ and $a < 1$). If $a$ is complex, amplification and attenuation are compounded with a phase shift.\n",
    "\n",
    "**Sum**: The sum of two sequences $x[n]$ and $w[n]$ is their term-by-term sum:\n",
    "\n",
    "$$y[n] = x[n] + w[n]$$\n",
    "\n",
    "**Product**: The product of two sequences $x[n]$ and $w[n]$ is their term-by-term product\n",
    "\n",
    "$$y[n] = x[n]w[n]$$\n",
    "\n",
    "**Integration**: The discrete-time equivalent of integration is expressed by the following running sum:\n",
    "\n",
    "$$y[n] = \\sum_{k=-\\infty}^n x[k]$$\n",
    "\n",
    "**Differentiation**: A discrete-time approximation to differentiation is the first-order difference\n",
    "\n",
    "$$y[n] = x[n] - x[n-1]$$"
   ]
  },
  {
   "cell_type": "markdown",
   "metadata": {},
   "source": [
    "## The Reproducing Formula\n",
    "\n",
    "The signal reproducing formula is a simple application of the basic signal and signal properties that we have just seen and it states that\n",
    "\n",
    "$$x[n] = \\sum_{k=-\\infty}^\\infty x[k]\\delta[n-k]$$\n",
    "\n",
    "## Energy and Power\n",
    "\n",
    "We define the _energy_ of a discrete-time signal as\n",
    "\n",
    "$$E_x = ||x||_2^2 = \\sum_{n=-\\infty}^{\\infty}|x[n]|^2$$\n",
    "\n",
    "Obviously the energy is finite only if the above sum converges, i.e. if the sequence $x[n]$ is square-summable. \n",
    "\n",
    "We define the _power_ of a signal as the usual ratio of energy over time, taking the limit over the number of samples considered:\n",
    "\n",
    "$$P_x = \\lim_{N \\rightarrow \\infty}\\frac{1}{2N}\\sum_{-N}^{N-1}|x[n]|^2$$"
   ]
  }
 ],
 "metadata": {
  "kernelspec": {
   "display_name": "Python 3",
   "language": "python",
   "name": "python3"
  },
  "language_info": {
   "codemirror_mode": {
    "name": "ipython",
    "version": 3
   },
   "file_extension": ".py",
   "mimetype": "text/x-python",
   "name": "python",
   "nbconvert_exporter": "python",
   "pygments_lexer": "ipython3",
   "version": "3.4.3"
  }
 },
 "nbformat": 4,
 "nbformat_minor": 0
}
