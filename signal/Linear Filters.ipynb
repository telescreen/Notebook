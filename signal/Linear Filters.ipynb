{
 "cells": [
  {
   "cell_type": "markdown",
   "metadata": {},
   "source": [
    "## Linearity\n",
    "\n",
    "* Linearity\n",
    "$$\n",
    "\\mathbb{H} \\left\\{ \\alpha x_1[n] + \\beta x_2[n] \\right\\} = \\alpha \\mathbb{H}(x_1[n]) + \\beta \\mathbb{H}(x_2[n])\n",
    "$$\n",
    "* Time invariance\n",
    "\n",
    "## Convolution\n",
    "\n",
    "We can always write \n",
    "\n",
    "$$\n",
    "x[n] = \\sum_{k=-\\infty}^{\\infty}x[k] \\delta[n-k]\n",
    "$$"
   ]
  }
 ],
 "metadata": {
  "kernelspec": {
   "display_name": "Python 3",
   "language": "python",
   "name": "python3"
  },
  "language_info": {
   "codemirror_mode": {
    "name": "ipython",
    "version": 3
   },
   "file_extension": ".py",
   "mimetype": "text/x-python",
   "name": "python",
   "nbconvert_exporter": "python",
   "pygments_lexer": "ipython3",
   "version": "3.4.3"
  }
 },
 "nbformat": 4,
 "nbformat_minor": 0
}
