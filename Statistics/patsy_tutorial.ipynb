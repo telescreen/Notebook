{
 "cells": [
  {
   "cell_type": "code",
   "execution_count": 40,
   "id": "353a3358-1f7e-4a69-8643-cb3186b2f910",
   "metadata": {},
   "outputs": [],
   "source": [
    "import numpy as np\n",
    "import patsy\n",
    "from patsy import dmatrices, dmatrix, demo_data"
   ]
  },
  {
   "cell_type": "code",
   "execution_count": 2,
   "id": "0a12d89c-64ed-4bd4-8536-82029293ccdf",
   "metadata": {},
   "outputs": [
    {
     "data": {
      "text/plain": [
       "{'a': ['a1', 'a1', 'a2', 'a2', 'a1', 'a1', 'a2', 'a2'],\n",
       " 'b': ['b1', 'b2', 'b1', 'b2', 'b1', 'b2', 'b1', 'b2'],\n",
       " 'x1': array([ 1.76405235,  0.40015721,  0.97873798,  2.2408932 ,  1.86755799,\n",
       "        -0.97727788,  0.95008842, -0.15135721]),\n",
       " 'x2': array([-0.10321885,  0.4105985 ,  0.14404357,  1.45427351,  0.76103773,\n",
       "         0.12167502,  0.44386323,  0.33367433]),\n",
       " 'y': array([ 1.49407907, -0.20515826,  0.3130677 , -0.85409574, -2.55298982,\n",
       "         0.6536186 ,  0.8644362 , -0.74216502]),\n",
       " 'z': array([ 2.26975462, -1.45436567,  0.04575852, -0.18718385,  1.53277921,\n",
       "         1.46935877,  0.15494743,  0.37816252]),\n",
       " 'z column': array([-0.88778575, -1.98079647, -0.34791215,  0.15634897,  1.23029068,\n",
       "         1.20237985, -0.38732682, -0.30230275])}"
      ]
     },
     "execution_count": 2,
     "metadata": {},
     "output_type": "execute_result"
    }
   ],
   "source": [
    "data = demo_data('a', 'b', 'x1', 'x2', 'y', 'z', 'z column')\n",
    "data"
   ]
  },
  {
   "cell_type": "code",
   "execution_count": 4,
   "id": "45350232-da93-46af-b169-fad3dc2e9037",
   "metadata": {},
   "outputs": [
    {
     "data": {
      "text/plain": [
       "(DesignMatrix with shape (8, 1)\n",
       "          y\n",
       "    1.49408\n",
       "   -0.20516\n",
       "    0.31307\n",
       "   -0.85410\n",
       "   -2.55299\n",
       "    0.65362\n",
       "    0.86444\n",
       "   -0.74217\n",
       "   Terms:\n",
       "     'y' (column 0),\n",
       " DesignMatrix with shape (8, 3)\n",
       "   Intercept        x1        x2\n",
       "           1   1.76405  -0.10322\n",
       "           1   0.40016   0.41060\n",
       "           1   0.97874   0.14404\n",
       "           1   2.24089   1.45427\n",
       "           1   1.86756   0.76104\n",
       "           1  -0.97728   0.12168\n",
       "           1   0.95009   0.44386\n",
       "           1  -0.15136   0.33367\n",
       "   Terms:\n",
       "     'Intercept' (column 0)\n",
       "     'x1' (column 1)\n",
       "     'x2' (column 2))"
      ]
     },
     "execution_count": 4,
     "metadata": {},
     "output_type": "execute_result"
    }
   ],
   "source": [
    "dmatrices(\"y ~ x1 + x2\", data)"
   ]
  },
  {
   "cell_type": "code",
   "execution_count": 16,
   "id": "b084ef17-0955-4c8f-860b-71cf7903f236",
   "metadata": {},
   "outputs": [],
   "source": [
    "outcome, predictors = dmatrices('y ~ x1 + x2', data=data)\n",
    "betas = np.linalg.lstsq(predictors, outcome, rcond=None)[0].ravel()"
   ]
  },
  {
   "cell_type": "code",
   "execution_count": 20,
   "id": "f8f39aac-e2d4-49e9-a465-11c496438ef1",
   "metadata": {},
   "outputs": [
    {
     "name": "stdout",
     "output_type": "stream",
     "text": [
      "Intercept: 0.5796623441231169\n",
      "x1: 0.08859919035535568\n",
      "x2: -1.7647920555065002\n"
     ]
    }
   ],
   "source": [
    "for name, beta in zip(predictors.design_info.column_names, betas):\n",
    "    print(\"%s: %s\" % (name, beta))"
   ]
  },
  {
   "cell_type": "code",
   "execution_count": 22,
   "id": "75fa1171-e73e-428d-a06b-a848506e9d6e",
   "metadata": {},
   "outputs": [],
   "source": [
    "d = dmatrix(\"x1 + x2\", data)"
   ]
  },
  {
   "cell_type": "code",
   "execution_count": 34,
   "id": "910628e7-958f-43fc-9861-0ea8923a2e7d",
   "metadata": {},
   "outputs": [
    {
     "data": {
      "text/plain": [
       "DesignMatrix with shape (8, 2)\n",
       "        x1        x2\n",
       "   1.76405  -0.10322\n",
       "   0.40016   0.41060\n",
       "   0.97874   0.14404\n",
       "   2.24089   1.45427\n",
       "   1.86756   0.76104\n",
       "  -0.97728   0.12168\n",
       "   0.95009   0.44386\n",
       "  -0.15136   0.33367\n",
       "  Terms:\n",
       "    'x1' (column 0)\n",
       "    'x2' (column 1)"
      ]
     },
     "execution_count": 34,
     "metadata": {},
     "output_type": "execute_result"
    }
   ],
   "source": [
    "dmatrix(\"-1 + x1 + x2\", data)"
   ]
  },
  {
   "cell_type": "code",
   "execution_count": 36,
   "id": "463a0907-c8fe-4673-bbea-8b7e59ed58f3",
   "metadata": {},
   "outputs": [
    {
     "data": {
      "text/plain": [
       "DesignMatrix with shape (8, 3)\n",
       "  Intercept        x1  np.log(x2 + 5)\n",
       "          1   1.76405         1.58858\n",
       "          1   0.40016         1.68836\n",
       "          1   0.97874         1.63784\n",
       "          1   2.24089         1.86474\n",
       "          1   1.86756         1.75112\n",
       "          1  -0.97728         1.63348\n",
       "          1   0.95009         1.69449\n",
       "          1  -0.15136         1.67404\n",
       "  Terms:\n",
       "    'Intercept' (column 0)\n",
       "    'x1' (column 1)\n",
       "    'np.log(x2 + 5)' (column 2)"
      ]
     },
     "execution_count": 36,
     "metadata": {},
     "output_type": "execute_result"
    }
   ],
   "source": [
    "dmatrix(\"x1 + np.log(x2+5)\", data)"
   ]
  },
  {
   "cell_type": "code",
   "execution_count": 37,
   "id": "b9eab32c-695e-465b-ba0b-845b4590a094",
   "metadata": {},
   "outputs": [
    {
     "data": {
      "text/plain": [
       "DesignMatrix with shape (8, 3)\n",
       "  Intercept  center(x1)  standardize(x2)\n",
       "          1     0.87995         -1.21701\n",
       "          1    -0.48395         -0.07791\n",
       "          1     0.09463         -0.66885\n",
       "          1     1.35679          2.23584\n",
       "          1     0.98345          0.69899\n",
       "          1    -1.86138         -0.71844\n",
       "          1     0.06598         -0.00417\n",
       "          1    -1.03546         -0.24845\n",
       "  Terms:\n",
       "    'Intercept' (column 0)\n",
       "    'center(x1)' (column 1)\n",
       "    'standardize(x2)' (column 2)"
      ]
     },
     "execution_count": 37,
     "metadata": {},
     "output_type": "execute_result"
    }
   ],
   "source": [
    "dmatrix(\"center(x1) + standardize(x2)\", data)"
   ]
  },
  {
   "cell_type": "code",
   "execution_count": 41,
   "id": "f99fedc2-9c56-4489-942c-dc3563c8bf2c",
   "metadata": {},
   "outputs": [
    {
     "data": {
      "text/plain": [
       "['C',\n",
       " 'ContrastMatrix',\n",
       " 'Diff',\n",
       " 'Helmert',\n",
       " 'I',\n",
       " 'Poly',\n",
       " 'Q',\n",
       " 'Sum',\n",
       " 'Treatment',\n",
       " '__all__',\n",
       " '__builtins__',\n",
       " '__cached__',\n",
       " '__doc__',\n",
       " '__file__',\n",
       " '__loader__',\n",
       " '__name__',\n",
       " '__package__',\n",
       " '__spec__',\n",
       " 'bs',\n",
       " 'cc',\n",
       " 'center',\n",
       " 'cr',\n",
       " 'scale',\n",
       " 'standardize',\n",
       " 'te',\n",
       " 'test_I',\n",
       " 'test_Q']"
      ]
     },
     "execution_count": 41,
     "metadata": {},
     "output_type": "execute_result"
    }
   ],
   "source": [
    "dir(patsy.builtins)"
   ]
  },
  {
   "cell_type": "code",
   "execution_count": 43,
   "id": "337f4f34-9e52-49fd-ab52-0fed1b4d7013",
   "metadata": {},
   "outputs": [
    {
     "data": {
      "text/plain": [
       "DesignMatrix with shape (8, 2)\n",
       "  a[a1]  a[a2]\n",
       "      1      0\n",
       "      1      0\n",
       "      0      1\n",
       "      0      1\n",
       "      1      0\n",
       "      1      0\n",
       "      0      1\n",
       "      0      1\n",
       "  Terms:\n",
       "    'a' (columns 0:2)"
      ]
     },
     "execution_count": 43,
     "metadata": {},
     "output_type": "execute_result"
    }
   ],
   "source": [
    "dmatrix(\"a + 0\", data)"
   ]
  },
  {
   "cell_type": "code",
   "execution_count": 44,
   "id": "75ee307f-d3df-4e27-a57d-fa4a76d276c2",
   "metadata": {},
   "outputs": [
    {
     "data": {
      "text/plain": [
       "ModelDesc(lhs_termlist=[Term([EvalFactor('y')])],\n",
       "          rhs_termlist=[Term([]),\n",
       "                        Term([EvalFactor('a')]),\n",
       "                        Term([EvalFactor('a'), EvalFactor('b')]),\n",
       "                        Term([EvalFactor('np.log(x)')])])"
      ]
     },
     "execution_count": 44,
     "metadata": {},
     "output_type": "execute_result"
    }
   ],
   "source": [
    "patsy.ModelDesc.from_formula(\"y ~ a + a:b + np.log(x)\")"
   ]
  },
  {
   "cell_type": "code",
   "execution_count": 45,
   "id": "0fcbee74-3b3f-4413-bc59-68e6092242b1",
   "metadata": {},
   "outputs": [
    {
     "data": {
      "text/plain": [
       "ModelDesc(lhs_termlist=[Term([EvalFactor('y')])],\n",
       "          rhs_termlist=[Term([]), Term([EvalFactor('a'), EvalFactor('b')])])"
      ]
     },
     "execution_count": 45,
     "metadata": {},
     "output_type": "execute_result"
    }
   ],
   "source": [
    "patsy.ModelDesc.from_formula(\"y ~ a:b\")"
   ]
  },
  {
   "cell_type": "code",
   "execution_count": 51,
   "id": "56f759c0-cdb3-47f4-ba58-1b81512965c4",
   "metadata": {},
   "outputs": [
    {
     "data": {
      "text/plain": [
       "{'a': ['a1', 'a1', 'a2', 'a2', 'a1', 'a1', 'a2', 'a2'],\n",
       " 'b': ['b1', 'b2', 'b1', 'b2', 'b1', 'b2', 'b1', 'b2'],\n",
       " 'x1': array([ 1.76405235,  0.40015721,  0.97873798,  2.2408932 ,  1.86755799,\n",
       "        -0.97727788,  0.95008842, -0.15135721]),\n",
       " 'x2': array([-0.10321885,  0.4105985 ,  0.14404357,  1.45427351,  0.76103773,\n",
       "         0.12167502,  0.44386323,  0.33367433]),\n",
       " 'y': array([ 1.49407907, -0.20515826,  0.3130677 , -0.85409574, -2.55298982,\n",
       "         0.6536186 ,  0.8644362 , -0.74216502]),\n",
       " 'z': array([ 2.26975462, -1.45436567,  0.04575852, -0.18718385,  1.53277921,\n",
       "         1.46935877,  0.15494743,  0.37816252]),\n",
       " 'z column': array([-0.88778575, -1.98079647, -0.34791215,  0.15634897,  1.23029068,\n",
       "         1.20237985, -0.38732682, -0.30230275])}"
      ]
     },
     "execution_count": 51,
     "metadata": {},
     "output_type": "execute_result"
    }
   ],
   "source": [
    "data"
   ]
  },
  {
   "cell_type": "code",
   "execution_count": 54,
   "id": "d91a1a2d-fbe1-4a4c-9f1e-d4a189e63733",
   "metadata": {},
   "outputs": [
    {
     "data": {
      "text/plain": [
       "DesignMatrix with shape (8, 4)\n",
       "  Intercept  a[T.a2]  b[T.b2]  a[T.a2]:b[T.b2]\n",
       "          1        0        0                0\n",
       "          1        0        1                0\n",
       "          1        1        0                0\n",
       "          1        1        1                1\n",
       "          1        0        0                0\n",
       "          1        0        1                0\n",
       "          1        1        0                0\n",
       "          1        1        1                1\n",
       "  Terms:\n",
       "    'Intercept' (column 0)\n",
       "    'a' (column 1)\n",
       "    'b' (column 2)\n",
       "    'a:b' (column 3)"
      ]
     },
     "execution_count": 54,
     "metadata": {},
     "output_type": "execute_result"
    }
   ],
   "source": [
    "dmatrix(\"a + b + a:b\", data)"
   ]
  }
 ],
 "metadata": {
  "kernelspec": {
   "display_name": "Python 3 (ipykernel)",
   "language": "python",
   "name": "python3"
  },
  "language_info": {
   "codemirror_mode": {
    "name": "ipython",
    "version": 3
   },
   "file_extension": ".py",
   "mimetype": "text/x-python",
   "name": "python",
   "nbconvert_exporter": "python",
   "pygments_lexer": "ipython3",
   "version": "3.9.10"
  }
 },
 "nbformat": 4,
 "nbformat_minor": 5
}
