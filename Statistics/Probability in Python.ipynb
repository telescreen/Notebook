{
 "cells": [
  {
   "cell_type": "markdown",
   "metadata": {},
   "source": [
    "## Introduction\n",
    "\n",
    "Peter Norvig again created [a wonderful notebook](http://nbviewer.ipython.org/url/norvig.com/ipython/Probability.ipynb). This time he explains in a precise and clear manner about probability, as well as demonstrate persuasively how to use Python to calculate probabily. He also introduces paradoxes around probability and talks about \"the reasonable people principle\".\n",
    "\n",
    "I realize that I could learn a lot by following Norvig's notebooks, learning the ways he performs reaonsing, and executing his codes.\n",
    "\n",
    "This notebook does 2 things:\n",
    "* Learn to use python to calculate probability.\n",
    "* Documentize famous probability problems and their calculations.\n",
    "\n",
    "## Probability\n",
    "\n",
    "We could get a fresh review of probability from \"[Introduction to Probability](http://www.dartmouth.edu/~chance/teaching_aids/books_articles/probability_book/pdf.html)\". \n",
    "\n",
    "Over 200 years ago, Laplace wrote:\n",
    "\n",
    ">The probability of an event is the ratio of the number of cases favorable to it, to the number of all cases possible, when [the cases are] equally possible. ... Probability is thus simply a fraction whose numerator is the number of favorable cases and whose denominator is the number of all the cases possible.\n",
    "\n",
    "If you want to untangle a probability problem, all you have to do is be methodical about defining exactly what the cases are, and then careful in counting the number of favorable and total cases. We'll start being methodical by defining terms:\n",
    "\n",
    "* [Experiment](https://en.wikipedia.org/wiki/Experiment_(probability_theory%29)\n",
    "* [Outcome]()\n",
    "* [Sample Space]()\n",
    "* [Event]()\n",
    "* [Probability]()\n",
    "\n",
    "\n",
    "## Definition of $P$ for probability in Python"
   ]
  },
  {
   "cell_type": "code",
   "execution_count": 2,
   "metadata": {
    "collapsed": true
   },
   "outputs": [],
   "source": [
    "from fractions import Fraction\n",
    "from __future__ import division\n",
    "\n",
    "def P(event, space):\n",
    "    \"\"\"The probability of an event given a sample space of proable outcomes.\"\"\"\n",
    "    return Fraction(len(event & space), len(space))"
   ]
  },
  {
   "cell_type": "markdown",
   "metadata": {},
   "source": [
    "Probability is a fraction whose numerator is the number of favorable cases (outcomes in the intersection of the sample spaces and the event) and whose denomerator is the number of all possible cases (the sample space).\n",
    "\n",
    "## Die Roll\n",
    "\n",
    "The event of rolling an even number can be calculated as followings"
   ]
  },
  {
   "cell_type": "code",
   "execution_count": 4,
   "metadata": {
    "collapsed": false
   },
   "outputs": [
    {
     "data": {
      "text/plain": [
       "Fraction(1, 2)"
      ]
     },
     "execution_count": 4,
     "metadata": {},
     "output_type": "execute_result"
    }
   ],
   "source": [
    "D = {1, 2, 3, 4, 5, 6}\n",
    "even = {2, 4, 6}\n",
    "P(even, D)"
   ]
  },
  {
   "cell_type": "markdown",
   "metadata": {},
   "source": [
    "## Revised version of $P$ accepting a predicate\n",
    "\n",
    "In calculating probability of an event, we need to manually enumerate all favorable cases as examples above. We could modify the function P to accept a predicate function (**filter** event according to some criteria)."
   ]
  },
  {
   "cell_type": "code",
   "execution_count": 3,
   "metadata": {
    "collapsed": true
   },
   "outputs": [],
   "source": [
    "from fractions import Fraction\n",
    "from __future__ import division\n",
    "\n",
    "def P(event, space):\n",
    "    \"\"\"The probability of an event given a sample space of proable outcomes.\"\"\"\n",
    "    if callable(event):\n",
    "        event = such_that(event, space)\n",
    "    return Fraction(len(event & space), len(space))\n",
    "\n",
    "\n",
    "def such_that(predicate, collection):\n",
    "    \"\"\"Filter events in sample space according to callable predication function: event\"\"\"\n",
    "    return {e for e in collection if predicate(e)}"
   ]
  },
  {
   "cell_type": "code",
   "execution_count": 7,
   "metadata": {
    "collapsed": false
   },
   "outputs": [
    {
     "data": {
      "text/plain": [
       "{2, 4, 6}"
      ]
     },
     "execution_count": 7,
     "metadata": {},
     "output_type": "execute_result"
    }
   ],
   "source": [
    "def even(n): return n % 2 == 0\n",
    "\n",
    "such_that(even, D)"
   ]
  },
  {
   "cell_type": "code",
   "execution_count": 8,
   "metadata": {
    "collapsed": false
   },
   "outputs": [
    {
     "data": {
      "text/plain": [
       "Fraction(1, 2)"
      ]
     },
     "execution_count": 8,
     "metadata": {},
     "output_type": "execute_result"
    }
   ],
   "source": [
    "P(even, D)"
   ]
  },
  {
   "cell_type": "code",
   "execution_count": 9,
   "metadata": {
    "collapsed": false
   },
   "outputs": [
    {
     "data": {
      "text/plain": [
       "{2, 4, 6, 8, 10, 12}"
      ]
     },
     "execution_count": 9,
     "metadata": {},
     "output_type": "execute_result"
    }
   ],
   "source": [
    "D12 = {1, 2, 3, 4, 5, 6, 7, 8, 9, 10, 11, 12}\n",
    "such_that(even, D12)"
   ]
  },
  {
   "cell_type": "code",
   "execution_count": 10,
   "metadata": {
    "collapsed": false
   },
   "outputs": [
    {
     "data": {
      "text/plain": [
       "Fraction(1, 2)"
      ]
     },
     "execution_count": 10,
     "metadata": {},
     "output_type": "execute_result"
    }
   ],
   "source": [
    "P(even, D12)"
   ]
  },
  {
   "cell_type": "markdown",
   "metadata": {},
   "source": [
    "## The two child paradoxes\n",
    "\n",
    "[Martin Gardner](https://en.wikipedia.org/wiki/Martin_Gardner) posed these two problems:\n",
    "\n",
    "* **Problem 1**: Mr.Jones has two children. The older is a boy. What is the probability that both children are boys?\n",
    "* **Problem 2**: Mr.Smith has two children. At least one of them is a boy. What is the probability that both children are boys?\n",
    "\n",
    "And in 2010, Gary Foshee added this one:\n",
    "\n",
    "* **Problem 3**. I have two children. At least one of them is a boy born on Tuesday. What is the probability that both children are boys?\n",
    "\n",
    "Problem 2 and 3 are considered paradoxes because they have surprising answers that people argue about."
   ]
  },
  {
   "cell_type": "markdown",
   "metadata": {},
   "source": [
    "### Problem 1: Older child is a boy. What is the probability both are boys?\n",
    "\n",
    "We use 'BG' to denote the outcome in which the older child is a boy and the younger a girl. The sample space, S, is:"
   ]
  },
  {
   "cell_type": "code",
   "execution_count": 11,
   "metadata": {
    "collapsed": true
   },
   "outputs": [],
   "source": [
    "S = {'BG', 'BB', 'GB', 'GG'}"
   ]
  },
  {
   "cell_type": "markdown",
   "metadata": {},
   "source": [
    "Let's define predicates for the conditions of having two boys, and of the older child being a boy"
   ]
  },
  {
   "cell_type": "code",
   "execution_count": 12,
   "metadata": {
    "collapsed": true
   },
   "outputs": [],
   "source": [
    "def two_boys(outcome): return outcome.count('B') == 2\n",
    "\n",
    "def older_is_a_boy(outcome): return outcome.startswith('B')"
   ]
  },
  {
   "cell_type": "markdown",
   "metadata": {},
   "source": [
    "Now we can answer Problem 1"
   ]
  },
  {
   "cell_type": "code",
   "execution_count": 13,
   "metadata": {
    "collapsed": false
   },
   "outputs": [
    {
     "data": {
      "text/plain": [
       "Fraction(1, 2)"
      ]
     },
     "execution_count": 13,
     "metadata": {},
     "output_type": "execute_result"
    }
   ],
   "source": [
    "P(two_boys, such_that(older_is_a_boy, S))"
   ]
  },
  {
   "cell_type": "markdown",
   "metadata": {},
   "source": [
    "### Problem 2: At least one is a boy. What is the probability both are boys?\n",
    "\n",
    "Implementing the problem and finding the answer is easy:"
   ]
  },
  {
   "cell_type": "code",
   "execution_count": 14,
   "metadata": {
    "collapsed": false
   },
   "outputs": [
    {
     "data": {
      "text/plain": [
       "Fraction(1, 3)"
      ]
     },
     "execution_count": 14,
     "metadata": {},
     "output_type": "execute_result"
    }
   ],
   "source": [
    "def at_least_one_boy(outcome): return 'B' in outcome\n",
    "\n",
    "P(two_boys, such_that(at_least_one_boy, S))"
   ]
  },
  {
   "cell_type": "markdown",
   "metadata": {},
   "source": [
    "Understanding the problem is tougher. Some people think the answer should be 1/2. Can we justify the answer 1/3? We can see there are three equiable outcomes in which there is at least one boy:"
   ]
  },
  {
   "cell_type": "code",
   "execution_count": 15,
   "metadata": {
    "collapsed": false
   },
   "outputs": [
    {
     "data": {
      "text/plain": [
       "{'BB', 'BG', 'GB'}"
      ]
     },
     "execution_count": 15,
     "metadata": {},
     "output_type": "execute_result"
    }
   ],
   "source": [
    "such_that(at_least_one_boy, S)"
   ]
  },
  {
   "cell_type": "markdown",
   "metadata": {},
   "source": [
    "Of those three outcomes, only one has two boys, so the answer of 1/3 is indeed justified. \n",
    "\n",
    "But some people still think the answer should be 1/3. Their reasoning is _\"If one child is a boy, then there are two equiproable outcomes for the other child, so the probability that the other child is a boy, and thust that there are two boys, is 1/2\"_. \n",
    "\n",
    "When two methods of reasoning give two different answers, we have a [paradox](https://en.wikipedia.org/wiki/Paradox).\n",
    "\n",
    "### Problem 3: One is a boy born on Tuesday. What's the probability both are boys?\n",
    "\n",
    "When Gary Foshee posed this problem, most people could not imagine how the boy's birthday-of-week could be relevant, and felt the answer should be the same as Problem 2. But in order to tell for sure, we should clearly state what the experiment is, define the sample space, and calculate. \n",
    "First:\n",
    "\n",
    "* **Experiment 3a**: A parent is chosen at random from families with two children. She is asked if at least one of here children is a boy born on Tuesday. She replies \"Yes\".\n",
    "\n",
    "Next we'll define a sample space. We'll use the notation \"G1B3\" to mean the older child is a girl born on the first day of the week (Sunday) and the younger a boy born on the third day of the week (Tuesday). We'll call the resulting sample space S3."
   ]
  },
  {
   "cell_type": "code",
   "execution_count": 16,
   "metadata": {
    "collapsed": false
   },
   "outputs": [
    {
     "name": "stdout",
     "output_type": "stream",
     "text": [
      "['B1B1', 'B1B2', 'B1B3', 'B1B4', 'B1B5', 'B1B6', 'B1B7', 'B1G1', 'B1G2', 'B1G3', 'B1G4', 'B1G5', 'B1G6', 'B1G7', 'B2B1', 'B2B2', 'B2B3', 'B2B4', 'B2B5', 'B2B6', 'B2B7', 'B2G1', 'B2G2', 'B2G3', 'B2G4', 'B2G5', 'B2G6', 'B2G7', 'B3B1', 'B3B2', 'B3B3', 'B3B4', 'B3B5', 'B3B6', 'B3B7', 'B3G1', 'B3G2', 'B3G3', 'B3G4', 'B3G5', 'B3G6', 'B3G7', 'B4B1', 'B4B2', 'B4B3', 'B4B4', 'B4B5', 'B4B6', 'B4B7', 'B4G1', 'B4G2', 'B4G3', 'B4G4', 'B4G5', 'B4G6', 'B4G7', 'B5B1', 'B5B2', 'B5B3', 'B5B4', 'B5B5', 'B5B6', 'B5B7', 'B5G1', 'B5G2', 'B5G3', 'B5G4', 'B5G5', 'B5G6', 'B5G7', 'B6B1', 'B6B2', 'B6B3', 'B6B4', 'B6B5', 'B6B6', 'B6B7', 'B6G1', 'B6G2', 'B6G3', 'B6G4', 'B6G5', 'B6G6', 'B6G7', 'B7B1', 'B7B2', 'B7B3', 'B7B4', 'B7B5', 'B7B6', 'B7B7', 'B7G1', 'B7G2', 'B7G3', 'B7G4', 'B7G5', 'B7G6', 'B7G7', 'G1B1', 'G1B2', 'G1B3', 'G1B4', 'G1B5', 'G1B6', 'G1B7', 'G1G1', 'G1G2', 'G1G3', 'G1G4', 'G1G5', 'G1G6', 'G1G7', 'G2B1', 'G2B2', 'G2B3', 'G2B4', 'G2B5', 'G2B6', 'G2B7', 'G2G1', 'G2G2', 'G2G3', 'G2G4', 'G2G5', 'G2G6', 'G2G7', 'G3B1', 'G3B2', 'G3B3', 'G3B4', 'G3B5', 'G3B6', 'G3B7', 'G3G1', 'G3G2', 'G3G3', 'G3G4', 'G3G5', 'G3G6', 'G3G7', 'G4B1', 'G4B2', 'G4B3', 'G4B4', 'G4B5', 'G4B6', 'G4B7', 'G4G1', 'G4G2', 'G4G3', 'G4G4', 'G4G5', 'G4G6', 'G4G7', 'G5B1', 'G5B2', 'G5B3', 'G5B4', 'G5B5', 'G5B6', 'G5B7', 'G5G1', 'G5G2', 'G5G3', 'G5G4', 'G5G5', 'G5G6', 'G5G7', 'G6B1', 'G6B2', 'G6B3', 'G6B4', 'G6B5', 'G6B6', 'G6B7', 'G6G1', 'G6G2', 'G6G3', 'G6G4', 'G6G5', 'G6G6', 'G6G7', 'G7B1', 'G7B2', 'G7B3', 'G7B4', 'G7B5', 'G7B6', 'G7B7', 'G7G1', 'G7G2', 'G7G3', 'G7G4', 'G7G5', 'G7G6', 'G7G7']\n"
     ]
    }
   ],
   "source": [
    "sexesdays = {sex + day \n",
    "             for sex in 'GB' \n",
    "             for day in '1234567'}\n",
    "S3 = {older + younger\n",
    "     for older in sexesdays\n",
    "     for younger in sexesdays}\n",
    "\n",
    "assert len(S3) == (2*7)**2 == 196\n",
    "print(sorted(S3))"
   ]
  },
  {
   "cell_type": "markdown",
   "metadata": {},
   "source": [
    "We determine below that the probability of having at least one boy is 3/4, both in S3 and in S:"
   ]
  },
  {
   "cell_type": "code",
   "execution_count": 17,
   "metadata": {
    "collapsed": false
   },
   "outputs": [
    {
     "data": {
      "text/plain": [
       "Fraction(3, 4)"
      ]
     },
     "execution_count": 17,
     "metadata": {},
     "output_type": "execute_result"
    }
   ],
   "source": [
    "P(at_least_one_boy, S)"
   ]
  },
  {
   "cell_type": "code",
   "execution_count": 18,
   "metadata": {
    "collapsed": false
   },
   "outputs": [
    {
     "data": {
      "text/plain": [
       "Fraction(3, 4)"
      ]
     },
     "execution_count": 18,
     "metadata": {},
     "output_type": "execute_result"
    }
   ],
   "source": [
    "P(at_least_one_boy, S3)"
   ]
  },
  {
   "cell_type": "markdown",
   "metadata": {},
   "source": [
    "The probability of two boys is 1/4 in either sample space:"
   ]
  },
  {
   "cell_type": "code",
   "execution_count": 19,
   "metadata": {
    "collapsed": false
   },
   "outputs": [
    {
     "data": {
      "text/plain": [
       "Fraction(1, 4)"
      ]
     },
     "execution_count": 19,
     "metadata": {},
     "output_type": "execute_result"
    }
   ],
   "source": [
    "P(two_boys, S)"
   ]
  },
  {
   "cell_type": "code",
   "execution_count": 21,
   "metadata": {
    "collapsed": false
   },
   "outputs": [
    {
     "data": {
      "text/plain": [
       "Fraction(1, 4)"
      ]
     },
     "execution_count": 21,
     "metadata": {},
     "output_type": "execute_result"
    }
   ],
   "source": [
    "P(two_boys, S3)"
   ]
  },
  {
   "cell_type": "markdown",
   "metadata": {},
   "source": [
    "And the probability of two boys given at least one boy is 1/3 in either sample space:"
   ]
  },
  {
   "cell_type": "code",
   "execution_count": 22,
   "metadata": {
    "collapsed": false
   },
   "outputs": [
    {
     "data": {
      "text/plain": [
       "Fraction(1, 3)"
      ]
     },
     "execution_count": 22,
     "metadata": {},
     "output_type": "execute_result"
    }
   ],
   "source": [
    "P(two_boys, such_that(at_least_one_boy, S3))"
   ]
  },
  {
   "cell_type": "code",
   "execution_count": 23,
   "metadata": {
    "collapsed": false
   },
   "outputs": [
    {
     "data": {
      "text/plain": [
       "Fraction(1, 3)"
      ]
     },
     "execution_count": 23,
     "metadata": {},
     "output_type": "execute_result"
    }
   ],
   "source": [
    "P(two_boys, such_that(at_least_one_boy, S))"
   ]
  },
  {
   "cell_type": "markdown",
   "metadata": {},
   "source": [
    "We will define a predicate for the event of at least one boy born on Tuesday"
   ]
  },
  {
   "cell_type": "code",
   "execution_count": 25,
   "metadata": {
    "collapsed": true
   },
   "outputs": [],
   "source": [
    "def at_least_one_boy_tues(outcome): return 'B3' in outcome"
   ]
  },
  {
   "cell_type": "markdown",
   "metadata": {},
   "source": [
    "We are now ready to answer Problem 3:"
   ]
  },
  {
   "cell_type": "code",
   "execution_count": 26,
   "metadata": {
    "collapsed": false
   },
   "outputs": [
    {
     "data": {
      "text/plain": [
       "Fraction(13, 27)"
      ]
     },
     "execution_count": 26,
     "metadata": {},
     "output_type": "execute_result"
    }
   ],
   "source": [
    "P(two_boys, such_that(at_least_one_boy_tues, S3))"
   ]
  },
  {
   "cell_type": "markdown",
   "metadata": {},
   "source": [
    "## The Sleeping Beauty Paradox\n",
    "\n",
    "The [Sleeping Beauty Paradox](https://en.wikipedia.org/wiki/Sleeping_Beauty_problem) is another tricky one:\n",
    "\n",
    "> Sleeping Beauty volunteers to undergo the following experiment and is told all of the following details: On Sunday she will be put to sleep. Once or twice, during the experiment, Beauty will be awakened, interviewed, and put back to sleep with an amnesia-inducing drug that makes her forget that awakening. A fir coin will be tossed to determine which experimental procedure to undertake: if the coin comes up heads, Beauty will be awakened and interviewed on Monday only. If the coin comes up tails, she will awakened and interviewed on Monday and Tuesday. In either case, shell will be awakened on Wenesday without interview and the experiment ends. Any time Sleeping Beauty is awakened and interviewed, she is asked, \"What is your belief now for the proposition that the coin landed heads?\"\n",
    "\n",
    "What should Sleeping Beauty say when she is interviewed? First, she should define the sample space. She could use the notation 'heads/Monday/interviewed' to mean the outcome where the coin flip was heads. It is Monday, and she is interviewed. So it seems there are 4 equiproable outcomes:"
   ]
  },
  {
   "cell_type": "code",
   "execution_count": 27,
   "metadata": {
    "collapsed": true
   },
   "outputs": [],
   "source": [
    "B = {'heads/Monday/interviewed', 'heads/Tuesday/sleep',\n",
    "     'tails/Monday/interviewed', 'tails/Tuesday/interviewed'}"
   ]
  },
  {
   "cell_type": "markdown",
   "metadata": {},
   "source": [
    "We define a predicate-defining function:"
   ]
  },
  {
   "cell_type": "code",
   "execution_count": 4,
   "metadata": {
    "collapsed": true
   },
   "outputs": [],
   "source": [
    "def T(property):\n",
    "    \"\"\"Return a predicate that is true of all outcomes \n",
    "    that have property as substrings\"\"\"\n",
    "    return lambda outcome: property in outcome"
   ]
  },
  {
   "cell_type": "markdown",
   "metadata": {},
   "source": [
    "Now we can get the answer:"
   ]
  },
  {
   "cell_type": "code",
   "execution_count": 29,
   "metadata": {
    "collapsed": false
   },
   "outputs": [
    {
     "data": {
      "text/plain": [
       "Fraction(1, 3)"
      ]
     },
     "execution_count": 29,
     "metadata": {},
     "output_type": "execute_result"
    }
   ],
   "source": [
    "heads = T(\"heads\")\n",
    "interviewed = T(\"interviewed\")\n",
    "P(heads, such_that(interviewed, B))"
   ]
  },
  {
   "cell_type": "markdown",
   "metadata": {},
   "source": [
    "## The Monty Hall Paradox\n",
    "\n",
    "[This](https://en.wikipedia.org/wiki/Monty_Hall_problem) is one of the most famous probability paradoxes. It can be stated as follows:\n",
    "\n",
    "> Suppose you're on a game show, and you're given the choice of three doors: Behind one door is a car; behind the others, goats. You pick a door, say No. 1, and the host, who knows what's behind the doors, opens another door, say No. 3, which has a goat. He then says to you, \"Do you want to pick door No. 2?\" Is it to your advantage to switch your choice?\n",
    "\n",
    "To solve this problem, all we have to do is be careful about how we define our sample spaces. The problem includes 3 actions:\n",
    "* The car is put behind a door\n",
    "* You choose a door\n",
    "* The host open a door with a goat behind it\n",
    "\n",
    "We have a sample spaces with following outcomes:"
   ]
  },
  {
   "cell_type": "code",
   "execution_count": 13,
   "metadata": {
    "collapsed": false
   },
   "outputs": [],
   "source": [
    "M = {'Car1/Open2/W', 'Car1/Open3/W',\n",
    "     'Car1/Open2/L', 'Car1/Open3/L',\n",
    "     'Car2/Open3/W', 'Car2/Open3/L',\n",
    "     'Car3/Open2/W', 'Car3/Open2/L'}"
   ]
  },
  {
   "cell_type": "markdown",
   "metadata": {},
   "source": [
    "Assume that the contestant picks the door 1, and the host opens the door 3, what is the probability that the car is behind door 1? Or door 2?"
   ]
  },
  {
   "cell_type": "code",
   "execution_count": 14,
   "metadata": {
    "collapsed": false
   },
   "outputs": [
    {
     "data": {
      "text/plain": [
       "{'Car1/Open3/L', 'Car1/Open3/W', 'Car2/Open3/L', 'Car2/Open3/W'}"
      ]
     },
     "execution_count": 14,
     "metadata": {},
     "output_type": "execute_result"
    }
   ],
   "source": [
    "such_that(T(\"Open3\"), M)"
   ]
  },
  {
   "cell_type": "code",
   "execution_count": 7,
   "metadata": {
    "collapsed": false
   },
   "outputs": [
    {
     "data": {
      "text/plain": [
       "Fraction(1, 2)"
      ]
     },
     "execution_count": 7,
     "metadata": {},
     "output_type": "execute_result"
    }
   ],
   "source": [
    "P(T(\"Car1\"), such_that(T(\"Open3\"), M))"
   ]
  },
  {
   "cell_type": "code",
   "execution_count": 46,
   "metadata": {
    "collapsed": false
   },
   "outputs": [
    {
     "data": {
      "text/plain": [
       "Fraction(1, 2)"
      ]
     },
     "execution_count": 46,
     "metadata": {},
     "output_type": "execute_result"
    }
   ],
   "source": [
    "P(T(\"Car2\"), such_that(T(\"Open3\"), M))"
   ]
  }
 ],
 "metadata": {
  "kernelspec": {
   "display_name": "Python 3",
   "language": "python",
   "name": "python3"
  }
 },
 "nbformat": 4,
 "nbformat_minor": 0
}
