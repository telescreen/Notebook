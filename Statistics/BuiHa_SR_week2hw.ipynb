{
 "cells": [
  {
   "cell_type": "code",
   "execution_count": 1,
   "id": "00b43108-e0bc-4d18-9877-b30946a607ad",
   "metadata": {},
   "outputs": [],
   "source": [
    "import numpy as np\n",
    "import scipy.stats as stats\n",
    "import pandas as pd\n",
    "import matplotlib.pyplot as plt\n",
    "import pymc as pm\n",
    "import arviz as az\n",
    "import xarray as xr\n",
    "\n",
    "%matplotlib inline\n",
    "az.rcParams[\"stats.hdi_prob\"] = 0.89\n",
    "az.style.use(\"bmh\")"
   ]
  },
  {
   "cell_type": "code",
   "execution_count": 2,
   "id": "0b124b11-0694-46b5-a3ca-48d3200b4906",
   "metadata": {},
   "outputs": [
    {
     "name": "stderr",
     "output_type": "stream",
     "text": [
      "Auto-assigning NUTS sampler...\n",
      "Initializing NUTS using jitter+adapt_diag...\n",
      "/home/telescreen/miniconda3/envs/data/lib/python3.9/site-packages/pymc/model.py:984: FutureWarning: `Model.initial_point` has been deprecated. Use `Model.recompute_initial_point(seed=None)`.\n",
      "  warnings.warn(\n",
      "Multiprocess sampling (4 chains in 4 jobs)\n",
      "NUTS: [a, b, sigma]\n",
      "/home/telescreen/miniconda3/envs/data/lib/python3.9/site-packages/pymc/model.py:984: FutureWarning: `Model.initial_point` has been deprecated. Use `Model.recompute_initial_point(seed=None)`.\n",
      "  warnings.warn(\n"
     ]
    },
    {
     "data": {
      "text/html": [
       "\n",
       "    <div>\n",
       "        <style>\n",
       "            /* Turns off some styling */\n",
       "            progress {\n",
       "                /* gets rid of default border in Firefox and Opera. */\n",
       "                border: none;\n",
       "                /* Needs to be in here for Safari polyfill so background images work as expected. */\n",
       "                background-size: auto;\n",
       "            }\n",
       "            .progress-bar-interrupted, .progress-bar-interrupted::-webkit-progress-bar {\n",
       "                background: #F44336;\n",
       "            }\n",
       "        </style>\n",
       "      <progress value='8000' class='' max='8000' style='width:300px; height:20px; vertical-align: middle;'></progress>\n",
       "      100.00% [8000/8000 00:02<00:00 Sampling 4 chains, 0 divergences]\n",
       "    </div>\n",
       "    "
      ],
      "text/plain": [
       "<IPython.core.display.HTML object>"
      ]
     },
     "metadata": {},
     "output_type": "display_data"
    },
    {
     "name": "stderr",
     "output_type": "stream",
     "text": [
      "Sampling 4 chains for 1_000 tune and 1_000 draw iterations (4_000 + 4_000 draws total) took 3 seconds.\n"
     ]
    },
    {
     "data": {
      "text/html": [
       "<div>\n",
       "<style scoped>\n",
       "    .dataframe tbody tr th:only-of-type {\n",
       "        vertical-align: middle;\n",
       "    }\n",
       "\n",
       "    .dataframe tbody tr th {\n",
       "        vertical-align: top;\n",
       "    }\n",
       "\n",
       "    .dataframe thead th {\n",
       "        text-align: right;\n",
       "    }\n",
       "</style>\n",
       "<table border=\"1\" class=\"dataframe\">\n",
       "  <thead>\n",
       "    <tr style=\"text-align: right;\">\n",
       "      <th></th>\n",
       "      <th>mean</th>\n",
       "      <th>sd</th>\n",
       "      <th>hdi_5.5%</th>\n",
       "      <th>hdi_94.5%</th>\n",
       "      <th>mcse_mean</th>\n",
       "      <th>mcse_sd</th>\n",
       "      <th>ess_bulk</th>\n",
       "      <th>ess_tail</th>\n",
       "      <th>r_hat</th>\n",
       "    </tr>\n",
       "  </thead>\n",
       "  <tbody>\n",
       "    <tr>\n",
       "      <th>a</th>\n",
       "      <td>44.996</td>\n",
       "      <td>0.231</td>\n",
       "      <td>44.609</td>\n",
       "      <td>45.345</td>\n",
       "      <td>0.003</td>\n",
       "      <td>0.002</td>\n",
       "      <td>5415.0</td>\n",
       "      <td>3081.0</td>\n",
       "      <td>1.0</td>\n",
       "    </tr>\n",
       "    <tr>\n",
       "      <th>b</th>\n",
       "      <td>0.629</td>\n",
       "      <td>0.030</td>\n",
       "      <td>0.581</td>\n",
       "      <td>0.677</td>\n",
       "      <td>0.000</td>\n",
       "      <td>0.000</td>\n",
       "      <td>5205.0</td>\n",
       "      <td>2668.0</td>\n",
       "      <td>1.0</td>\n",
       "    </tr>\n",
       "    <tr>\n",
       "      <th>sigma</th>\n",
       "      <td>4.255</td>\n",
       "      <td>0.163</td>\n",
       "      <td>4.009</td>\n",
       "      <td>4.518</td>\n",
       "      <td>0.002</td>\n",
       "      <td>0.002</td>\n",
       "      <td>5597.0</td>\n",
       "      <td>2810.0</td>\n",
       "      <td>1.0</td>\n",
       "    </tr>\n",
       "  </tbody>\n",
       "</table>\n",
       "</div>"
      ],
      "text/plain": [
       "         mean     sd  hdi_5.5%  hdi_94.5%  mcse_mean  mcse_sd  ess_bulk  \\\n",
       "a      44.996  0.231    44.609     45.345      0.003    0.002    5415.0   \n",
       "b       0.629  0.030     0.581      0.677      0.000    0.000    5205.0   \n",
       "sigma   4.255  0.163     4.009      4.518      0.002    0.002    5597.0   \n",
       "\n",
       "       ess_tail  r_hat  \n",
       "a        3081.0    1.0  \n",
       "b        2668.0    1.0  \n",
       "sigma    2810.0    1.0  "
      ]
     },
     "execution_count": 2,
     "metadata": {},
     "output_type": "execute_result"
    }
   ],
   "source": [
    "#%% Read data from csv and do the regression.\n",
    "howell = pd.read_csv('Data/Howell1.csv', sep=';')\n",
    "adults = howell[howell.age >= 18]\n",
    "\n",
    "#%% Regression weight ~ height.\n",
    "height_bar = adults.height.mean()\n",
    "with pm.Model() as weight_model:\n",
    "    adults_height = pm.Data('adults_height', adults.height.values)\n",
    "    a = pm.Normal(\"a\", 60, 10)\n",
    "    b = pm.Lognormal(\"b\", 0, 1)\n",
    "    sigma = pm.Uniform(\"sigma\", 0, 10)\n",
    "    mu = a + b * (adults_height - height_bar)    \n",
    "    w = pm.Normal(\"weight\", mu, sigma, observed=adults.weight.values)\n",
    "    idata = pm.sample()    \n",
    "\n",
    "az.summary(idata)"
   ]
  },
  {
   "cell_type": "code",
   "execution_count": 3,
   "id": "104444aa-b367-46a0-9a00-9bcb8289f769",
   "metadata": {},
   "outputs": [
    {
     "data": {
      "text/html": [
       "\n",
       "    <div>\n",
       "        <style>\n",
       "            /* Turns off some styling */\n",
       "            progress {\n",
       "                /* gets rid of default border in Firefox and Opera. */\n",
       "                border: none;\n",
       "                /* Needs to be in here for Safari polyfill so background images work as expected. */\n",
       "                background-size: auto;\n",
       "            }\n",
       "            .progress-bar-interrupted, .progress-bar-interrupted::-webkit-progress-bar {\n",
       "                background: #F44336;\n",
       "            }\n",
       "        </style>\n",
       "      <progress value='4000' class='' max='4000' style='width:300px; height:20px; vertical-align: middle;'></progress>\n",
       "      100.00% [4000/4000 00:00<00:00]\n",
       "    </div>\n",
       "    "
      ],
      "text/plain": [
       "<IPython.core.display.HTML object>"
      ]
     },
     "metadata": {},
     "output_type": "display_data"
    }
   ],
   "source": [
    "with weight_model:\n",
    "    weight_pred = pm.sample_posterior_predictive(idata)"
   ]
  },
  {
   "cell_type": "code",
   "execution_count": 4,
   "id": "f5ee04e1-6dd8-48b9-b276-0ad0d87912b5",
   "metadata": {},
   "outputs": [
    {
     "data": {
      "text/plain": [
       "Text(0, 0.5, 'weight')"
      ]
     },
     "execution_count": 4,
     "metadata": {},
     "output_type": "execute_result"
    },
    {
     "data": {
      "image/png": "[encoded data removed]",
      "text/plain": [
       "<Figure size 432x288 with 1 Axes>"
      ]
     },
     "metadata": {
      "needs_background": "light"
     },
     "output_type": "display_data"
    }
   ],
   "source": [
    "plt.scatter(adults.height, adults.weight)\n",
    "az.plot_hdi(adults.height, weight_pred.posterior_predictive['weight'], \n",
    "            fill_kwargs={'alpha':0.4})\n",
    "plt.xlabel('height')\n",
    "plt.ylabel('weight')"
   ]
  },
  {
   "cell_type": "markdown",
   "id": "bc6dfa88-433e-42b3-aec9-486736b37d84",
   "metadata": {},
   "source": [
    "### Predict using set_data"
   ]
  },
  {
   "cell_type": "code",
   "execution_count": 5,
   "id": "665fd1b4-82e8-446e-9e94-de0fc4a65d0c",
   "metadata": {},
   "outputs": [
    {
     "data": {
      "text/html": [
       "\n",
       "    <div>\n",
       "        <style>\n",
       "            /* Turns off some styling */\n",
       "            progress {\n",
       "                /* gets rid of default border in Firefox and Opera. */\n",
       "                border: none;\n",
       "                /* Needs to be in here for Safari polyfill so background images work as expected. */\n",
       "                background-size: auto;\n",
       "            }\n",
       "            .progress-bar-interrupted, .progress-bar-interrupted::-webkit-progress-bar {\n",
       "                background: #F44336;\n",
       "            }\n",
       "        </style>\n",
       "      <progress value='4000' class='' max='4000' style='width:300px; height:20px; vertical-align: middle;'></progress>\n",
       "      100.00% [4000/4000 00:00<00:00]\n",
       "    </div>\n",
       "    "
      ],
      "text/plain": [
       "<IPython.core.display.HTML object>"
      ]
     },
     "metadata": {},
     "output_type": "display_data"
    }
   ],
   "source": [
    "with weight_model:\n",
    "    pm.set_data({'adults_height': [140, 160, 175]})\n",
    "    weight_pred = pm.sample_posterior_predictive(idata)"
   ]
  },
  {
   "cell_type": "code",
   "execution_count": 6,
   "id": "fffdef6e-a198-4944-910b-abfde3ff6fdd",
   "metadata": {},
   "outputs": [
    {
     "data": {
      "text/plain": [
       "array([35.74780881, 48.33125565, 57.90549215])"
      ]
     },
     "execution_count": 6,
     "metadata": {},
     "output_type": "execute_result"
    }
   ],
   "source": [
    "weight_pred.posterior_predictive.weight.mean(dim=['chain', 'draw']).values"
   ]
  },
  {
   "cell_type": "code",
   "execution_count": 7,
   "id": "22fddf65-b85d-4c17-bcec-d7dfe73a74e6",
   "metadata": {},
   "outputs": [
    {
     "data": {
      "text/plain": [
       "array([[28.20968976, 41.7912933 ],\n",
       "       [41.27680525, 54.72029058],\n",
       "       [50.88347476, 64.51552654]])"
      ]
     },
     "execution_count": 7,
     "metadata": {},
     "output_type": "execute_result"
    }
   ],
   "source": [
    "az.hdi(weight_pred.posterior_predictive).weight.values"
   ]
  },
  {
   "cell_type": "markdown",
   "id": "bedaffb1-be73-4b37-a169-670c7596ce93",
   "metadata": {},
   "source": [
    "### Predict using sampling"
   ]
  },
  {
   "cell_type": "code",
   "execution_count": 8,
   "id": "4f185920-8145-444f-9b65-d8a56bdad5df",
   "metadata": {},
   "outputs": [
    {
     "name": "stdout",
     "output_type": "stream",
     "text": [
      "140 35.90 28.87 42.47\n",
      "160 48.35 41.75 55.06\n",
      "175 57.82 50.64 64.42\n"
     ]
    }
   ],
   "source": [
    "input_height = np.array([140, 160, 175])\n",
    "for height in input_height:\n",
    "    draw = stats.norm.rvs(\n",
    "        loc=idata.posterior['a'] + idata.posterior['b']*(height - height_bar),\n",
    "        scale=idata.posterior['sigma']).reshape(-1)\n",
    "    wmean = draw.mean()\n",
    "    whdi = az.hdi(draw)\n",
    "    print(\"{} {:0.2f} {:0.2f} {:.2f}\".format(height, wmean, whdi[0], whdi[1]))"
   ]
  },
  {
   "cell_type": "markdown",
   "id": "f620d626-51b5-4cf8-9bd0-e3ad2d4cc321",
   "metadata": {},
   "source": [
    "## Under 13 Predicting"
   ]
  },
  {
   "cell_type": "code",
   "execution_count": 9,
   "id": "f0df9c55-dbe7-4a4f-b70e-db0bf4af3eff",
   "metadata": {},
   "outputs": [
    {
     "data": {
      "text/html": [
       "<div>\n",
       "<style scoped>\n",
       "    .dataframe tbody tr th:only-of-type {\n",
       "        vertical-align: middle;\n",
       "    }\n",
       "\n",
       "    .dataframe tbody tr th {\n",
       "        vertical-align: top;\n",
       "    }\n",
       "\n",
       "    .dataframe thead th {\n",
       "        text-align: right;\n",
       "    }\n",
       "</style>\n",
       "<table border=\"1\" class=\"dataframe\">\n",
       "  <thead>\n",
       "    <tr style=\"text-align: right;\">\n",
       "      <th></th>\n",
       "      <th>height</th>\n",
       "      <th>weight</th>\n",
       "      <th>age</th>\n",
       "      <th>male</th>\n",
       "    </tr>\n",
       "  </thead>\n",
       "  <tbody>\n",
       "    <tr>\n",
       "      <th>count</th>\n",
       "      <td>146.000000</td>\n",
       "      <td>146.000000</td>\n",
       "      <td>146.000000</td>\n",
       "      <td>146.000000</td>\n",
       "    </tr>\n",
       "    <tr>\n",
       "      <th>mean</th>\n",
       "      <td>98.810729</td>\n",
       "      <td>14.693328</td>\n",
       "      <td>5.401370</td>\n",
       "      <td>0.486301</td>\n",
       "    </tr>\n",
       "    <tr>\n",
       "      <th>std</th>\n",
       "      <td>21.489527</td>\n",
       "      <td>5.722741</td>\n",
       "      <td>3.824657</td>\n",
       "      <td>0.501533</td>\n",
       "    </tr>\n",
       "    <tr>\n",
       "      <th>min</th>\n",
       "      <td>53.975000</td>\n",
       "      <td>4.252425</td>\n",
       "      <td>0.000000</td>\n",
       "      <td>0.000000</td>\n",
       "    </tr>\n",
       "    <tr>\n",
       "      <th>25%</th>\n",
       "      <td>84.455000</td>\n",
       "      <td>10.829509</td>\n",
       "      <td>2.000000</td>\n",
       "      <td>0.000000</td>\n",
       "    </tr>\n",
       "    <tr>\n",
       "      <th>50%</th>\n",
       "      <td>98.844100</td>\n",
       "      <td>13.792032</td>\n",
       "      <td>5.000000</td>\n",
       "      <td>0.000000</td>\n",
       "    </tr>\n",
       "    <tr>\n",
       "      <th>75%</th>\n",
       "      <td>114.300000</td>\n",
       "      <td>18.335039</td>\n",
       "      <td>8.000000</td>\n",
       "      <td>1.000000</td>\n",
       "    </tr>\n",
       "    <tr>\n",
       "      <th>max</th>\n",
       "      <td>147.955000</td>\n",
       "      <td>32.488527</td>\n",
       "      <td>12.000000</td>\n",
       "      <td>1.000000</td>\n",
       "    </tr>\n",
       "  </tbody>\n",
       "</table>\n",
       "</div>"
      ],
      "text/plain": [
       "           height      weight         age        male\n",
       "count  146.000000  146.000000  146.000000  146.000000\n",
       "mean    98.810729   14.693328    5.401370    0.486301\n",
       "std     21.489527    5.722741    3.824657    0.501533\n",
       "min     53.975000    4.252425    0.000000    0.000000\n",
       "25%     84.455000   10.829509    2.000000    0.000000\n",
       "50%     98.844100   13.792032    5.000000    0.000000\n",
       "75%    114.300000   18.335039    8.000000    1.000000\n",
       "max    147.955000   32.488527   12.000000    1.000000"
      ]
     },
     "execution_count": 9,
     "metadata": {},
     "output_type": "execute_result"
    }
   ],
   "source": [
    "under13 = howell[howell.age < 13]\n",
    "under13.describe()"
   ]
  },
  {
   "cell_type": "code",
   "execution_count": 10,
   "id": "b0ee3fd4-6b05-4ea4-8cf0-f167fa6260fd",
   "metadata": {},
   "outputs": [
    {
     "name": "stderr",
     "output_type": "stream",
     "text": [
      "Auto-assigning NUTS sampler...\n",
      "Initializing NUTS using jitter+adapt_diag...\n",
      "/home/telescreen/miniconda3/envs/data/lib/python3.9/site-packages/pymc/model.py:984: FutureWarning: `Model.initial_point` has been deprecated. Use `Model.recompute_initial_point(seed=None)`.\n",
      "  warnings.warn(\n",
      "Multiprocess sampling (4 chains in 4 jobs)\n",
      "NUTS: [a, b, sigma]\n",
      "/home/telescreen/miniconda3/envs/data/lib/python3.9/site-packages/pymc/model.py:984: FutureWarning: `Model.initial_point` has been deprecated. Use `Model.recompute_initial_point(seed=None)`.\n",
      "  warnings.warn(\n"
     ]
    },
    {
     "data": {
      "text/html": [
       "\n",
       "    <div>\n",
       "        <style>\n",
       "            /* Turns off some styling */\n",
       "            progress {\n",
       "                /* gets rid of default border in Firefox and Opera. */\n",
       "                border: none;\n",
       "                /* Needs to be in here for Safari polyfill so background images work as expected. */\n",
       "                background-size: auto;\n",
       "            }\n",
       "            .progress-bar-interrupted, .progress-bar-interrupted::-webkit-progress-bar {\n",
       "                background: #F44336;\n",
       "            }\n",
       "        </style>\n",
       "      <progress value='8000' class='' max='8000' style='width:300px; height:20px; vertical-align: middle;'></progress>\n",
       "      100.00% [8000/8000 00:03<00:00 Sampling 4 chains, 0 divergences]\n",
       "    </div>\n",
       "    "
      ],
      "text/plain": [
       "<IPython.core.display.HTML object>"
      ]
     },
     "metadata": {},
     "output_type": "display_data"
    },
    {
     "name": "stderr",
     "output_type": "stream",
     "text": [
      "Sampling 4 chains for 1_000 tune and 1_000 draw iterations (4_000 + 4_000 draws total) took 3 seconds.\n"
     ]
    },
    {
     "data": {
      "text/html": [
       "<div>\n",
       "<style scoped>\n",
       "    .dataframe tbody tr th:only-of-type {\n",
       "        vertical-align: middle;\n",
       "    }\n",
       "\n",
       "    .dataframe tbody tr th {\n",
       "        vertical-align: top;\n",
       "    }\n",
       "\n",
       "    .dataframe thead th {\n",
       "        text-align: right;\n",
       "    }\n",
       "</style>\n",
       "<table border=\"1\" class=\"dataframe\">\n",
       "  <thead>\n",
       "    <tr style=\"text-align: right;\">\n",
       "      <th></th>\n",
       "      <th>mean</th>\n",
       "      <th>sd</th>\n",
       "      <th>hdi_5.5%</th>\n",
       "      <th>hdi_94.5%</th>\n",
       "      <th>mcse_mean</th>\n",
       "      <th>mcse_sd</th>\n",
       "      <th>ess_bulk</th>\n",
       "      <th>ess_tail</th>\n",
       "      <th>r_hat</th>\n",
       "    </tr>\n",
       "  </thead>\n",
       "  <tbody>\n",
       "    <tr>\n",
       "      <th>a</th>\n",
       "      <td>7.16</td>\n",
       "      <td>0.35</td>\n",
       "      <td>6.58</td>\n",
       "      <td>7.70</td>\n",
       "      <td>0.01</td>\n",
       "      <td>0.01</td>\n",
       "      <td>1934.03</td>\n",
       "      <td>2463.21</td>\n",
       "      <td>1.0</td>\n",
       "    </tr>\n",
       "    <tr>\n",
       "      <th>b</th>\n",
       "      <td>1.38</td>\n",
       "      <td>0.05</td>\n",
       "      <td>1.29</td>\n",
       "      <td>1.46</td>\n",
       "      <td>0.00</td>\n",
       "      <td>0.00</td>\n",
       "      <td>2051.63</td>\n",
       "      <td>2243.80</td>\n",
       "      <td>1.0</td>\n",
       "    </tr>\n",
       "    <tr>\n",
       "      <th>sigma</th>\n",
       "      <td>2.55</td>\n",
       "      <td>0.15</td>\n",
       "      <td>2.30</td>\n",
       "      <td>2.77</td>\n",
       "      <td>0.00</td>\n",
       "      <td>0.00</td>\n",
       "      <td>2392.77</td>\n",
       "      <td>2100.70</td>\n",
       "      <td>1.0</td>\n",
       "    </tr>\n",
       "  </tbody>\n",
       "</table>\n",
       "</div>"
      ],
      "text/plain": [
       "       mean    sd  hdi_5.5%  hdi_94.5%  mcse_mean  mcse_sd  ess_bulk  \\\n",
       "a      7.16  0.35      6.58       7.70       0.01     0.01   1934.03   \n",
       "b      1.38  0.05      1.29       1.46       0.00     0.00   2051.63   \n",
       "sigma  2.55  0.15      2.30       2.77       0.00     0.00   2392.77   \n",
       "\n",
       "       ess_tail  r_hat  \n",
       "a       2463.21    1.0  \n",
       "b       2243.80    1.0  \n",
       "sigma   2100.70    1.0  "
      ]
     },
     "execution_count": 10,
     "metadata": {},
     "output_type": "execute_result"
    }
   ],
   "source": [
    "with pm.Model() as age_model:\n",
    "    data = pm.Data('observed_weight', under13.weight)\n",
    "    a = pm.Normal(\"a\", 5, 1)\n",
    "    b = pm.Lognormal(\"b\", 0, 1)\n",
    "    sigma = pm.Exponential(\"sigma\", 1)\n",
    "    mu = a + b * under13.age.values\n",
    "    w = pm.Normal(\"weight\", mu, sigma, observed=data)\n",
    "    idata_age = pm.sample()\n",
    "    \n",
    "az.summary(idata_age, round_to=2)"
   ]
  },
  {
   "cell_type": "code",
   "execution_count": 11,
   "id": "a8dd2cf1-3241-4aab-8ab2-35981a1013f6",
   "metadata": {},
   "outputs": [
    {
     "name": "stderr",
     "output_type": "stream",
     "text": [
      "Auto-assigning NUTS sampler...\n",
      "Initializing NUTS using jitter+adapt_diag...\n",
      "/home/telescreen/miniconda3/envs/data/lib/python3.9/site-packages/pymc/model.py:984: FutureWarning: `Model.initial_point` has been deprecated. Use `Model.recompute_initial_point(seed=None)`.\n",
      "  warnings.warn(\n",
      "Multiprocess sampling (4 chains in 4 jobs)\n",
      "NUTS: [a, b, sigma]\n",
      "/home/telescreen/miniconda3/envs/data/lib/python3.9/site-packages/pymc/model.py:984: FutureWarning: `Model.initial_point` has been deprecated. Use `Model.recompute_initial_point(seed=None)`.\n",
      "  warnings.warn(\n"
     ]
    },
    {
     "data": {
      "text/html": [
       "\n",
       "    <div>\n",
       "        <style>\n",
       "            /* Turns off some styling */\n",
       "            progress {\n",
       "                /* gets rid of default border in Firefox and Opera. */\n",
       "                border: none;\n",
       "                /* Needs to be in here for Safari polyfill so background images work as expected. */\n",
       "                background-size: auto;\n",
       "            }\n",
       "            .progress-bar-interrupted, .progress-bar-interrupted::-webkit-progress-bar {\n",
       "                background: #F44336;\n",
       "            }\n",
       "        </style>\n",
       "      <progress value='8000' class='' max='8000' style='width:300px; height:20px; vertical-align: middle;'></progress>\n",
       "      100.00% [8000/8000 00:04<00:00 Sampling 4 chains, 0 divergences]\n",
       "    </div>\n",
       "    "
      ],
      "text/plain": [
       "<IPython.core.display.HTML object>"
      ]
     },
     "metadata": {},
     "output_type": "display_data"
    },
    {
     "name": "stderr",
     "output_type": "stream",
     "text": [
      "Sampling 4 chains for 1_000 tune and 1_000 draw iterations (4_000 + 4_000 draws total) took 4 seconds.\n"
     ]
    }
   ],
   "source": [
    "sdx = under13.male.values\n",
    "with pm.Model() as age_model2:\n",
    "    age = pm.Data(\"Age\", under13.age.values)\n",
    "    sex = pm.Data(\"Sex\", under13.male.values)\n",
    "    a = pm.Normal(\"a\", 5, 1, shape=2)\n",
    "    b = pm.Lognormal(\"b\", 0, 1, shape=2)\n",
    "    sigma = pm.Exponential(\"sigma\", 1)\n",
    "    mu = a[sex] + b[sex] * age\n",
    "    w = pm.Normal(\"weight\", mu, sigma, observed=under13.weight)\n",
    "    idata_age2 = pm.sample()"
   ]
  },
  {
   "cell_type": "code",
   "execution_count": 12,
   "id": "7b7c20c6-d7b5-4044-b3fa-c7328706372d",
   "metadata": {},
   "outputs": [
    {
     "data": {
      "text/html": [
       "<div>\n",
       "<style scoped>\n",
       "    .dataframe tbody tr th:only-of-type {\n",
       "        vertical-align: middle;\n",
       "    }\n",
       "\n",
       "    .dataframe tbody tr th {\n",
       "        vertical-align: top;\n",
       "    }\n",
       "\n",
       "    .dataframe thead th {\n",
       "        text-align: right;\n",
       "    }\n",
       "</style>\n",
       "<table border=\"1\" class=\"dataframe\">\n",
       "  <thead>\n",
       "    <tr style=\"text-align: right;\">\n",
       "      <th></th>\n",
       "      <th>mean</th>\n",
       "      <th>sd</th>\n",
       "      <th>hdi_5.5%</th>\n",
       "      <th>hdi_94.5%</th>\n",
       "      <th>mcse_mean</th>\n",
       "      <th>mcse_sd</th>\n",
       "      <th>ess_bulk</th>\n",
       "      <th>ess_tail</th>\n",
       "      <th>r_hat</th>\n",
       "    </tr>\n",
       "  </thead>\n",
       "  <tbody>\n",
       "    <tr>\n",
       "      <th>a[0]</th>\n",
       "      <td>6.69</td>\n",
       "      <td>0.44</td>\n",
       "      <td>6.05</td>\n",
       "      <td>7.46</td>\n",
       "      <td>0.01</td>\n",
       "      <td>0.01</td>\n",
       "      <td>2597.67</td>\n",
       "      <td>2599.23</td>\n",
       "      <td>1.0</td>\n",
       "    </tr>\n",
       "    <tr>\n",
       "      <th>a[1]</th>\n",
       "      <td>7.30</td>\n",
       "      <td>0.48</td>\n",
       "      <td>6.51</td>\n",
       "      <td>8.03</td>\n",
       "      <td>0.01</td>\n",
       "      <td>0.01</td>\n",
       "      <td>2650.47</td>\n",
       "      <td>2050.26</td>\n",
       "      <td>1.0</td>\n",
       "    </tr>\n",
       "    <tr>\n",
       "      <th>b[0]</th>\n",
       "      <td>1.33</td>\n",
       "      <td>0.07</td>\n",
       "      <td>1.22</td>\n",
       "      <td>1.44</td>\n",
       "      <td>0.00</td>\n",
       "      <td>0.00</td>\n",
       "      <td>2661.53</td>\n",
       "      <td>2575.45</td>\n",
       "      <td>1.0</td>\n",
       "    </tr>\n",
       "    <tr>\n",
       "      <th>b[1]</th>\n",
       "      <td>1.46</td>\n",
       "      <td>0.08</td>\n",
       "      <td>1.34</td>\n",
       "      <td>1.58</td>\n",
       "      <td>0.00</td>\n",
       "      <td>0.00</td>\n",
       "      <td>2438.54</td>\n",
       "      <td>1892.84</td>\n",
       "      <td>1.0</td>\n",
       "    </tr>\n",
       "    <tr>\n",
       "      <th>sigma</th>\n",
       "      <td>2.47</td>\n",
       "      <td>0.15</td>\n",
       "      <td>2.24</td>\n",
       "      <td>2.70</td>\n",
       "      <td>0.00</td>\n",
       "      <td>0.00</td>\n",
       "      <td>2670.17</td>\n",
       "      <td>2176.75</td>\n",
       "      <td>1.0</td>\n",
       "    </tr>\n",
       "  </tbody>\n",
       "</table>\n",
       "</div>"
      ],
      "text/plain": [
       "       mean    sd  hdi_5.5%  hdi_94.5%  mcse_mean  mcse_sd  ess_bulk  \\\n",
       "a[0]   6.69  0.44      6.05       7.46       0.01     0.01   2597.67   \n",
       "a[1]   7.30  0.48      6.51       8.03       0.01     0.01   2650.47   \n",
       "b[0]   1.33  0.07      1.22       1.44       0.00     0.00   2661.53   \n",
       "b[1]   1.46  0.08      1.34       1.58       0.00     0.00   2438.54   \n",
       "sigma  2.47  0.15      2.24       2.70       0.00     0.00   2670.17   \n",
       "\n",
       "       ess_tail  r_hat  \n",
       "a[0]    2599.23    1.0  \n",
       "a[1]    2050.26    1.0  \n",
       "b[0]    2575.45    1.0  \n",
       "b[1]    1892.84    1.0  \n",
       "sigma   2176.75    1.0  "
      ]
     },
     "execution_count": 12,
     "metadata": {},
     "output_type": "execute_result"
    }
   ],
   "source": [
    "az.summary(idata_age2, var_names=['a', 'b', 'sigma'], round_to=2)"
   ]
  },
  {
   "cell_type": "code",
   "execution_count": 15,
   "id": "9356c84e-b303-4378-9d2b-68ca0040be2f",
   "metadata": {},
   "outputs": [],
   "source": [
    "AgeSeq = xr.DataArray(np.arange(0,13), dims='plot')\n",
    "mu = idata_age2.posterior['a'] + idata_age2.posterior['b'] * AgeSeq\n",
    "muG = mu.sel(a_dim_0=0, b_dim_0=0)\n",
    "muB = mu.sel(a_dim_0=1, b_dim_0=1)"
   ]
  },
  {
   "cell_type": "code",
   "execution_count": 17,
   "id": "4153eece-b83e-410e-bdcf-4ef492177700",
   "metadata": {},
   "outputs": [],
   "source": [
    "muG_mean = muG.mean(dim=['chain', 'draw'])\n",
    "muB_mean = muB.mean(dim=['chain', 'draw'])"
   ]
  },
  {
   "cell_type": "code",
   "execution_count": 18,
   "id": "c2c8fb0f-0b0e-4fc2-8a1d-b1efc5d4d88d",
   "metadata": {},
   "outputs": [
    {
     "data": {
      "text/plain": [
       "<matplotlib.legend.Legend at 0x7f6c85b326d0>"
      ]
     },
     "execution_count": 18,
     "metadata": {},
     "output_type": "execute_result"
    },
    {
     "data": {
      "image/png": "[encoded data removed]",
      "text/plain": [
       "<Figure size 432x288 with 1 Axes>"
      ]
     },
     "metadata": {
      "needs_background": "light"
     },
     "output_type": "display_data"
    }
   ],
   "source": [
    "plt.scatter(under13.age[under13.male==0], under13.weight[under13.male==0], label='Girl')\n",
    "plt.scatter(under13.age[under13.male==1], under13.weight[under13.male==1], label='Boy')\n",
    "plt.xlabel(\"Age(years)\")\n",
    "plt.ylabel(\"Weight\")\n",
    "plt.plot(AgeSeq, muG_mean)\n",
    "plt.plot(AgeSeq, muB_mean)\n",
    "az.plot_hdi(AgeSeq, muG, color='b', fill_kwargs={'alpha': 0.25})\n",
    "az.plot_hdi(AgeSeq, muB, color='r', fill_kwargs={'alpha': 0.25})\n",
    "plt.legend()"
   ]
  },
  {
   "cell_type": "code",
   "execution_count": 19,
   "id": "ae4c6b11-e47b-4973-8582-41b0cd876dfb",
   "metadata": {},
   "outputs": [],
   "source": [
    "def sim_weight(age: xr.DataArray):    \n",
    "    girl = np.zeros(len(age), dtype=np.int64)\n",
    "    boy = np.ones(len(age), dtype=np.int64)\n",
    "    with age_model2:\n",
    "        pm.set_data({'Age': age, 'Sex': girl})\n",
    "        weightG = pm.sample_posterior_predictive(idata_age2)\n",
    "        pm.set_data({'Age': age, 'Sex': boy})\n",
    "        weightB = pm.sample_posterior_predictive(idata_age2)\n",
    "    return (weightG.posterior_predictive.weight, weightB.posterior_predictive.weight)"
   ]
  },
  {
   "cell_type": "code",
   "execution_count": 22,
   "id": "c914234a-aeed-412a-927d-d4fd8db57840",
   "metadata": {},
   "outputs": [
    {
     "data": {
      "text/html": [
       "\n",
       "    <div>\n",
       "        <style>\n",
       "            /* Turns off some styling */\n",
       "            progress {\n",
       "                /* gets rid of default border in Firefox and Opera. */\n",
       "                border: none;\n",
       "                /* Needs to be in here for Safari polyfill so background images work as expected. */\n",
       "                background-size: auto;\n",
       "            }\n",
       "            .progress-bar-interrupted, .progress-bar-interrupted::-webkit-progress-bar {\n",
       "                background: #F44336;\n",
       "            }\n",
       "        </style>\n",
       "      <progress value='4000' class='' max='4000' style='width:300px; height:20px; vertical-align: middle;'></progress>\n",
       "      100.00% [4000/4000 00:00<00:00]\n",
       "    </div>\n",
       "    "
      ],
      "text/plain": [
       "<IPython.core.display.HTML object>"
      ]
     },
     "metadata": {},
     "output_type": "display_data"
    },
    {
     "data": {
      "text/html": [
       "\n",
       "    <div>\n",
       "        <style>\n",
       "            /* Turns off some styling */\n",
       "            progress {\n",
       "                /* gets rid of default border in Firefox and Opera. */\n",
       "                border: none;\n",
       "                /* Needs to be in here for Safari polyfill so background images work as expected. */\n",
       "                background-size: auto;\n",
       "            }\n",
       "            .progress-bar-interrupted, .progress-bar-interrupted::-webkit-progress-bar {\n",
       "                background: #F44336;\n",
       "            }\n",
       "        </style>\n",
       "      <progress value='4000' class='' max='4000' style='width:300px; height:20px; vertical-align: middle;'></progress>\n",
       "      100.00% [4000/4000 00:00<00:00]\n",
       "    </div>\n",
       "    "
      ],
      "text/plain": [
       "<IPython.core.display.HTML object>"
      ]
     },
     "metadata": {},
     "output_type": "display_data"
    }
   ],
   "source": [
    "weightG, weightB = sim_weight(AgeSeq)"
   ]
  },
  {
   "cell_type": "code",
   "execution_count": 32,
   "id": "d5332a3d-3a03-4144-81fb-8e667644db9e",
   "metadata": {},
   "outputs": [
    {
     "data": {
      "image/png": "[encoded data removed]",
      "text/plain": [
       "<Figure size 432x288 with 1 Axes>"
      ]
     },
     "metadata": {
      "needs_background": "light"
     },
     "output_type": "display_data"
    }
   ],
   "source": [
    "contrast = weightB - weightG\n",
    "hdi_probs = [0.5, 0.67, 0.89, 0.99]\n",
    "for hdi_prob in hdi_probs:\n",
    "    az.plot_hdi(AgeSeq, contrast, hdi_prob=hdi_prob)\n",
    "plt.axhline(xmin=0, xmax=12, linestyle='--')\n",
    "plt.xlabel('Age')\n",
    "plt.ylabel('Weight Difference (boys - girls)');"
   ]
  }
 ],
 "metadata": {
  "kernelspec": {
   "display_name": "Python 3 (ipykernel)",
   "language": "python",
   "name": "python3"
  },
  "language_info": {
   "codemirror_mode": {
    "name": "ipython",
    "version": 3
   },
   "file_extension": ".py",
   "mimetype": "text/x-python",
   "name": "python",
   "nbconvert_exporter": "python",
   "pygments_lexer": "ipython3",
   "version": "3.9.10"
  }
 },
 "nbformat": 4,
 "nbformat_minor": 5
}
