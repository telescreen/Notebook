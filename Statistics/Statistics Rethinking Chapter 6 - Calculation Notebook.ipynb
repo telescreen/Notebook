{
 "cells": [
  {
   "cell_type": "code",
   "execution_count": 16,
   "id": "88d5b1a6-7a03-4f7e-8392-ff4d0c06fd81",
   "metadata": {},
   "outputs": [
    {
     "name": "stdout",
     "output_type": "stream",
     "text": [
      "Running on PyMC3 v3.11.2\n",
      "Running on ArviZ v0.11.2\n"
     ]
    }
   ],
   "source": [
    "import os\n",
    "import warnings\n",
    "\n",
    "import numpy as np\n",
    "import pymc3 as pm\n",
    "import pandas as pd\n",
    "import pandas_profiling\n",
    "from scipy import stats\n",
    "from sklearn.linear_model import LinearRegression\n",
    "import sklearn.preprocessing as preprocessing\n",
    "\n",
    "import matplotlib.pyplot as plt\n",
    "import arviz as az\n",
    "import seaborn as sns\n",
    "\n",
    "warnings.simplefilter(action=\"ignore\", category=FutureWarning)\n",
    "\n",
    "#%config InlineBackend.figure_format = 'retina'\n",
    "#az.style.use(\"arviz-darkgrid\")\n",
    "plt.style.use(['seaborn-colorblind', 'seaborn-darkgrid'])\n",
    "print(f\"Running on PyMC3 v{pm.__version__}\")\n",
    "print(f\"Running on ArviZ v{az.__version__}\")"
   ]
  },
  {
   "cell_type": "code",
   "execution_count": 2,
   "id": "9f805fd0-41d2-4d51-916d-08c77ebae0a2",
   "metadata": {},
   "outputs": [],
   "source": [
    "data_dir = '/home/telescreen/Workspace/fun/pymc-devs-resources/Rethinking_2/Data/'"
   ]
  },
  {
   "cell_type": "code",
   "execution_count": 3,
   "id": "96c2ec9a-87d4-42e0-9361-a4322dda698a",
   "metadata": {},
   "outputs": [
    {
     "data": {
      "text/plain": [
       "array([[ 1.        , -0.74495204],\n",
       "       [-0.74495204,  1.        ]])"
      ]
     },
     "execution_count": 3,
     "metadata": {},
     "output_type": "execute_result"
    }
   ],
   "source": [
    "np.random.seed(3)\n",
    "\n",
    "N = 200\n",
    "nw = np.random.normal(size=N)\n",
    "tw = np.random.normal(size=N)\n",
    "s = nw + tw\n",
    "q = np.quantile(s, 0.9)\n",
    "selected = s >= q\n",
    "cor = np.corrcoef(nw[selected], tw[selected])\n",
    "cor"
   ]
  },
  {
   "cell_type": "code",
   "execution_count": 4,
   "id": "896347c1-d5b3-4b66-b5ba-bca05e82bba3",
   "metadata": {},
   "outputs": [
    {
     "data": {
      "image/png": "[encoded data removed]",
      "text/plain": [
       "<Figure size 432x288 with 1 Axes>"
      ]
     },
     "metadata": {},
     "output_type": "display_data"
    }
   ],
   "source": [
    "plt.scatter(nw[~selected], tw[~selected], edgecolors='k', lw=1, color=(0, 0, 0, 0))\n",
    "plt.scatter(nw[selected], tw[selected], color='C0')\n",
    "plt.text(1, 2, \"selected\", color='C0', fontsize='large')\n",
    "xn = np.array([-2, 3])\n",
    "plt.plot(xn, tw[selected].mean() + cor[0, 1]*(xn - nw[selected].mean()))\n",
    "plt.xlabel('News Worthy')\n",
    "plt.ylabel('Trust Worthy');"
   ]
  },
  {
   "cell_type": "code",
   "execution_count": 5,
   "id": "546334b3-71ca-41b8-b672-3d2ef58d03b8",
   "metadata": {},
   "outputs": [
    {
     "data": {
      "text/html": [
       "<div>\n",
       "<style scoped>\n",
       "    .dataframe tbody tr th:only-of-type {\n",
       "        vertical-align: middle;\n",
       "    }\n",
       "\n",
       "    .dataframe tbody tr th {\n",
       "        vertical-align: top;\n",
       "    }\n",
       "\n",
       "    .dataframe thead th {\n",
       "        text-align: right;\n",
       "    }\n",
       "</style>\n",
       "<table border=\"1\" class=\"dataframe\">\n",
       "  <thead>\n",
       "    <tr style=\"text-align: right;\">\n",
       "      <th></th>\n",
       "      <th>height</th>\n",
       "      <th>leg_left</th>\n",
       "      <th>leg_right</th>\n",
       "    </tr>\n",
       "  </thead>\n",
       "  <tbody>\n",
       "    <tr>\n",
       "      <th>0</th>\n",
       "      <td>10.178107</td>\n",
       "      <td>4.193684</td>\n",
       "      <td>4.176532</td>\n",
       "    </tr>\n",
       "    <tr>\n",
       "      <th>1</th>\n",
       "      <td>11.557794</td>\n",
       "      <td>4.745369</td>\n",
       "      <td>4.774994</td>\n",
       "    </tr>\n",
       "    <tr>\n",
       "      <th>2</th>\n",
       "      <td>12.529290</td>\n",
       "      <td>5.152883</td>\n",
       "      <td>5.174820</td>\n",
       "    </tr>\n",
       "    <tr>\n",
       "      <th>3</th>\n",
       "      <td>8.238977</td>\n",
       "      <td>3.405412</td>\n",
       "      <td>3.434842</td>\n",
       "    </tr>\n",
       "    <tr>\n",
       "      <th>4</th>\n",
       "      <td>10.472811</td>\n",
       "      <td>4.330703</td>\n",
       "      <td>4.298668</td>\n",
       "    </tr>\n",
       "  </tbody>\n",
       "</table>\n",
       "</div>"
      ],
      "text/plain": [
       "      height  leg_left  leg_right\n",
       "0  10.178107  4.193684   4.176532\n",
       "1  11.557794  4.745369   4.774994\n",
       "2  12.529290  5.152883   5.174820\n",
       "3   8.238977  3.405412   3.434842\n",
       "4  10.472811  4.330703   4.298668"
      ]
     },
     "execution_count": 5,
     "metadata": {},
     "output_type": "execute_result"
    }
   ],
   "source": [
    "# Multicolinearity\n",
    "N = 100\n",
    "height = np.random.normal(10, 2, size=N)\n",
    "leg_prob = np.random.uniform(0.4, 0.5)\n",
    "leg_left = leg_prob*height + np.random.normal(0, 0.02, size=N)\n",
    "leg_right = leg_prob*height + np.random.normal(0, 0.02, size=N)\n",
    "legdata = pd.DataFrame(\n",
    "    np.vstack([height, leg_left, leg_right]).T,\n",
    "    columns=['height', 'leg_left', 'leg_right']\n",
    ")\n",
    "legdata.head()"
   ]
  },
  {
   "cell_type": "code",
   "execution_count": 6,
   "id": "8552ebd5-6414-4df8-831e-a5d3cc845e2b",
   "metadata": {},
   "outputs": [
    {
     "name": "stderr",
     "output_type": "stream",
     "text": [
      "Auto-assigning NUTS sampler...\n",
      "Initializing NUTS using jitter+adapt_diag...\n",
      "Multiprocess sampling (4 chains in 4 jobs)\n",
      "NUTS: [intercept, leg_right, leg_left, sigma]\n"
     ]
    },
    {
     "data": {
      "text/html": [
       "\n",
       "    <div>\n",
       "        <style>\n",
       "            /* Turns off some styling */\n",
       "            progress {\n",
       "                /* gets rid of default border in Firefox and Opera. */\n",
       "                border: none;\n",
       "                /* Needs to be in here for Safari polyfill so background images work as expected. */\n",
       "                background-size: auto;\n",
       "            }\n",
       "            .progress-bar-interrupted, .progress-bar-interrupted::-webkit-progress-bar {\n",
       "                background: #F44336;\n",
       "            }\n",
       "        </style>\n",
       "      <progress value='12000' class='' max='12000' style='width:300px; height:20px; vertical-align: middle;'></progress>\n",
       "      100.00% [12000/12000 02:26<00:00 Sampling 4 chains, 916 divergences]\n",
       "    </div>\n",
       "    "
      ],
      "text/plain": [
       "<IPython.core.display.HTML object>"
      ]
     },
     "metadata": {},
     "output_type": "display_data"
    },
    {
     "name": "stderr",
     "output_type": "stream",
     "text": [
      "Sampling 4 chains for 2_000 tune and 1_000 draw iterations (8_000 + 4_000 draws total) took 147 seconds.\n",
      "There were 306 divergences after tuning. Increase `target_accept` or reparameterize.\n",
      "There were 328 divergences after tuning. Increase `target_accept` or reparameterize.\n",
      "There were 43 divergences after tuning. Increase `target_accept` or reparameterize.\n",
      "There were 239 divergences after tuning. Increase `target_accept` or reparameterize.\n",
      "The rhat statistic is larger than 1.05 for some parameters. This indicates slight problems during sampling.\n",
      "The estimated number of effective samples is smaller than 200 for some parameters.\n"
     ]
    },
    {
     "data": {
      "text/html": [
       "<div>\n",
       "<style scoped>\n",
       "    .dataframe tbody tr th:only-of-type {\n",
       "        vertical-align: middle;\n",
       "    }\n",
       "\n",
       "    .dataframe tbody tr th {\n",
       "        vertical-align: top;\n",
       "    }\n",
       "\n",
       "    .dataframe thead th {\n",
       "        text-align: right;\n",
       "    }\n",
       "</style>\n",
       "<table border=\"1\" class=\"dataframe\">\n",
       "  <thead>\n",
       "    <tr style=\"text-align: right;\">\n",
       "      <th></th>\n",
       "      <th>mean</th>\n",
       "      <th>sd</th>\n",
       "      <th>hdi_3%</th>\n",
       "      <th>hdi_97%</th>\n",
       "      <th>mcse_mean</th>\n",
       "      <th>mcse_sd</th>\n",
       "      <th>ess_bulk</th>\n",
       "      <th>ess_tail</th>\n",
       "      <th>r_hat</th>\n",
       "    </tr>\n",
       "  </thead>\n",
       "  <tbody>\n",
       "    <tr>\n",
       "      <th>leg_left</th>\n",
       "      <td>1.315</td>\n",
       "      <td>0.144</td>\n",
       "      <td>1.066</td>\n",
       "      <td>1.570</td>\n",
       "      <td>0.010</td>\n",
       "      <td>0.007</td>\n",
       "      <td>233.0</td>\n",
       "      <td>728.0</td>\n",
       "      <td>1.02</td>\n",
       "    </tr>\n",
       "    <tr>\n",
       "      <th>leg_right</th>\n",
       "      <td>1.105</td>\n",
       "      <td>0.144</td>\n",
       "      <td>0.838</td>\n",
       "      <td>1.345</td>\n",
       "      <td>0.010</td>\n",
       "      <td>0.007</td>\n",
       "      <td>238.0</td>\n",
       "      <td>688.0</td>\n",
       "      <td>1.02</td>\n",
       "    </tr>\n",
       "    <tr>\n",
       "      <th>intercept</th>\n",
       "      <td>0.013</td>\n",
       "      <td>0.020</td>\n",
       "      <td>-0.024</td>\n",
       "      <td>0.049</td>\n",
       "      <td>0.001</td>\n",
       "      <td>0.001</td>\n",
       "      <td>699.0</td>\n",
       "      <td>660.0</td>\n",
       "      <td>1.01</td>\n",
       "    </tr>\n",
       "    <tr>\n",
       "      <th>sigma</th>\n",
       "      <td>0.037</td>\n",
       "      <td>0.002</td>\n",
       "      <td>0.033</td>\n",
       "      <td>0.042</td>\n",
       "      <td>0.000</td>\n",
       "      <td>0.000</td>\n",
       "      <td>40.0</td>\n",
       "      <td>54.0</td>\n",
       "      <td>1.08</td>\n",
       "    </tr>\n",
       "  </tbody>\n",
       "</table>\n",
       "</div>"
      ],
      "text/plain": [
       "            mean     sd  hdi_3%  hdi_97%  mcse_mean  mcse_sd  ess_bulk  \\\n",
       "leg_left   1.315  0.144   1.066    1.570      0.010    0.007     233.0   \n",
       "leg_right  1.105  0.144   0.838    1.345      0.010    0.007     238.0   \n",
       "intercept  0.013  0.020  -0.024    0.049      0.001    0.001     699.0   \n",
       "sigma      0.037  0.002   0.033    0.042      0.000    0.000      40.0   \n",
       "\n",
       "           ess_tail  r_hat  \n",
       "leg_left      728.0   1.02  \n",
       "leg_right     688.0   1.02  \n",
       "intercept     660.0   1.01  \n",
       "sigma          54.0   1.08  "
      ]
     },
     "execution_count": 6,
     "metadata": {},
     "output_type": "execute_result"
    }
   ],
   "source": [
    "with pm.Model() as m6_1:\n",
    "    sigma = pm.Exponential('sigma', 1)\n",
    "    bl = pm.Normal('leg_left', 2, 10)\n",
    "    br = pm.Normal('leg_right', 2, 10)\n",
    "    intercept = pm.Normal('intercept', 10, 100)\n",
    "    mu = intercept + bl*legdata.leg_left + br*legdata.leg_right\n",
    "    height = pm.Normal('height', mu, sigma, observed=legdata.height)\n",
    "    trace6_1 = pm.sample()\n",
    "az.summary(trace6_1)"
   ]
  },
  {
   "cell_type": "code",
   "execution_count": 14,
   "id": "4f061c1f-08e9-47f1-b62b-96abda71c7c5",
   "metadata": {},
   "outputs": [
    {
     "data": {
      "image/png": "[encoded data removed]",
      "text/plain": [
       "<Figure size 720x288 with 2 Axes>"
      ]
     },
     "metadata": {},
     "output_type": "display_data"
    }
   ],
   "source": [
    "fig, [ax1, ax2] = plt.subplots(1, 2, figsize=[10, 4])\n",
    "\n",
    "ax1.scatter(trace6_1[br], trace6_1[bl], alpha=0.5, s=20)\n",
    "ax1.set_xlabel('br')\n",
    "ax1.set_ylabel('bl')\n",
    "\n",
    "az.plot_kde(trace6_1[br] + trace6_1[bl], ax=ax2)\n",
    "ax2.set_ylabel('Density')\n",
    "ax2.set_xlabel('Sum of bl and br');"
   ]
  },
  {
   "cell_type": "code",
   "execution_count": 7,
   "id": "e9a6efc9-23d2-4bf1-b435-a3de215be8dd",
   "metadata": {},
   "outputs": [
    {
     "name": "stdout",
     "output_type": "stream",
     "text": [
      "                            OLS Regression Results                            \n",
      "==============================================================================\n",
      "Dep. Variable:                 height   R-squared:                       1.000\n",
      "Model:                            OLS   Adj. R-squared:                  1.000\n",
      "Method:                 Least Squares   F-statistic:                 1.427e+05\n",
      "Date:                Fri, 15 Oct 2021   Prob (F-statistic):          5.79e-169\n",
      "Time:                        19:46:04   Log-Likelihood:                 192.65\n",
      "No. Observations:                 100   AIC:                            -379.3\n",
      "Df Residuals:                      97   BIC:                            -371.5\n",
      "Df Model:                           2                                         \n",
      "Covariance Type:            nonrobust                                         \n",
      "==============================================================================\n",
      "                 coef    std err          t      P>|t|      [0.025      0.975]\n",
      "------------------------------------------------------------------------------\n",
      "Intercept      0.0139      0.019      0.714      0.477      -0.025       0.052\n",
      "leg_left       1.3298      0.134      9.931      0.000       1.064       1.596\n",
      "leg_right      1.0905      0.134      8.114      0.000       0.824       1.357\n",
      "==============================================================================\n",
      "Omnibus:                        1.011   Durbin-Watson:                   2.353\n",
      "Prob(Omnibus):                  0.603   Jarque-Bera (JB):                0.960\n",
      "Skew:                          -0.037   Prob(JB):                        0.619\n",
      "Kurtosis:                       2.526   Cond. No.                         323.\n",
      "==============================================================================\n",
      "\n",
      "Notes:\n",
      "[1] Standard Errors assume that the covariance matrix of the errors is correctly specified.\n"
     ]
    }
   ],
   "source": [
    "import statsmodels.formula.api as smf\n",
    "\n",
    "mod = smf.ols(formula='height ~ leg_left + leg_right', data=legdata)\n",
    "result = mod.fit()\n",
    "print(result.summary())"
   ]
  },
  {
   "cell_type": "code",
   "execution_count": 22,
   "id": "1b5ef4e8-4bed-41b2-b82a-e52766389559",
   "metadata": {},
   "outputs": [],
   "source": [
    "def normalize(series):\n",
    "    return (series - series.mean()) / series.std()"
   ]
  },
  {
   "cell_type": "code",
   "execution_count": 19,
   "id": "63eb7137-0ffa-4992-b052-efa3f589822d",
   "metadata": {},
   "outputs": [
    {
     "data": {
      "text/html": [
       "<div>\n",
       "<style scoped>\n",
       "    .dataframe tbody tr th:only-of-type {\n",
       "        vertical-align: middle;\n",
       "    }\n",
       "\n",
       "    .dataframe tbody tr th {\n",
       "        vertical-align: top;\n",
       "    }\n",
       "\n",
       "    .dataframe thead th {\n",
       "        text-align: right;\n",
       "    }\n",
       "</style>\n",
       "<table border=\"1\" class=\"dataframe\">\n",
       "  <thead>\n",
       "    <tr style=\"text-align: right;\">\n",
       "      <th></th>\n",
       "      <th>clade</th>\n",
       "      <th>species</th>\n",
       "      <th>kcal.per.g</th>\n",
       "      <th>perc.fat</th>\n",
       "      <th>perc.protein</th>\n",
       "      <th>perc.lactose</th>\n",
       "      <th>mass</th>\n",
       "      <th>neocortex.perc</th>\n",
       "    </tr>\n",
       "  </thead>\n",
       "  <tbody>\n",
       "    <tr>\n",
       "      <th>0</th>\n",
       "      <td>Strepsirrhine</td>\n",
       "      <td>Eulemur fulvus</td>\n",
       "      <td>0.49</td>\n",
       "      <td>16.60</td>\n",
       "      <td>15.42</td>\n",
       "      <td>67.98</td>\n",
       "      <td>1.95</td>\n",
       "      <td>55.16</td>\n",
       "    </tr>\n",
       "    <tr>\n",
       "      <th>1</th>\n",
       "      <td>Strepsirrhine</td>\n",
       "      <td>E macaco</td>\n",
       "      <td>0.51</td>\n",
       "      <td>19.27</td>\n",
       "      <td>16.91</td>\n",
       "      <td>63.82</td>\n",
       "      <td>2.09</td>\n",
       "      <td>NaN</td>\n",
       "    </tr>\n",
       "    <tr>\n",
       "      <th>2</th>\n",
       "      <td>Strepsirrhine</td>\n",
       "      <td>E mongoz</td>\n",
       "      <td>0.46</td>\n",
       "      <td>14.11</td>\n",
       "      <td>16.85</td>\n",
       "      <td>69.04</td>\n",
       "      <td>2.51</td>\n",
       "      <td>NaN</td>\n",
       "    </tr>\n",
       "    <tr>\n",
       "      <th>3</th>\n",
       "      <td>Strepsirrhine</td>\n",
       "      <td>E rubriventer</td>\n",
       "      <td>0.48</td>\n",
       "      <td>14.91</td>\n",
       "      <td>13.18</td>\n",
       "      <td>71.91</td>\n",
       "      <td>1.62</td>\n",
       "      <td>NaN</td>\n",
       "    </tr>\n",
       "    <tr>\n",
       "      <th>4</th>\n",
       "      <td>Strepsirrhine</td>\n",
       "      <td>Lemur catta</td>\n",
       "      <td>0.60</td>\n",
       "      <td>27.28</td>\n",
       "      <td>19.50</td>\n",
       "      <td>53.22</td>\n",
       "      <td>2.19</td>\n",
       "      <td>NaN</td>\n",
       "    </tr>\n",
       "  </tbody>\n",
       "</table>\n",
       "</div>"
      ],
      "text/plain": [
       "           clade         species  kcal.per.g  perc.fat  perc.protein  \\\n",
       "0  Strepsirrhine  Eulemur fulvus        0.49     16.60         15.42   \n",
       "1  Strepsirrhine        E macaco        0.51     19.27         16.91   \n",
       "2  Strepsirrhine        E mongoz        0.46     14.11         16.85   \n",
       "3  Strepsirrhine   E rubriventer        0.48     14.91         13.18   \n",
       "4  Strepsirrhine     Lemur catta        0.60     27.28         19.50   \n",
       "\n",
       "   perc.lactose  mass  neocortex.perc  \n",
       "0         67.98  1.95           55.16  \n",
       "1         63.82  2.09             NaN  \n",
       "2         69.04  2.51             NaN  \n",
       "3         71.91  1.62             NaN  \n",
       "4         53.22  2.19             NaN  "
      ]
     },
     "execution_count": 19,
     "metadata": {},
     "output_type": "execute_result"
    }
   ],
   "source": [
    "milk = pd.read_csv(os.path.join(data_dir, 'milk.csv'), delimiter=';')\n",
    "milk.head()"
   ]
  },
  {
   "cell_type": "code",
   "execution_count": 24,
   "id": "afa49eac-c208-4e39-83e5-0b022e59bd16",
   "metadata": {},
   "outputs": [
    {
     "data": {
      "text/html": [
       "<div>\n",
       "<style scoped>\n",
       "    .dataframe tbody tr th:only-of-type {\n",
       "        vertical-align: middle;\n",
       "    }\n",
       "\n",
       "    .dataframe tbody tr th {\n",
       "        vertical-align: top;\n",
       "    }\n",
       "\n",
       "    .dataframe thead th {\n",
       "        text-align: right;\n",
       "    }\n",
       "</style>\n",
       "<table border=\"1\" class=\"dataframe\">\n",
       "  <thead>\n",
       "    <tr style=\"text-align: right;\">\n",
       "      <th></th>\n",
       "      <th>clade</th>\n",
       "      <th>species</th>\n",
       "      <th>kcal.per.g</th>\n",
       "      <th>perc.fat</th>\n",
       "      <th>perc.protein</th>\n",
       "      <th>perc.lactose</th>\n",
       "      <th>mass</th>\n",
       "      <th>neocortex.perc</th>\n",
       "      <th>K</th>\n",
       "      <th>F</th>\n",
       "      <th>L</th>\n",
       "    </tr>\n",
       "  </thead>\n",
       "  <tbody>\n",
       "    <tr>\n",
       "      <th>0</th>\n",
       "      <td>Strepsirrhine</td>\n",
       "      <td>Eulemur fulvus</td>\n",
       "      <td>0.49</td>\n",
       "      <td>16.60</td>\n",
       "      <td>15.42</td>\n",
       "      <td>67.98</td>\n",
       "      <td>1.95</td>\n",
       "      <td>55.16</td>\n",
       "      <td>-0.940041</td>\n",
       "      <td>-1.217243</td>\n",
       "      <td>1.307262</td>\n",
       "    </tr>\n",
       "    <tr>\n",
       "      <th>1</th>\n",
       "      <td>Strepsirrhine</td>\n",
       "      <td>E macaco</td>\n",
       "      <td>0.51</td>\n",
       "      <td>19.27</td>\n",
       "      <td>16.91</td>\n",
       "      <td>63.82</td>\n",
       "      <td>2.09</td>\n",
       "      <td>NaN</td>\n",
       "      <td>-0.816126</td>\n",
       "      <td>-1.030355</td>\n",
       "      <td>1.011285</td>\n",
       "    </tr>\n",
       "    <tr>\n",
       "      <th>2</th>\n",
       "      <td>Strepsirrhine</td>\n",
       "      <td>E mongoz</td>\n",
       "      <td>0.46</td>\n",
       "      <td>14.11</td>\n",
       "      <td>16.85</td>\n",
       "      <td>69.04</td>\n",
       "      <td>2.51</td>\n",
       "      <td>NaN</td>\n",
       "      <td>-1.125913</td>\n",
       "      <td>-1.391531</td>\n",
       "      <td>1.382679</td>\n",
       "    </tr>\n",
       "    <tr>\n",
       "      <th>3</th>\n",
       "      <td>Strepsirrhine</td>\n",
       "      <td>E rubriventer</td>\n",
       "      <td>0.48</td>\n",
       "      <td>14.91</td>\n",
       "      <td>13.18</td>\n",
       "      <td>71.91</td>\n",
       "      <td>1.62</td>\n",
       "      <td>NaN</td>\n",
       "      <td>-1.001998</td>\n",
       "      <td>-1.335535</td>\n",
       "      <td>1.586874</td>\n",
       "    </tr>\n",
       "    <tr>\n",
       "      <th>4</th>\n",
       "      <td>Strepsirrhine</td>\n",
       "      <td>Lemur catta</td>\n",
       "      <td>0.60</td>\n",
       "      <td>27.28</td>\n",
       "      <td>19.50</td>\n",
       "      <td>53.22</td>\n",
       "      <td>2.19</td>\n",
       "      <td>NaN</td>\n",
       "      <td>-0.258511</td>\n",
       "      <td>-0.469693</td>\n",
       "      <td>0.257115</td>\n",
       "    </tr>\n",
       "  </tbody>\n",
       "</table>\n",
       "</div>"
      ],
      "text/plain": [
       "           clade         species  kcal.per.g  perc.fat  perc.protein  \\\n",
       "0  Strepsirrhine  Eulemur fulvus        0.49     16.60         15.42   \n",
       "1  Strepsirrhine        E macaco        0.51     19.27         16.91   \n",
       "2  Strepsirrhine        E mongoz        0.46     14.11         16.85   \n",
       "3  Strepsirrhine   E rubriventer        0.48     14.91         13.18   \n",
       "4  Strepsirrhine     Lemur catta        0.60     27.28         19.50   \n",
       "\n",
       "   perc.lactose  mass  neocortex.perc         K         F         L  \n",
       "0         67.98  1.95           55.16 -0.940041 -1.217243  1.307262  \n",
       "1         63.82  2.09             NaN -0.816126 -1.030355  1.011285  \n",
       "2         69.04  2.51             NaN -1.125913 -1.391531  1.382679  \n",
       "3         71.91  1.62             NaN -1.001998 -1.335535  1.586874  \n",
       "4         53.22  2.19             NaN -0.258511 -0.469693  0.257115  "
      ]
     },
     "execution_count": 24,
     "metadata": {},
     "output_type": "execute_result"
    }
   ],
   "source": [
    "milk.loc[:, 'K'] = normalize(milk['kcal.per.g'])\n",
    "milk.loc[:, 'F'] = normalize(milk['perc.fat'])\n",
    "milk.loc[:, 'L'] = normalize(milk['perc.lactose'])\n",
    "\n",
    "milk.head()"
   ]
  },
  {
   "cell_type": "code",
   "execution_count": 26,
   "id": "992e9013-a259-444a-9c0c-c462ac7f45b5",
   "metadata": {},
   "outputs": [
    {
     "data": {
      "text/plain": [
       "<seaborn.axisgrid.PairGrid at 0x7f0285cec340>"
      ]
     },
     "execution_count": 26,
     "metadata": {},
     "output_type": "execute_result"
    },
    {
     "data": {
      "image/png": "[encoded data removed]",
      "text/plain": [
       "<Figure size 540x540 with 12 Axes>"
      ]
     },
     "metadata": {},
     "output_type": "display_data"
    }
   ],
   "source": [
    "sns.pairplot(milk, vars=['kcal.per.g', 'perc.fat', 'perc.lactose'])"
   ]
  },
  {
   "cell_type": "code",
   "execution_count": 36,
   "id": "dd8cccf8-5e8b-4e2a-8d7e-da07a3913ea6",
   "metadata": {},
   "outputs": [
    {
     "data": {
      "text/html": [
       "<div>\n",
       "<style scoped>\n",
       "    .dataframe tbody tr th:only-of-type {\n",
       "        vertical-align: middle;\n",
       "    }\n",
       "\n",
       "    .dataframe tbody tr th {\n",
       "        vertical-align: top;\n",
       "    }\n",
       "\n",
       "    .dataframe thead th {\n",
       "        text-align: right;\n",
       "    }\n",
       "</style>\n",
       "<table border=\"1\" class=\"dataframe\">\n",
       "  <thead>\n",
       "    <tr style=\"text-align: right;\">\n",
       "      <th></th>\n",
       "      <th>kcal.per.g</th>\n",
       "      <th>perc.fat</th>\n",
       "      <th>perc.lactose</th>\n",
       "    </tr>\n",
       "  </thead>\n",
       "  <tbody>\n",
       "    <tr>\n",
       "      <th>kcal.per.g</th>\n",
       "      <td>1.000000</td>\n",
       "      <td>0.886943</td>\n",
       "      <td>-0.921118</td>\n",
       "    </tr>\n",
       "    <tr>\n",
       "      <th>perc.fat</th>\n",
       "      <td>0.886943</td>\n",
       "      <td>1.000000</td>\n",
       "      <td>-0.941637</td>\n",
       "    </tr>\n",
       "    <tr>\n",
       "      <th>perc.lactose</th>\n",
       "      <td>-0.921118</td>\n",
       "      <td>-0.941637</td>\n",
       "      <td>1.000000</td>\n",
       "    </tr>\n",
       "  </tbody>\n",
       "</table>\n",
       "</div>"
      ],
      "text/plain": [
       "              kcal.per.g  perc.fat  perc.lactose\n",
       "kcal.per.g      1.000000  0.886943     -0.921118\n",
       "perc.fat        0.886943  1.000000     -0.941637\n",
       "perc.lactose   -0.921118 -0.941637      1.000000"
      ]
     },
     "execution_count": 36,
     "metadata": {},
     "output_type": "execute_result"
    }
   ],
   "source": [
    "milk[['kcal.per.g', 'perc.fat', 'perc.lactose']].corr()"
   ]
  },
  {
   "cell_type": "code",
   "execution_count": 30,
   "id": "56396e24-3c3b-432c-bea6-b7c68f52e60a",
   "metadata": {},
   "outputs": [
    {
     "name": "stderr",
     "output_type": "stream",
     "text": [
      "Auto-assigning NUTS sampler...\n",
      "Initializing NUTS using jitter+adapt_diag...\n",
      "Multiprocess sampling (4 chains in 4 jobs)\n",
      "NUTS: [sigma, bF, intercept]\n"
     ]
    },
    {
     "data": {
      "text/html": [
       "\n",
       "    <div>\n",
       "        <style>\n",
       "            /* Turns off some styling */\n",
       "            progress {\n",
       "                /* gets rid of default border in Firefox and Opera. */\n",
       "                border: none;\n",
       "                /* Needs to be in here for Safari polyfill so background images work as expected. */\n",
       "                background-size: auto;\n",
       "            }\n",
       "            .progress-bar-interrupted, .progress-bar-interrupted::-webkit-progress-bar {\n",
       "                background: #F44336;\n",
       "            }\n",
       "        </style>\n",
       "      <progress value='8000' class='' max='8000' style='width:300px; height:20px; vertical-align: middle;'></progress>\n",
       "      100.00% [8000/8000 00:01<00:00 Sampling 4 chains, 0 divergences]\n",
       "    </div>\n",
       "    "
      ],
      "text/plain": [
       "<IPython.core.display.HTML object>"
      ]
     },
     "metadata": {},
     "output_type": "display_data"
    },
    {
     "name": "stderr",
     "output_type": "stream",
     "text": [
      "Sampling 4 chains for 1_000 tune and 1_000 draw iterations (4_000 + 4_000 draws total) took 2 seconds.\n"
     ]
    },
    {
     "data": {
      "text/html": [
       "<div>\n",
       "<style scoped>\n",
       "    .dataframe tbody tr th:only-of-type {\n",
       "        vertical-align: middle;\n",
       "    }\n",
       "\n",
       "    .dataframe tbody tr th {\n",
       "        vertical-align: top;\n",
       "    }\n",
       "\n",
       "    .dataframe thead th {\n",
       "        text-align: right;\n",
       "    }\n",
       "</style>\n",
       "<table border=\"1\" class=\"dataframe\">\n",
       "  <thead>\n",
       "    <tr style=\"text-align: right;\">\n",
       "      <th></th>\n",
       "      <th>mean</th>\n",
       "      <th>sd</th>\n",
       "      <th>hdi_3%</th>\n",
       "      <th>hdi_97%</th>\n",
       "      <th>mcse_mean</th>\n",
       "      <th>mcse_sd</th>\n",
       "      <th>ess_bulk</th>\n",
       "      <th>ess_tail</th>\n",
       "      <th>r_hat</th>\n",
       "    </tr>\n",
       "  </thead>\n",
       "  <tbody>\n",
       "    <tr>\n",
       "      <th>intercept</th>\n",
       "      <td>-0.001</td>\n",
       "      <td>0.086</td>\n",
       "      <td>-0.160</td>\n",
       "      <td>0.159</td>\n",
       "      <td>0.001</td>\n",
       "      <td>0.001</td>\n",
       "      <td>5343.0</td>\n",
       "      <td>2684.0</td>\n",
       "      <td>1.0</td>\n",
       "    </tr>\n",
       "    <tr>\n",
       "      <th>bF</th>\n",
       "      <td>0.858</td>\n",
       "      <td>0.092</td>\n",
       "      <td>0.693</td>\n",
       "      <td>1.037</td>\n",
       "      <td>0.001</td>\n",
       "      <td>0.001</td>\n",
       "      <td>4615.0</td>\n",
       "      <td>3035.0</td>\n",
       "      <td>1.0</td>\n",
       "    </tr>\n",
       "    <tr>\n",
       "      <th>sigma</th>\n",
       "      <td>0.487</td>\n",
       "      <td>0.071</td>\n",
       "      <td>0.366</td>\n",
       "      <td>0.616</td>\n",
       "      <td>0.001</td>\n",
       "      <td>0.001</td>\n",
       "      <td>3940.0</td>\n",
       "      <td>2713.0</td>\n",
       "      <td>1.0</td>\n",
       "    </tr>\n",
       "  </tbody>\n",
       "</table>\n",
       "</div>"
      ],
      "text/plain": [
       "            mean     sd  hdi_3%  hdi_97%  mcse_mean  mcse_sd  ess_bulk  \\\n",
       "intercept -0.001  0.086  -0.160    0.159      0.001    0.001    5343.0   \n",
       "bF         0.858  0.092   0.693    1.037      0.001    0.001    4615.0   \n",
       "sigma      0.487  0.071   0.366    0.616      0.001    0.001    3940.0   \n",
       "\n",
       "           ess_tail  r_hat  \n",
       "intercept    2684.0    1.0  \n",
       "bF           3035.0    1.0  \n",
       "sigma        2713.0    1.0  "
      ]
     },
     "execution_count": 30,
     "metadata": {},
     "output_type": "execute_result"
    }
   ],
   "source": [
    "with pm.Model() as m6_3:\n",
    "    intercept = pm.Normal('intercept', 0, 0.2)\n",
    "    bF = pm.Normal('bF', 0, 0.5)\n",
    "    mu = intercept + bF*milk.F\n",
    "    sigma = pm.Exponential('sigma', 1)\n",
    "    K = pm.Normal('K', mu, sigma, observed=milk.K)\n",
    "    trace6_3 = pm.sample()\n",
    "az.summary(trace6_3)"
   ]
  },
  {
   "cell_type": "code",
   "execution_count": 31,
   "id": "f3856c6e-ac3b-4f76-8680-172d4a80c271",
   "metadata": {},
   "outputs": [
    {
     "name": "stderr",
     "output_type": "stream",
     "text": [
      "Auto-assigning NUTS sampler...\n",
      "Initializing NUTS using jitter+adapt_diag...\n",
      "Multiprocess sampling (4 chains in 4 jobs)\n",
      "NUTS: [sigma, bL, intercept]\n"
     ]
    },
    {
     "data": {
      "text/html": [
       "\n",
       "    <div>\n",
       "        <style>\n",
       "            /* Turns off some styling */\n",
       "            progress {\n",
       "                /* gets rid of default border in Firefox and Opera. */\n",
       "                border: none;\n",
       "                /* Needs to be in here for Safari polyfill so background images work as expected. */\n",
       "                background-size: auto;\n",
       "            }\n",
       "            .progress-bar-interrupted, .progress-bar-interrupted::-webkit-progress-bar {\n",
       "                background: #F44336;\n",
       "            }\n",
       "        </style>\n",
       "      <progress value='8000' class='' max='8000' style='width:300px; height:20px; vertical-align: middle;'></progress>\n",
       "      100.00% [8000/8000 00:01<00:00 Sampling 4 chains, 0 divergences]\n",
       "    </div>\n",
       "    "
      ],
      "text/plain": [
       "<IPython.core.display.HTML object>"
      ]
     },
     "metadata": {},
     "output_type": "display_data"
    },
    {
     "name": "stderr",
     "output_type": "stream",
     "text": [
      "Sampling 4 chains for 1_000 tune and 1_000 draw iterations (4_000 + 4_000 draws total) took 2 seconds.\n"
     ]
    },
    {
     "data": {
      "text/html": [
       "<div>\n",
       "<style scoped>\n",
       "    .dataframe tbody tr th:only-of-type {\n",
       "        vertical-align: middle;\n",
       "    }\n",
       "\n",
       "    .dataframe tbody tr th {\n",
       "        vertical-align: top;\n",
       "    }\n",
       "\n",
       "    .dataframe thead th {\n",
       "        text-align: right;\n",
       "    }\n",
       "</style>\n",
       "<table border=\"1\" class=\"dataframe\">\n",
       "  <thead>\n",
       "    <tr style=\"text-align: right;\">\n",
       "      <th></th>\n",
       "      <th>mean</th>\n",
       "      <th>sd</th>\n",
       "      <th>hdi_3%</th>\n",
       "      <th>hdi_97%</th>\n",
       "      <th>mcse_mean</th>\n",
       "      <th>mcse_sd</th>\n",
       "      <th>ess_bulk</th>\n",
       "      <th>ess_tail</th>\n",
       "      <th>r_hat</th>\n",
       "    </tr>\n",
       "  </thead>\n",
       "  <tbody>\n",
       "    <tr>\n",
       "      <th>intercept</th>\n",
       "      <td>0.001</td>\n",
       "      <td>0.071</td>\n",
       "      <td>-0.136</td>\n",
       "      <td>0.126</td>\n",
       "      <td>0.001</td>\n",
       "      <td>0.001</td>\n",
       "      <td>4466.0</td>\n",
       "      <td>3391.0</td>\n",
       "      <td>1.0</td>\n",
       "    </tr>\n",
       "    <tr>\n",
       "      <th>bL</th>\n",
       "      <td>-0.900</td>\n",
       "      <td>0.078</td>\n",
       "      <td>-1.049</td>\n",
       "      <td>-0.757</td>\n",
       "      <td>0.001</td>\n",
       "      <td>0.001</td>\n",
       "      <td>4289.0</td>\n",
       "      <td>2613.0</td>\n",
       "      <td>1.0</td>\n",
       "    </tr>\n",
       "    <tr>\n",
       "      <th>sigma</th>\n",
       "      <td>0.412</td>\n",
       "      <td>0.059</td>\n",
       "      <td>0.311</td>\n",
       "      <td>0.522</td>\n",
       "      <td>0.001</td>\n",
       "      <td>0.001</td>\n",
       "      <td>4106.0</td>\n",
       "      <td>2730.0</td>\n",
       "      <td>1.0</td>\n",
       "    </tr>\n",
       "  </tbody>\n",
       "</table>\n",
       "</div>"
      ],
      "text/plain": [
       "            mean     sd  hdi_3%  hdi_97%  mcse_mean  mcse_sd  ess_bulk  \\\n",
       "intercept  0.001  0.071  -0.136    0.126      0.001    0.001    4466.0   \n",
       "bL        -0.900  0.078  -1.049   -0.757      0.001    0.001    4289.0   \n",
       "sigma      0.412  0.059   0.311    0.522      0.001    0.001    4106.0   \n",
       "\n",
       "           ess_tail  r_hat  \n",
       "intercept    3391.0    1.0  \n",
       "bL           2613.0    1.0  \n",
       "sigma        2730.0    1.0  "
      ]
     },
     "execution_count": 31,
     "metadata": {},
     "output_type": "execute_result"
    }
   ],
   "source": [
    "with pm.Model() as m6_4:\n",
    "    intercept = pm.Normal('intercept', 0, 0.2)\n",
    "    bL = pm.Normal('bL', 0, 0.5)\n",
    "    mu = intercept + bL*milk.L\n",
    "    sigma = pm.Exponential('sigma', 1)\n",
    "    K = pm.Normal('K', mu, sigma, observed=milk.K)\n",
    "    trace6_4 = pm.sample()\n",
    "az.summary(trace6_4)"
   ]
  },
  {
   "cell_type": "code",
   "execution_count": 33,
   "id": "8c1b75b9-8121-4dfe-b7c4-0e1a58aa798a",
   "metadata": {},
   "outputs": [
    {
     "name": "stderr",
     "output_type": "stream",
     "text": [
      "Auto-assigning NUTS sampler...\n",
      "Initializing NUTS using jitter+adapt_diag...\n",
      "Multiprocess sampling (4 chains in 4 jobs)\n",
      "NUTS: [sigma, bF, bL, intercept]\n"
     ]
    },
    {
     "data": {
      "text/html": [
       "\n",
       "    <div>\n",
       "        <style>\n",
       "            /* Turns off some styling */\n",
       "            progress {\n",
       "                /* gets rid of default border in Firefox and Opera. */\n",
       "                border: none;\n",
       "                /* Needs to be in here for Safari polyfill so background images work as expected. */\n",
       "                background-size: auto;\n",
       "            }\n",
       "            .progress-bar-interrupted, .progress-bar-interrupted::-webkit-progress-bar {\n",
       "                background: #F44336;\n",
       "            }\n",
       "        </style>\n",
       "      <progress value='8000' class='' max='8000' style='width:300px; height:20px; vertical-align: middle;'></progress>\n",
       "      100.00% [8000/8000 00:03<00:00 Sampling 4 chains, 0 divergences]\n",
       "    </div>\n",
       "    "
      ],
      "text/plain": [
       "<IPython.core.display.HTML object>"
      ]
     },
     "metadata": {},
     "output_type": "display_data"
    },
    {
     "name": "stderr",
     "output_type": "stream",
     "text": [
      "Sampling 4 chains for 1_000 tune and 1_000 draw iterations (4_000 + 4_000 draws total) took 3 seconds.\n"
     ]
    },
    {
     "data": {
      "text/html": [
       "<div>\n",
       "<style scoped>\n",
       "    .dataframe tbody tr th:only-of-type {\n",
       "        vertical-align: middle;\n",
       "    }\n",
       "\n",
       "    .dataframe tbody tr th {\n",
       "        vertical-align: top;\n",
       "    }\n",
       "\n",
       "    .dataframe thead th {\n",
       "        text-align: right;\n",
       "    }\n",
       "</style>\n",
       "<table border=\"1\" class=\"dataframe\">\n",
       "  <thead>\n",
       "    <tr style=\"text-align: right;\">\n",
       "      <th></th>\n",
       "      <th>mean</th>\n",
       "      <th>sd</th>\n",
       "      <th>hdi_3%</th>\n",
       "      <th>hdi_97%</th>\n",
       "      <th>mcse_mean</th>\n",
       "      <th>mcse_sd</th>\n",
       "      <th>ess_bulk</th>\n",
       "      <th>ess_tail</th>\n",
       "      <th>r_hat</th>\n",
       "    </tr>\n",
       "  </thead>\n",
       "  <tbody>\n",
       "    <tr>\n",
       "      <th>intercept</th>\n",
       "      <td>-0.001</td>\n",
       "      <td>0.074</td>\n",
       "      <td>-0.137</td>\n",
       "      <td>0.138</td>\n",
       "      <td>0.002</td>\n",
       "      <td>0.001</td>\n",
       "      <td>2405.0</td>\n",
       "      <td>2058.0</td>\n",
       "      <td>1.0</td>\n",
       "    </tr>\n",
       "    <tr>\n",
       "      <th>bL</th>\n",
       "      <td>-0.664</td>\n",
       "      <td>0.198</td>\n",
       "      <td>-1.043</td>\n",
       "      <td>-0.301</td>\n",
       "      <td>0.005</td>\n",
       "      <td>0.004</td>\n",
       "      <td>1547.0</td>\n",
       "      <td>2047.0</td>\n",
       "      <td>1.0</td>\n",
       "    </tr>\n",
       "    <tr>\n",
       "      <th>bF</th>\n",
       "      <td>0.256</td>\n",
       "      <td>0.198</td>\n",
       "      <td>-0.140</td>\n",
       "      <td>0.615</td>\n",
       "      <td>0.005</td>\n",
       "      <td>0.004</td>\n",
       "      <td>1595.0</td>\n",
       "      <td>2206.0</td>\n",
       "      <td>1.0</td>\n",
       "    </tr>\n",
       "    <tr>\n",
       "      <th>sigma</th>\n",
       "      <td>0.416</td>\n",
       "      <td>0.063</td>\n",
       "      <td>0.308</td>\n",
       "      <td>0.532</td>\n",
       "      <td>0.001</td>\n",
       "      <td>0.001</td>\n",
       "      <td>1993.0</td>\n",
       "      <td>1431.0</td>\n",
       "      <td>1.0</td>\n",
       "    </tr>\n",
       "  </tbody>\n",
       "</table>\n",
       "</div>"
      ],
      "text/plain": [
       "            mean     sd  hdi_3%  hdi_97%  mcse_mean  mcse_sd  ess_bulk  \\\n",
       "intercept -0.001  0.074  -0.137    0.138      0.002    0.001    2405.0   \n",
       "bL        -0.664  0.198  -1.043   -0.301      0.005    0.004    1547.0   \n",
       "bF         0.256  0.198  -0.140    0.615      0.005    0.004    1595.0   \n",
       "sigma      0.416  0.063   0.308    0.532      0.001    0.001    1993.0   \n",
       "\n",
       "           ess_tail  r_hat  \n",
       "intercept    2058.0    1.0  \n",
       "bL           2047.0    1.0  \n",
       "bF           2206.0    1.0  \n",
       "sigma        1431.0    1.0  "
      ]
     },
     "execution_count": 33,
     "metadata": {},
     "output_type": "execute_result"
    }
   ],
   "source": [
    "with pm.Model() as m6_5:\n",
    "    intercept = pm.Normal('intercept', 0, 0.2)\n",
    "    bL = pm.Normal('bL', 0, 0.5)\n",
    "    bF = pm.Normal('bF', 0, 0.5)\n",
    "    mu = intercept + bL*milk.L + bF*milk.F\n",
    "    sigma = pm.Exponential('sigma', 1)\n",
    "    K = pm.Normal('K', mu, sigma, observed=milk.K)\n",
    "    trace6_5 = pm.sample()\n",
    "az.summary(trace6_5)"
   ]
  },
  {
   "cell_type": "code",
   "execution_count": 44,
   "id": "1244d49e-00c0-46ab-87b6-9a8c3ded77e6",
   "metadata": {},
   "outputs": [
    {
     "data": {
      "text/html": [
       "<div>\n",
       "<style scoped>\n",
       "    .dataframe tbody tr th:only-of-type {\n",
       "        vertical-align: middle;\n",
       "    }\n",
       "\n",
       "    .dataframe tbody tr th {\n",
       "        vertical-align: top;\n",
       "    }\n",
       "\n",
       "    .dataframe thead th {\n",
       "        text-align: right;\n",
       "    }\n",
       "</style>\n",
       "<table border=\"1\" class=\"dataframe\">\n",
       "  <thead>\n",
       "    <tr style=\"text-align: right;\">\n",
       "      <th></th>\n",
       "      <th>mean</th>\n",
       "      <th>sd</th>\n",
       "      <th>hdi_3%</th>\n",
       "      <th>hdi_97%</th>\n",
       "    </tr>\n",
       "  </thead>\n",
       "  <tbody>\n",
       "    <tr>\n",
       "      <th>h0</th>\n",
       "      <td>10.26</td>\n",
       "      <td>2.14</td>\n",
       "      <td>6.43</td>\n",
       "      <td>14.45</td>\n",
       "    </tr>\n",
       "    <tr>\n",
       "      <th>h1</th>\n",
       "      <td>14.00</td>\n",
       "      <td>2.78</td>\n",
       "      <td>8.54</td>\n",
       "      <td>18.48</td>\n",
       "    </tr>\n",
       "    <tr>\n",
       "      <th>treatment</th>\n",
       "      <td>0.50</td>\n",
       "      <td>0.50</td>\n",
       "      <td>0.00</td>\n",
       "      <td>1.00</td>\n",
       "    </tr>\n",
       "    <tr>\n",
       "      <th>fungus</th>\n",
       "      <td>0.34</td>\n",
       "      <td>0.48</td>\n",
       "      <td>0.00</td>\n",
       "      <td>1.00</td>\n",
       "    </tr>\n",
       "  </tbody>\n",
       "</table>\n",
       "</div>"
      ],
      "text/plain": [
       "            mean    sd  hdi_3%  hdi_97%\n",
       "h0         10.26  2.14    6.43    14.45\n",
       "h1         14.00  2.78    8.54    18.48\n",
       "treatment   0.50  0.50    0.00     1.00\n",
       "fungus      0.34  0.48    0.00     1.00"
      ]
     },
     "execution_count": 44,
     "metadata": {},
     "output_type": "execute_result"
    }
   ],
   "source": [
    "N = 100\n",
    "h0 = np.random.normal(10, 2, N)\n",
    "treatment = np.repeat([0, 1], N/2)\n",
    "fungus = np.random.binomial(1, 0.5 - 0.3*treatment, N)\n",
    "h1 = h0 + np.random.normal(5 - 3*fungus, 1, N)\n",
    "fgdat = pd.DataFrame(np.vstack([h0, h1, treatment, fungus]).T, \n",
    "                        columns=['h0', 'h1', 'treatment', 'fungus'])\n",
    "az.summary(fgdat.to_dict(orient='list'), kind='stats', round_to=2)"
   ]
  },
  {
   "cell_type": "code",
   "execution_count": 51,
   "id": "7ff9353d-dba8-4d06-a261-06c34aa054bf",
   "metadata": {},
   "outputs": [
    {
     "data": {
      "text/html": [
       "<div>\n",
       "<style scoped>\n",
       "    .dataframe tbody tr th:only-of-type {\n",
       "        vertical-align: middle;\n",
       "    }\n",
       "\n",
       "    .dataframe tbody tr th {\n",
       "        vertical-align: top;\n",
       "    }\n",
       "\n",
       "    .dataframe thead th {\n",
       "        text-align: right;\n",
       "    }\n",
       "</style>\n",
       "<table border=\"1\" class=\"dataframe\">\n",
       "  <thead>\n",
       "    <tr style=\"text-align: right;\">\n",
       "      <th></th>\n",
       "      <th>h0</th>\n",
       "      <th>h1</th>\n",
       "      <th>treatment</th>\n",
       "      <th>fungus</th>\n",
       "    </tr>\n",
       "  </thead>\n",
       "  <tbody>\n",
       "    <tr>\n",
       "      <th>0</th>\n",
       "      <td>12.446393</td>\n",
       "      <td>16.848974</td>\n",
       "      <td>0.0</td>\n",
       "      <td>0.0</td>\n",
       "    </tr>\n",
       "    <tr>\n",
       "      <th>1</th>\n",
       "      <td>14.322884</td>\n",
       "      <td>16.640098</td>\n",
       "      <td>0.0</td>\n",
       "      <td>1.0</td>\n",
       "    </tr>\n",
       "    <tr>\n",
       "      <th>2</th>\n",
       "      <td>11.653091</td>\n",
       "      <td>16.425283</td>\n",
       "      <td>0.0</td>\n",
       "      <td>0.0</td>\n",
       "    </tr>\n",
       "    <tr>\n",
       "      <th>3</th>\n",
       "      <td>8.718461</td>\n",
       "      <td>14.220774</td>\n",
       "      <td>0.0</td>\n",
       "      <td>0.0</td>\n",
       "    </tr>\n",
       "    <tr>\n",
       "      <th>4</th>\n",
       "      <td>9.363723</td>\n",
       "      <td>10.636099</td>\n",
       "      <td>0.0</td>\n",
       "      <td>1.0</td>\n",
       "    </tr>\n",
       "  </tbody>\n",
       "</table>\n",
       "</div>"
      ],
      "text/plain": [
       "          h0         h1  treatment  fungus\n",
       "0  12.446393  16.848974        0.0     0.0\n",
       "1  14.322884  16.640098        0.0     1.0\n",
       "2  11.653091  16.425283        0.0     0.0\n",
       "3   8.718461  14.220774        0.0     0.0\n",
       "4   9.363723  10.636099        0.0     1.0"
      ]
     },
     "execution_count": 51,
     "metadata": {},
     "output_type": "execute_result"
    }
   ],
   "source": [
    "fgdat.head()"
   ]
  },
  {
   "cell_type": "code",
   "execution_count": 39,
   "id": "1f681e7b-5d3d-4a61-bb4b-ca7921800a70",
   "metadata": {},
   "outputs": [
    {
     "data": {
      "text/plain": [
       "array([[<AxesSubplot:title={'center':'h0'}>,\n",
       "        <AxesSubplot:title={'center':'h1'}>],\n",
       "       [<AxesSubplot:title={'center':'treatment'}>,\n",
       "        <AxesSubplot:title={'center':'fungus'}>]], dtype=object)"
      ]
     },
     "execution_count": 39,
     "metadata": {},
     "output_type": "execute_result"
    },
    {
     "data": {
      "image/png": "[encoded data removed]",
      "text/plain": [
       "<Figure size 432x288 with 4 Axes>"
      ]
     },
     "metadata": {},
     "output_type": "display_data"
    }
   ],
   "source": [
    "fgdat.hist()"
   ]
  },
  {
   "cell_type": "code",
   "execution_count": 46,
   "id": "379bc941-2bf4-4581-a8dd-44634ea290af",
   "metadata": {},
   "outputs": [
    {
     "data": {
      "text/html": [
       "<div>\n",
       "<style scoped>\n",
       "    .dataframe tbody tr th:only-of-type {\n",
       "        vertical-align: middle;\n",
       "    }\n",
       "\n",
       "    .dataframe tbody tr th {\n",
       "        vertical-align: top;\n",
       "    }\n",
       "\n",
       "    .dataframe thead th {\n",
       "        text-align: right;\n",
       "    }\n",
       "</style>\n",
       "<table border=\"1\" class=\"dataframe\">\n",
       "  <thead>\n",
       "    <tr style=\"text-align: right;\">\n",
       "      <th></th>\n",
       "      <th>mean</th>\n",
       "      <th>sd</th>\n",
       "      <th>hdi_3%</th>\n",
       "      <th>hdi_97%</th>\n",
       "    </tr>\n",
       "  </thead>\n",
       "  <tbody>\n",
       "    <tr>\n",
       "      <th>x</th>\n",
       "      <td>1.03</td>\n",
       "      <td>0.26</td>\n",
       "      <td>0.56</td>\n",
       "      <td>1.52</td>\n",
       "    </tr>\n",
       "  </tbody>\n",
       "</table>\n",
       "</div>"
      ],
      "text/plain": [
       "   mean    sd  hdi_3%  hdi_97%\n",
       "x  1.03  0.26    0.56     1.52"
      ]
     },
     "execution_count": 46,
     "metadata": {},
     "output_type": "execute_result"
    }
   ],
   "source": [
    "sim_p = np.random.lognormal(0, 0.25, int(1e4))\n",
    "az.summary(sim_p, kind='stats', round_to=2)"
   ]
  },
  {
   "cell_type": "code",
   "execution_count": 48,
   "id": "a2bd7fec-9744-4776-a384-607c3ef231e7",
   "metadata": {},
   "outputs": [
    {
     "name": "stderr",
     "output_type": "stream",
     "text": [
      "Auto-assigning NUTS sampler...\n",
      "Initializing NUTS using jitter+adapt_diag...\n",
      "Multiprocess sampling (4 chains in 4 jobs)\n",
      "NUTS: [sigma, p]\n"
     ]
    },
    {
     "data": {
      "text/html": [
       "\n",
       "    <div>\n",
       "        <style>\n",
       "            /* Turns off some styling */\n",
       "            progress {\n",
       "                /* gets rid of default border in Firefox and Opera. */\n",
       "                border: none;\n",
       "                /* Needs to be in here for Safari polyfill so background images work as expected. */\n",
       "                background-size: auto;\n",
       "            }\n",
       "            .progress-bar-interrupted, .progress-bar-interrupted::-webkit-progress-bar {\n",
       "                background: #F44336;\n",
       "            }\n",
       "        </style>\n",
       "      <progress value='8000' class='' max='8000' style='width:300px; height:20px; vertical-align: middle;'></progress>\n",
       "      100.00% [8000/8000 00:01<00:00 Sampling 4 chains, 0 divergences]\n",
       "    </div>\n",
       "    "
      ],
      "text/plain": [
       "<IPython.core.display.HTML object>"
      ]
     },
     "metadata": {},
     "output_type": "display_data"
    },
    {
     "name": "stderr",
     "output_type": "stream",
     "text": [
      "Sampling 4 chains for 1_000 tune and 1_000 draw iterations (4_000 + 4_000 draws total) took 2 seconds.\n"
     ]
    },
    {
     "data": {
      "text/html": [
       "<div>\n",
       "<style scoped>\n",
       "    .dataframe tbody tr th:only-of-type {\n",
       "        vertical-align: middle;\n",
       "    }\n",
       "\n",
       "    .dataframe tbody tr th {\n",
       "        vertical-align: top;\n",
       "    }\n",
       "\n",
       "    .dataframe thead th {\n",
       "        text-align: right;\n",
       "    }\n",
       "</style>\n",
       "<table border=\"1\" class=\"dataframe\">\n",
       "  <thead>\n",
       "    <tr style=\"text-align: right;\">\n",
       "      <th></th>\n",
       "      <th>mean</th>\n",
       "      <th>sd</th>\n",
       "      <th>hdi_3%</th>\n",
       "      <th>hdi_97%</th>\n",
       "      <th>mcse_mean</th>\n",
       "      <th>mcse_sd</th>\n",
       "      <th>ess_bulk</th>\n",
       "      <th>ess_tail</th>\n",
       "      <th>r_hat</th>\n",
       "    </tr>\n",
       "  </thead>\n",
       "  <tbody>\n",
       "    <tr>\n",
       "      <th>p</th>\n",
       "      <td>1.35</td>\n",
       "      <td>0.02</td>\n",
       "      <td>1.31</td>\n",
       "      <td>1.38</td>\n",
       "      <td>0.0</td>\n",
       "      <td>0.0</td>\n",
       "      <td>3211.42</td>\n",
       "      <td>2650.62</td>\n",
       "      <td>1.0</td>\n",
       "    </tr>\n",
       "    <tr>\n",
       "      <th>sigma</th>\n",
       "      <td>1.95</td>\n",
       "      <td>0.14</td>\n",
       "      <td>1.69</td>\n",
       "      <td>2.22</td>\n",
       "      <td>0.0</td>\n",
       "      <td>0.0</td>\n",
       "      <td>3102.74</td>\n",
       "      <td>2441.90</td>\n",
       "      <td>1.0</td>\n",
       "    </tr>\n",
       "  </tbody>\n",
       "</table>\n",
       "</div>"
      ],
      "text/plain": [
       "       mean    sd  hdi_3%  hdi_97%  mcse_mean  mcse_sd  ess_bulk  ess_tail  \\\n",
       "p      1.35  0.02    1.31     1.38        0.0      0.0   3211.42   2650.62   \n",
       "sigma  1.95  0.14    1.69     2.22        0.0      0.0   3102.74   2441.90   \n",
       "\n",
       "       r_hat  \n",
       "p        1.0  \n",
       "sigma    1.0  "
      ]
     },
     "execution_count": 48,
     "metadata": {},
     "output_type": "execute_result"
    }
   ],
   "source": [
    "with pm.Model() as m6_6:\n",
    "    p = pm.Lognormal('p', 0, 0.25)\n",
    "    mu = p * fgdat.h0\n",
    "    sigma = pm.Exponential('sigma', 1)\n",
    "    h1 = pm.Normal('h1', mu, sigma, observed=fgdat.h1)\n",
    "    trace6_6 = pm.sample()\n",
    "az.summary(trace6_6, round_to=2)"
   ]
  },
  {
   "cell_type": "code",
   "execution_count": 52,
   "id": "019f4354-5f32-4437-b02e-c228ba2a9b1c",
   "metadata": {},
   "outputs": [
    {
     "name": "stderr",
     "output_type": "stream",
     "text": [
      "Auto-assigning NUTS sampler...\n",
      "Initializing NUTS using jitter+adapt_diag...\n",
      "Multiprocess sampling (4 chains in 4 jobs)\n",
      "NUTS: [sigma, bf, bt, intercept]\n"
     ]
    },
    {
     "data": {
      "text/html": [
       "\n",
       "    <div>\n",
       "        <style>\n",
       "            /* Turns off some styling */\n",
       "            progress {\n",
       "                /* gets rid of default border in Firefox and Opera. */\n",
       "                border: none;\n",
       "                /* Needs to be in here for Safari polyfill so background images work as expected. */\n",
       "                background-size: auto;\n",
       "            }\n",
       "            .progress-bar-interrupted, .progress-bar-interrupted::-webkit-progress-bar {\n",
       "                background: #F44336;\n",
       "            }\n",
       "        </style>\n",
       "      <progress value='8000' class='' max='8000' style='width:300px; height:20px; vertical-align: middle;'></progress>\n",
       "      100.00% [8000/8000 00:02<00:00 Sampling 4 chains, 0 divergences]\n",
       "    </div>\n",
       "    "
      ],
      "text/plain": [
       "<IPython.core.display.HTML object>"
      ]
     },
     "metadata": {},
     "output_type": "display_data"
    },
    {
     "name": "stderr",
     "output_type": "stream",
     "text": [
      "Sampling 4 chains for 1_000 tune and 1_000 draw iterations (4_000 + 4_000 draws total) took 2 seconds.\n",
      "The acceptance probability does not match the target. It is 0.8829276638542007, but should be close to 0.8. Try to increase the number of tuning steps.\n"
     ]
    },
    {
     "data": {
      "text/html": [
       "<div>\n",
       "<style scoped>\n",
       "    .dataframe tbody tr th:only-of-type {\n",
       "        vertical-align: middle;\n",
       "    }\n",
       "\n",
       "    .dataframe tbody tr th {\n",
       "        vertical-align: top;\n",
       "    }\n",
       "\n",
       "    .dataframe thead th {\n",
       "        text-align: right;\n",
       "    }\n",
       "</style>\n",
       "<table border=\"1\" class=\"dataframe\">\n",
       "  <thead>\n",
       "    <tr style=\"text-align: right;\">\n",
       "      <th></th>\n",
       "      <th>mean</th>\n",
       "      <th>sd</th>\n",
       "      <th>hdi_3%</th>\n",
       "      <th>hdi_97%</th>\n",
       "    </tr>\n",
       "  </thead>\n",
       "  <tbody>\n",
       "    <tr>\n",
       "      <th>intercept</th>\n",
       "      <td>1.43</td>\n",
       "      <td>0.02</td>\n",
       "      <td>1.39</td>\n",
       "      <td>1.48</td>\n",
       "    </tr>\n",
       "    <tr>\n",
       "      <th>bt</th>\n",
       "      <td>0.01</td>\n",
       "      <td>0.03</td>\n",
       "      <td>-0.04</td>\n",
       "      <td>0.06</td>\n",
       "    </tr>\n",
       "    <tr>\n",
       "      <th>bf</th>\n",
       "      <td>-0.27</td>\n",
       "      <td>0.03</td>\n",
       "      <td>-0.33</td>\n",
       "      <td>-0.22</td>\n",
       "    </tr>\n",
       "    <tr>\n",
       "      <th>sigma</th>\n",
       "      <td>1.35</td>\n",
       "      <td>0.10</td>\n",
       "      <td>1.17</td>\n",
       "      <td>1.53</td>\n",
       "    </tr>\n",
       "  </tbody>\n",
       "</table>\n",
       "</div>"
      ],
      "text/plain": [
       "           mean    sd  hdi_3%  hdi_97%\n",
       "intercept  1.43  0.02    1.39     1.48\n",
       "bt         0.01  0.03   -0.04     0.06\n",
       "bf        -0.27  0.03   -0.33    -0.22\n",
       "sigma      1.35  0.10    1.17     1.53"
      ]
     },
     "execution_count": 52,
     "metadata": {},
     "output_type": "execute_result"
    }
   ],
   "source": [
    "with pm.Model() as m6_7:\n",
    "    intercept = pm.Normal('intercept', 0, 0.2)\n",
    "    bt = pm.Normal('bt', 0, 0.5)\n",
    "    bf = pm.Normal('bf', 0, 0.5)\n",
    "    p = intercept + bt*fgdat.treatment + bf*fgdat.fungus\n",
    "    mu = p * fgdat.h0\n",
    "    sigma = pm.Exponential('sigma', 1)\n",
    "    h1 = pm.Normal('h1', mu, sigma, observed=fgdat.h1)\n",
    "    trace6_7 = pm.sample()\n",
    "az.summary(trace6_7, kind='stats', round_to=2)"
   ]
  },
  {
   "cell_type": "code",
   "execution_count": 53,
   "id": "37f65b23-9125-4e63-b28d-bfbb30c28fe2",
   "metadata": {},
   "outputs": [
    {
     "name": "stderr",
     "output_type": "stream",
     "text": [
      "Auto-assigning NUTS sampler...\n",
      "Initializing NUTS using jitter+adapt_diag...\n",
      "Multiprocess sampling (4 chains in 4 jobs)\n",
      "NUTS: [sigma, bt, intercept]\n"
     ]
    },
    {
     "data": {
      "text/html": [
       "\n",
       "    <div>\n",
       "        <style>\n",
       "            /* Turns off some styling */\n",
       "            progress {\n",
       "                /* gets rid of default border in Firefox and Opera. */\n",
       "                border: none;\n",
       "                /* Needs to be in here for Safari polyfill so background images work as expected. */\n",
       "                background-size: auto;\n",
       "            }\n",
       "            .progress-bar-interrupted, .progress-bar-interrupted::-webkit-progress-bar {\n",
       "                background: #F44336;\n",
       "            }\n",
       "        </style>\n",
       "      <progress value='8000' class='' max='8000' style='width:300px; height:20px; vertical-align: middle;'></progress>\n",
       "      100.00% [8000/8000 00:01<00:00 Sampling 4 chains, 0 divergences]\n",
       "    </div>\n",
       "    "
      ],
      "text/plain": [
       "<IPython.core.display.HTML object>"
      ]
     },
     "metadata": {},
     "output_type": "display_data"
    },
    {
     "name": "stderr",
     "output_type": "stream",
     "text": [
      "Sampling 4 chains for 1_000 tune and 1_000 draw iterations (4_000 + 4_000 draws total) took 2 seconds.\n"
     ]
    },
    {
     "data": {
      "text/html": [
       "<div>\n",
       "<style scoped>\n",
       "    .dataframe tbody tr th:only-of-type {\n",
       "        vertical-align: middle;\n",
       "    }\n",
       "\n",
       "    .dataframe tbody tr th {\n",
       "        vertical-align: top;\n",
       "    }\n",
       "\n",
       "    .dataframe thead th {\n",
       "        text-align: right;\n",
       "    }\n",
       "</style>\n",
       "<table border=\"1\" class=\"dataframe\">\n",
       "  <thead>\n",
       "    <tr style=\"text-align: right;\">\n",
       "      <th></th>\n",
       "      <th>mean</th>\n",
       "      <th>sd</th>\n",
       "      <th>hdi_3%</th>\n",
       "      <th>hdi_97%</th>\n",
       "    </tr>\n",
       "  </thead>\n",
       "  <tbody>\n",
       "    <tr>\n",
       "      <th>intercept</th>\n",
       "      <td>1.28</td>\n",
       "      <td>0.03</td>\n",
       "      <td>1.23</td>\n",
       "      <td>1.33</td>\n",
       "    </tr>\n",
       "    <tr>\n",
       "      <th>bt</th>\n",
       "      <td>0.12</td>\n",
       "      <td>0.04</td>\n",
       "      <td>0.05</td>\n",
       "      <td>0.18</td>\n",
       "    </tr>\n",
       "    <tr>\n",
       "      <th>sigma</th>\n",
       "      <td>1.90</td>\n",
       "      <td>0.14</td>\n",
       "      <td>1.67</td>\n",
       "      <td>2.17</td>\n",
       "    </tr>\n",
       "  </tbody>\n",
       "</table>\n",
       "</div>"
      ],
      "text/plain": [
       "           mean    sd  hdi_3%  hdi_97%\n",
       "intercept  1.28  0.03    1.23     1.33\n",
       "bt         0.12  0.04    0.05     0.18\n",
       "sigma      1.90  0.14    1.67     2.17"
      ]
     },
     "execution_count": 53,
     "metadata": {},
     "output_type": "execute_result"
    }
   ],
   "source": [
    "with pm.Model() as m6_8:\n",
    "    intercept = pm.Normal('intercept', 0, 0.2)\n",
    "    bt = pm.Normal('bt', 0, 0.5)\n",
    "    p = intercept + bt*fgdat.treatment\n",
    "    mu = p * fgdat.h0\n",
    "    sigma = pm.Exponential('sigma', 1)\n",
    "    h1 = pm.Normal('h1', mu, sigma, observed=fgdat.h1)\n",
    "    trace6_8 = pm.sample()\n",
    "az.summary(trace6_8, kind='stats', round_to=2)"
   ]
  },
  {
   "cell_type": "code",
   "execution_count": 54,
   "id": "f19db164-4b9b-460a-9381-0feaf17b1192",
   "metadata": {},
   "outputs": [
    {
     "data": {
      "text/html": [
       "<div>\n",
       "<style scoped>\n",
       "    .dataframe tbody tr th:only-of-type {\n",
       "        vertical-align: middle;\n",
       "    }\n",
       "\n",
       "    .dataframe tbody tr th {\n",
       "        vertical-align: top;\n",
       "    }\n",
       "\n",
       "    .dataframe thead th {\n",
       "        text-align: right;\n",
       "    }\n",
       "</style>\n",
       "<table border=\"1\" class=\"dataframe\">\n",
       "  <thead>\n",
       "    <tr style=\"text-align: right;\">\n",
       "      <th></th>\n",
       "      <th>mean</th>\n",
       "      <th>sd</th>\n",
       "      <th>hdi_3%</th>\n",
       "      <th>hdi_97%</th>\n",
       "    </tr>\n",
       "  </thead>\n",
       "  <tbody>\n",
       "    <tr>\n",
       "      <th>h0</th>\n",
       "      <td>10.09</td>\n",
       "      <td>2.17</td>\n",
       "      <td>5.53</td>\n",
       "      <td>13.34</td>\n",
       "    </tr>\n",
       "    <tr>\n",
       "      <th>h1</th>\n",
       "      <td>16.74</td>\n",
       "      <td>3.01</td>\n",
       "      <td>10.90</td>\n",
       "      <td>21.59</td>\n",
       "    </tr>\n",
       "    <tr>\n",
       "      <th>treatment</th>\n",
       "      <td>0.50</td>\n",
       "      <td>0.50</td>\n",
       "      <td>0.00</td>\n",
       "      <td>1.00</td>\n",
       "    </tr>\n",
       "    <tr>\n",
       "      <th>fungus</th>\n",
       "      <td>0.57</td>\n",
       "      <td>0.50</td>\n",
       "      <td>0.00</td>\n",
       "      <td>1.00</td>\n",
       "    </tr>\n",
       "    <tr>\n",
       "      <th>moisture</th>\n",
       "      <td>0.51</td>\n",
       "      <td>0.50</td>\n",
       "      <td>0.00</td>\n",
       "      <td>1.00</td>\n",
       "    </tr>\n",
       "  </tbody>\n",
       "</table>\n",
       "</div>"
      ],
      "text/plain": [
       "            mean    sd  hdi_3%  hdi_97%\n",
       "h0         10.09  2.17    5.53    13.34\n",
       "h1         16.74  3.01   10.90    21.59\n",
       "treatment   0.50  0.50    0.00     1.00\n",
       "fungus      0.57  0.50    0.00     1.00\n",
       "moisture    0.51  0.50    0.00     1.00"
      ]
     },
     "execution_count": 54,
     "metadata": {},
     "output_type": "execute_result"
    }
   ],
   "source": [
    "# Fungus imaginary data. Moisture affect both fungus and plant growth\n",
    "N = 100\n",
    "h0 = np.random.normal(10, 2, N)\n",
    "treatment = np.repeat([0, 1], N/2)\n",
    "M = np.random.binomial(1, 0.5, N)\n",
    "fungus = np.random.binomial(1, 0.5 - 0.4*treatment + 0.4*M, N)\n",
    "h1 = h0 + np.random.normal(5 + 3*M, 1, N)\n",
    "fgdat2 = pd.DataFrame(np.vstack([h0, h1, treatment, fungus, M]).T, \n",
    "                        columns=['h0', 'h1', 'treatment', 'fungus', 'moisture'])\n",
    "az.summary(fgdat2.to_dict(orient='list'), kind='stats', round_to=2)"
   ]
  },
  {
   "cell_type": "code",
   "execution_count": 57,
   "id": "3c1cdaa1-6442-4617-8891-61395bfcebc8",
   "metadata": {},
   "outputs": [
    {
     "name": "stderr",
     "output_type": "stream",
     "text": [
      "Auto-assigning NUTS sampler...\n",
      "Initializing NUTS using jitter+adapt_diag...\n",
      "Multiprocess sampling (4 chains in 4 jobs)\n",
      "NUTS: [sigma, bf, bt, intercept]\n"
     ]
    },
    {
     "data": {
      "text/html": [
       "\n",
       "    <div>\n",
       "        <style>\n",
       "            /* Turns off some styling */\n",
       "            progress {\n",
       "                /* gets rid of default border in Firefox and Opera. */\n",
       "                border: none;\n",
       "                /* Needs to be in here for Safari polyfill so background images work as expected. */\n",
       "                background-size: auto;\n",
       "            }\n",
       "            .progress-bar-interrupted, .progress-bar-interrupted::-webkit-progress-bar {\n",
       "                background: #F44336;\n",
       "            }\n",
       "        </style>\n",
       "      <progress value='8000' class='' max='8000' style='width:300px; height:20px; vertical-align: middle;'></progress>\n",
       "      100.00% [8000/8000 00:02<00:00 Sampling 4 chains, 0 divergences]\n",
       "    </div>\n",
       "    "
      ],
      "text/plain": [
       "<IPython.core.display.HTML object>"
      ]
     },
     "metadata": {},
     "output_type": "display_data"
    },
    {
     "name": "stderr",
     "output_type": "stream",
     "text": [
      "Sampling 4 chains for 1_000 tune and 1_000 draw iterations (4_000 + 4_000 draws total) took 2 seconds.\n"
     ]
    },
    {
     "data": {
      "text/html": [
       "<div>\n",
       "<style scoped>\n",
       "    .dataframe tbody tr th:only-of-type {\n",
       "        vertical-align: middle;\n",
       "    }\n",
       "\n",
       "    .dataframe tbody tr th {\n",
       "        vertical-align: top;\n",
       "    }\n",
       "\n",
       "    .dataframe thead th {\n",
       "        text-align: right;\n",
       "    }\n",
       "</style>\n",
       "<table border=\"1\" class=\"dataframe\">\n",
       "  <thead>\n",
       "    <tr style=\"text-align: right;\">\n",
       "      <th></th>\n",
       "      <th>mean</th>\n",
       "      <th>sd</th>\n",
       "      <th>hdi_3%</th>\n",
       "      <th>hdi_97%</th>\n",
       "    </tr>\n",
       "  </thead>\n",
       "  <tbody>\n",
       "    <tr>\n",
       "      <th>intercept</th>\n",
       "      <td>1.15</td>\n",
       "      <td>0.09</td>\n",
       "      <td>0.98</td>\n",
       "      <td>1.32</td>\n",
       "    </tr>\n",
       "    <tr>\n",
       "      <th>bt</th>\n",
       "      <td>0.26</td>\n",
       "      <td>0.10</td>\n",
       "      <td>0.08</td>\n",
       "      <td>0.45</td>\n",
       "    </tr>\n",
       "    <tr>\n",
       "      <th>bf</th>\n",
       "      <td>0.38</td>\n",
       "      <td>0.10</td>\n",
       "      <td>0.20</td>\n",
       "      <td>0.56</td>\n",
       "    </tr>\n",
       "    <tr>\n",
       "      <th>sigma</th>\n",
       "      <td>4.84</td>\n",
       "      <td>0.37</td>\n",
       "      <td>4.20</td>\n",
       "      <td>5.56</td>\n",
       "    </tr>\n",
       "  </tbody>\n",
       "</table>\n",
       "</div>"
      ],
      "text/plain": [
       "           mean    sd  hdi_3%  hdi_97%\n",
       "intercept  1.15  0.09    0.98     1.32\n",
       "bt         0.26  0.10    0.08     0.45\n",
       "bf         0.38  0.10    0.20     0.56\n",
       "sigma      4.84  0.37    4.20     5.56"
      ]
     },
     "execution_count": 57,
     "metadata": {},
     "output_type": "execute_result"
    }
   ],
   "source": [
    "with pm.Model() as m6_72:\n",
    "    intercept = pm.Normal('intercept', 0, 0.2)\n",
    "    bt = pm.Normal('bt', 0, 0.5)\n",
    "    bf = pm.Normal('bf', 0, 0.5)\n",
    "    p = intercept + bt*fgdat2.treatment + bf*fgdat2.fungus\n",
    "    mu = p * fgdat.h0\n",
    "    sigma = pm.Exponential('sigma', 1)\n",
    "    h1 = pm.Normal('h1', mu, sigma, observed=fgdat2.h1)\n",
    "    trace6_72 = pm.sample()\n",
    "az.summary(trace6_72, kind='stats', round_to=2)"
   ]
  },
  {
   "cell_type": "code",
   "execution_count": 58,
   "id": "547cf076-177b-42bd-98d0-2bdc92fb92cf",
   "metadata": {},
   "outputs": [
    {
     "name": "stderr",
     "output_type": "stream",
     "text": [
      "Auto-assigning NUTS sampler...\n",
      "Initializing NUTS using jitter+adapt_diag...\n",
      "Multiprocess sampling (4 chains in 4 jobs)\n",
      "NUTS: [sigma, bt, intercept]\n"
     ]
    },
    {
     "data": {
      "text/html": [
       "\n",
       "    <div>\n",
       "        <style>\n",
       "            /* Turns off some styling */\n",
       "            progress {\n",
       "                /* gets rid of default border in Firefox and Opera. */\n",
       "                border: none;\n",
       "                /* Needs to be in here for Safari polyfill so background images work as expected. */\n",
       "                background-size: auto;\n",
       "            }\n",
       "            .progress-bar-interrupted, .progress-bar-interrupted::-webkit-progress-bar {\n",
       "                background: #F44336;\n",
       "            }\n",
       "        </style>\n",
       "      <progress value='8000' class='' max='8000' style='width:300px; height:20px; vertical-align: middle;'></progress>\n",
       "      100.00% [8000/8000 00:02<00:00 Sampling 4 chains, 0 divergences]\n",
       "    </div>\n",
       "    "
      ],
      "text/plain": [
       "<IPython.core.display.HTML object>"
      ]
     },
     "metadata": {},
     "output_type": "display_data"
    },
    {
     "name": "stderr",
     "output_type": "stream",
     "text": [
      "Sampling 4 chains for 1_000 tune and 1_000 draw iterations (4_000 + 4_000 draws total) took 2 seconds.\n"
     ]
    },
    {
     "data": {
      "text/html": [
       "<div>\n",
       "<style scoped>\n",
       "    .dataframe tbody tr th:only-of-type {\n",
       "        vertical-align: middle;\n",
       "    }\n",
       "\n",
       "    .dataframe tbody tr th {\n",
       "        vertical-align: top;\n",
       "    }\n",
       "\n",
       "    .dataframe thead th {\n",
       "        text-align: right;\n",
       "    }\n",
       "</style>\n",
       "<table border=\"1\" class=\"dataframe\">\n",
       "  <thead>\n",
       "    <tr style=\"text-align: right;\">\n",
       "      <th></th>\n",
       "      <th>mean</th>\n",
       "      <th>sd</th>\n",
       "      <th>hdi_3%</th>\n",
       "      <th>hdi_97%</th>\n",
       "    </tr>\n",
       "  </thead>\n",
       "  <tbody>\n",
       "    <tr>\n",
       "      <th>intercept</th>\n",
       "      <td>1.58</td>\n",
       "      <td>0.03</td>\n",
       "      <td>1.53</td>\n",
       "      <td>1.64</td>\n",
       "    </tr>\n",
       "    <tr>\n",
       "      <th>bt</th>\n",
       "      <td>0.07</td>\n",
       "      <td>0.05</td>\n",
       "      <td>-0.02</td>\n",
       "      <td>0.15</td>\n",
       "    </tr>\n",
       "    <tr>\n",
       "      <th>sigma</th>\n",
       "      <td>2.29</td>\n",
       "      <td>0.17</td>\n",
       "      <td>1.99</td>\n",
       "      <td>2.60</td>\n",
       "    </tr>\n",
       "  </tbody>\n",
       "</table>\n",
       "</div>"
      ],
      "text/plain": [
       "           mean    sd  hdi_3%  hdi_97%\n",
       "intercept  1.58  0.03    1.53     1.64\n",
       "bt         0.07  0.05   -0.02     0.15\n",
       "sigma      2.29  0.17    1.99     2.60"
      ]
     },
     "execution_count": 58,
     "metadata": {},
     "output_type": "execute_result"
    }
   ],
   "source": [
    "with pm.Model() as m6_82:\n",
    "    intercept = pm.Normal('intercept', 0, 0.2)\n",
    "    bt = pm.Normal('bt', 0, 0.5)\n",
    "    p = intercept + bt*fgdat2.treatment\n",
    "    mu = p * fgdat2.h0\n",
    "    sigma = pm.Exponential('sigma', 1)\n",
    "    h1 = pm.Normal('h1', mu, sigma, observed=fgdat2.h1)\n",
    "    trace6_82 = pm.sample()\n",
    "az.summary(trace6_82, kind='stats', round_to=2)"
   ]
  },
  {
   "cell_type": "code",
   "execution_count": 80,
   "id": "58d91e1e-0329-494f-b06e-27fe30f49753",
   "metadata": {},
   "outputs": [
    {
     "data": {
      "text/plain": [
       "[<matplotlib.lines.Line2D at 0x7f02794835e0>]"
      ]
     },
     "execution_count": 80,
     "metadata": {},
     "output_type": "execute_result"
    },
    {
     "data": {
      "image/png": "[encoded data removed]",
      "text/plain": [
       "<Figure size 432x288 with 1 Axes>"
      ]
     },
     "metadata": {},
     "output_type": "display_data"
    }
   ],
   "source": [
    "from scipy.special import expit, logit\n",
    "x = np.linspace(-5, 5, 50)\n",
    "plt.plot(x, expit(x))"
   ]
  },
  {
   "cell_type": "code",
   "execution_count": 81,
   "id": "12e4b850-c700-4854-9b76-a107de46ed06",
   "metadata": {},
   "outputs": [],
   "source": [
    "def sim_happiness(NYear=100, seed=1234):\n",
    "    from scipy.special import expit\n",
    "    np.random.seed(1234)\n",
    "    data = pd.DataFrame(np.zeros((65*20, 3)), columns=['age', 'happiness', 'married'])\n",
    "    data.loc[:, 'age'] = np.repeat(np.arange(65), 20)\n",
    "    data.loc[:, 'happiness'] = np.repeat(np.linspace(-2, 2, 20), 65)\n",
    "    data.loc[:, 'married'] = data.loc[:, 'married'].astype(bool)\n",
    "    \n",
    "    for i in range(NYear):\n",
    "        data.loc[:, 'age'] += 1\n",
    "        # retired old fork\n",
    "        old = data.age == 65\n",
    "        data.loc[old, 'age'] = 0\n",
    "        data.loc[old, 'happiness'] = np.linspace(-2, 2, 20)\n",
    "        data.loc[old, 'married'] = False\n",
    "        # Married\n",
    "        eligible = (data.married == 0) & (data.age >= 18)\n",
    "        marry = np.random.binomial(1, expit(data.loc[eligible, 'happiness'] - 4)) == 1\n",
    "        data.loc[eligible, 'married'] = marry\n",
    "    data.sort_values('age', inplace=True, ignore_index=True)\n",
    "    return data"
   ]
  },
  {
   "cell_type": "code",
   "execution_count": 135,
   "id": "7991f264-320f-455f-a64d-0f1cf4bdfa15",
   "metadata": {},
   "outputs": [
    {
     "data": {
      "text/html": [
       "<div>\n",
       "<style scoped>\n",
       "    .dataframe tbody tr th:only-of-type {\n",
       "        vertical-align: middle;\n",
       "    }\n",
       "\n",
       "    .dataframe tbody tr th {\n",
       "        vertical-align: top;\n",
       "    }\n",
       "\n",
       "    .dataframe thead th {\n",
       "        text-align: right;\n",
       "    }\n",
       "</style>\n",
       "<table border=\"1\" class=\"dataframe\">\n",
       "  <thead>\n",
       "    <tr style=\"text-align: right;\">\n",
       "      <th></th>\n",
       "      <th>mean</th>\n",
       "      <th>sd</th>\n",
       "      <th>hdi_3%</th>\n",
       "      <th>hdi_97%</th>\n",
       "    </tr>\n",
       "  </thead>\n",
       "  <tbody>\n",
       "    <tr>\n",
       "      <th>age</th>\n",
       "      <td>32.00</td>\n",
       "      <td>18.77</td>\n",
       "      <td>0.0</td>\n",
       "      <td>61.00</td>\n",
       "    </tr>\n",
       "    <tr>\n",
       "      <th>happiness</th>\n",
       "      <td>-0.00</td>\n",
       "      <td>1.21</td>\n",
       "      <td>-2.0</td>\n",
       "      <td>1.79</td>\n",
       "    </tr>\n",
       "    <tr>\n",
       "      <th>married</th>\n",
       "      <td>0.28</td>\n",
       "      <td>0.45</td>\n",
       "      <td>0.0</td>\n",
       "      <td>1.00</td>\n",
       "    </tr>\n",
       "  </tbody>\n",
       "</table>\n",
       "</div>"
      ],
      "text/plain": [
       "            mean     sd  hdi_3%  hdi_97%\n",
       "age        32.00  18.77     0.0    61.00\n",
       "happiness  -0.00   1.21    -2.0     1.79\n",
       "married     0.28   0.45     0.0     1.00"
      ]
     },
     "execution_count": 135,
     "metadata": {},
     "output_type": "execute_result"
    }
   ],
   "source": [
    "popn = sim_happiness()\n",
    "az.summary(popn.to_dict(orient='list'), kind='stats', round_to=2)"
   ]
  },
  {
   "cell_type": "code",
   "execution_count": 129,
   "id": "ba81ea19-d93f-4dec-b807-23cd26837bfc",
   "metadata": {},
   "outputs": [
    {
     "data": {
      "text/plain": [
       "Text(0, 0.5, 'happiness')"
      ]
     },
     "execution_count": 129,
     "metadata": {},
     "output_type": "execute_result"
    },
    {
     "data": {
      "image/png": "[encoded data removed]",
      "text/plain": [
       "<Figure size 720x244.8 with 1 Axes>"
      ]
     },
     "metadata": {},
     "output_type": "display_data"
    }
   ],
   "source": [
    "fig, ax = plt.subplots(figsize=[10, 3.4])\n",
    "colors = np.array(['w']*popn.shape[0])\n",
    "colors[popn.married] = 'b'\n",
    "ax.scatter(popn.age, popn.happiness, edgecolors='k', color=colors)\n",
    "ax.scatter([], [], edgecolors='k', color='w', label='unmarried')\n",
    "ax.scatter([], [], edgecolors='k', color='b', label='married')\n",
    "ax.legend(loc='upper left', frameon=True, framealpha=1)\n",
    "ax.set_xlabel('age')\n",
    "ax.set_ylabel('happiness')"
   ]
  },
  {
   "cell_type": "code",
   "execution_count": 152,
   "id": "59931a75-3bc1-4ee8-8eff-521643a51fd6",
   "metadata": {},
   "outputs": [
    {
     "data": {
      "text/html": [
       "<div>\n",
       "<style scoped>\n",
       "    .dataframe tbody tr th:only-of-type {\n",
       "        vertical-align: middle;\n",
       "    }\n",
       "\n",
       "    .dataframe tbody tr th {\n",
       "        vertical-align: top;\n",
       "    }\n",
       "\n",
       "    .dataframe thead th {\n",
       "        text-align: right;\n",
       "    }\n",
       "</style>\n",
       "<table border=\"1\" class=\"dataframe\">\n",
       "  <thead>\n",
       "    <tr style=\"text-align: right;\">\n",
       "      <th></th>\n",
       "      <th>index</th>\n",
       "      <th>age</th>\n",
       "      <th>happiness</th>\n",
       "      <th>married</th>\n",
       "      <th>A</th>\n",
       "    </tr>\n",
       "  </thead>\n",
       "  <tbody>\n",
       "    <tr>\n",
       "      <th>0</th>\n",
       "      <td>360</td>\n",
       "      <td>18</td>\n",
       "      <td>0.526316</td>\n",
       "      <td>True</td>\n",
       "      <td>0.000000</td>\n",
       "    </tr>\n",
       "    <tr>\n",
       "      <th>1</th>\n",
       "      <td>361</td>\n",
       "      <td>18</td>\n",
       "      <td>0.736842</td>\n",
       "      <td>False</td>\n",
       "      <td>0.000000</td>\n",
       "    </tr>\n",
       "    <tr>\n",
       "      <th>2</th>\n",
       "      <td>362</td>\n",
       "      <td>18</td>\n",
       "      <td>0.947368</td>\n",
       "      <td>False</td>\n",
       "      <td>0.000000</td>\n",
       "    </tr>\n",
       "    <tr>\n",
       "      <th>3</th>\n",
       "      <td>363</td>\n",
       "      <td>18</td>\n",
       "      <td>1.157895</td>\n",
       "      <td>False</td>\n",
       "      <td>0.000000</td>\n",
       "    </tr>\n",
       "    <tr>\n",
       "      <th>4</th>\n",
       "      <td>364</td>\n",
       "      <td>18</td>\n",
       "      <td>2.000000</td>\n",
       "      <td>False</td>\n",
       "      <td>0.000000</td>\n",
       "    </tr>\n",
       "    <tr>\n",
       "      <th>...</th>\n",
       "      <td>...</td>\n",
       "      <td>...</td>\n",
       "      <td>...</td>\n",
       "      <td>...</td>\n",
       "      <td>...</td>\n",
       "    </tr>\n",
       "    <tr>\n",
       "      <th>935</th>\n",
       "      <td>1295</td>\n",
       "      <td>64</td>\n",
       "      <td>-1.578947</td>\n",
       "      <td>False</td>\n",
       "      <td>0.978723</td>\n",
       "    </tr>\n",
       "    <tr>\n",
       "      <th>936</th>\n",
       "      <td>1296</td>\n",
       "      <td>64</td>\n",
       "      <td>-1.789474</td>\n",
       "      <td>False</td>\n",
       "      <td>0.978723</td>\n",
       "    </tr>\n",
       "    <tr>\n",
       "      <th>937</th>\n",
       "      <td>1297</td>\n",
       "      <td>64</td>\n",
       "      <td>-2.000000</td>\n",
       "      <td>False</td>\n",
       "      <td>0.978723</td>\n",
       "    </tr>\n",
       "    <tr>\n",
       "      <th>938</th>\n",
       "      <td>1298</td>\n",
       "      <td>64</td>\n",
       "      <td>-0.105263</td>\n",
       "      <td>False</td>\n",
       "      <td>0.978723</td>\n",
       "    </tr>\n",
       "    <tr>\n",
       "      <th>939</th>\n",
       "      <td>1299</td>\n",
       "      <td>64</td>\n",
       "      <td>2.000000</td>\n",
       "      <td>True</td>\n",
       "      <td>0.978723</td>\n",
       "    </tr>\n",
       "  </tbody>\n",
       "</table>\n",
       "<p>940 rows × 5 columns</p>\n",
       "</div>"
      ],
      "text/plain": [
       "     index  age  happiness  married         A\n",
       "0      360   18   0.526316     True  0.000000\n",
       "1      361   18   0.736842    False  0.000000\n",
       "2      362   18   0.947368    False  0.000000\n",
       "3      363   18   1.157895    False  0.000000\n",
       "4      364   18   2.000000    False  0.000000\n",
       "..     ...  ...        ...      ...       ...\n",
       "935   1295   64  -1.578947    False  0.978723\n",
       "936   1296   64  -1.789474    False  0.978723\n",
       "937   1297   64  -2.000000    False  0.978723\n",
       "938   1298   64  -0.105263    False  0.978723\n",
       "939   1299   64   2.000000     True  0.978723\n",
       "\n",
       "[940 rows x 5 columns]"
      ]
     },
     "execution_count": 152,
     "metadata": {},
     "output_type": "execute_result"
    }
   ],
   "source": [
    "popn2 = popn[popn.age > 17].copy()\n",
    "popn2['A'] = (popn2.loc[:, 'age'] - 18) / (65-18)\n",
    "popn2.reset_index()"
   ]
  },
  {
   "cell_type": "code",
   "execution_count": 153,
   "id": "759b8674-c0f2-4fb9-acf2-27cc29d28bc4",
   "metadata": {},
   "outputs": [
    {
     "name": "stderr",
     "output_type": "stream",
     "text": [
      "Auto-assigning NUTS sampler...\n",
      "Initializing NUTS using jitter+adapt_diag...\n",
      "Multiprocess sampling (4 chains in 4 jobs)\n",
      "NUTS: [sigma, bA, intercep]\n"
     ]
    },
    {
     "data": {
      "text/html": [
       "\n",
       "    <div>\n",
       "        <style>\n",
       "            /* Turns off some styling */\n",
       "            progress {\n",
       "                /* gets rid of default border in Firefox and Opera. */\n",
       "                border: none;\n",
       "                /* Needs to be in here for Safari polyfill so background images work as expected. */\n",
       "                background-size: auto;\n",
       "            }\n",
       "            .progress-bar-interrupted, .progress-bar-interrupted::-webkit-progress-bar {\n",
       "                background: #F44336;\n",
       "            }\n",
       "        </style>\n",
       "      <progress value='8000' class='' max='8000' style='width:300px; height:20px; vertical-align: middle;'></progress>\n",
       "      100.00% [8000/8000 00:02<00:00 Sampling 4 chains, 0 divergences]\n",
       "    </div>\n",
       "    "
      ],
      "text/plain": [
       "<IPython.core.display.HTML object>"
      ]
     },
     "metadata": {},
     "output_type": "display_data"
    },
    {
     "name": "stderr",
     "output_type": "stream",
     "text": [
      "Sampling 4 chains for 1_000 tune and 1_000 draw iterations (4_000 + 4_000 draws total) took 3 seconds.\n"
     ]
    },
    {
     "data": {
      "text/html": [
       "<div>\n",
       "<style scoped>\n",
       "    .dataframe tbody tr th:only-of-type {\n",
       "        vertical-align: middle;\n",
       "    }\n",
       "\n",
       "    .dataframe tbody tr th {\n",
       "        vertical-align: top;\n",
       "    }\n",
       "\n",
       "    .dataframe thead th {\n",
       "        text-align: right;\n",
       "    }\n",
       "</style>\n",
       "<table border=\"1\" class=\"dataframe\">\n",
       "  <thead>\n",
       "    <tr style=\"text-align: right;\">\n",
       "      <th></th>\n",
       "      <th>mean</th>\n",
       "      <th>sd</th>\n",
       "      <th>hdi_3%</th>\n",
       "      <th>hdi_97%</th>\n",
       "      <th>mcse_mean</th>\n",
       "      <th>mcse_sd</th>\n",
       "      <th>ess_bulk</th>\n",
       "      <th>ess_tail</th>\n",
       "      <th>r_hat</th>\n",
       "    </tr>\n",
       "  </thead>\n",
       "  <tbody>\n",
       "    <tr>\n",
       "      <th>intercep[0]</th>\n",
       "      <td>-0.200</td>\n",
       "      <td>0.070</td>\n",
       "      <td>-0.334</td>\n",
       "      <td>-0.074</td>\n",
       "      <td>0.002</td>\n",
       "      <td>0.001</td>\n",
       "      <td>1849.0</td>\n",
       "      <td>2198.0</td>\n",
       "      <td>1.0</td>\n",
       "    </tr>\n",
       "    <tr>\n",
       "      <th>intercep[1]</th>\n",
       "      <td>1.212</td>\n",
       "      <td>0.094</td>\n",
       "      <td>1.035</td>\n",
       "      <td>1.386</td>\n",
       "      <td>0.002</td>\n",
       "      <td>0.002</td>\n",
       "      <td>1742.0</td>\n",
       "      <td>2011.0</td>\n",
       "      <td>1.0</td>\n",
       "    </tr>\n",
       "    <tr>\n",
       "      <th>bA</th>\n",
       "      <td>-0.715</td>\n",
       "      <td>0.127</td>\n",
       "      <td>-0.952</td>\n",
       "      <td>-0.480</td>\n",
       "      <td>0.003</td>\n",
       "      <td>0.002</td>\n",
       "      <td>1616.0</td>\n",
       "      <td>1948.0</td>\n",
       "      <td>1.0</td>\n",
       "    </tr>\n",
       "    <tr>\n",
       "      <th>sigma</th>\n",
       "      <td>1.021</td>\n",
       "      <td>0.023</td>\n",
       "      <td>0.976</td>\n",
       "      <td>1.065</td>\n",
       "      <td>0.000</td>\n",
       "      <td>0.000</td>\n",
       "      <td>2627.0</td>\n",
       "      <td>2431.0</td>\n",
       "      <td>1.0</td>\n",
       "    </tr>\n",
       "  </tbody>\n",
       "</table>\n",
       "</div>"
      ],
      "text/plain": [
       "              mean     sd  hdi_3%  hdi_97%  mcse_mean  mcse_sd  ess_bulk  \\\n",
       "intercep[0] -0.200  0.070  -0.334   -0.074      0.002    0.001    1849.0   \n",
       "intercep[1]  1.212  0.094   1.035    1.386      0.002    0.002    1742.0   \n",
       "bA          -0.715  0.127  -0.952   -0.480      0.003    0.002    1616.0   \n",
       "sigma        1.021  0.023   0.976    1.065      0.000    0.000    2627.0   \n",
       "\n",
       "             ess_tail  r_hat  \n",
       "intercep[0]    2198.0    1.0  \n",
       "intercep[1]    2011.0    1.0  \n",
       "bA             1948.0    1.0  \n",
       "sigma          2431.0    1.0  "
      ]
     },
     "execution_count": 153,
     "metadata": {},
     "output_type": "execute_result"
    }
   ],
   "source": [
    "mid = popn2.married.astype(int)\n",
    "with pm.Model() as m6_9:\n",
    "    intercept = pm.Normal('intercep', 0, 1, shape=2)\n",
    "    bA = pm.Normal('bA', 0, 2)\n",
    "    mu = intercept[mid] + bA * popn2.A\n",
    "    sigma = pm.Exponential('sigma', 1)\n",
    "    happiness = pm.Normal('happiness', mu, sigma, observed=popn2.happiness)\n",
    "    trace6_9 = pm.sample()\n",
    "az.summary(trace6_9)"
   ]
  },
  {
   "cell_type": "code",
   "execution_count": 154,
   "id": "fffab982-a6e1-4f65-b878-da612df2cd17",
   "metadata": {},
   "outputs": [
    {
     "name": "stderr",
     "output_type": "stream",
     "text": [
      "Auto-assigning NUTS sampler...\n",
      "Initializing NUTS using jitter+adapt_diag...\n",
      "Multiprocess sampling (4 chains in 4 jobs)\n",
      "NUTS: [sigma, bA, intercep]\n"
     ]
    },
    {
     "data": {
      "text/html": [
       "\n",
       "    <div>\n",
       "        <style>\n",
       "            /* Turns off some styling */\n",
       "            progress {\n",
       "                /* gets rid of default border in Firefox and Opera. */\n",
       "                border: none;\n",
       "                /* Needs to be in here for Safari polyfill so background images work as expected. */\n",
       "                background-size: auto;\n",
       "            }\n",
       "            .progress-bar-interrupted, .progress-bar-interrupted::-webkit-progress-bar {\n",
       "                background: #F44336;\n",
       "            }\n",
       "        </style>\n",
       "      <progress value='8000' class='' max='8000' style='width:300px; height:20px; vertical-align: middle;'></progress>\n",
       "      100.00% [8000/8000 00:01<00:00 Sampling 4 chains, 0 divergences]\n",
       "    </div>\n",
       "    "
      ],
      "text/plain": [
       "<IPython.core.display.HTML object>"
      ]
     },
     "metadata": {},
     "output_type": "display_data"
    },
    {
     "name": "stderr",
     "output_type": "stream",
     "text": [
      "Sampling 4 chains for 1_000 tune and 1_000 draw iterations (4_000 + 4_000 draws total) took 2 seconds.\n"
     ]
    },
    {
     "data": {
      "text/html": [
       "<div>\n",
       "<style scoped>\n",
       "    .dataframe tbody tr th:only-of-type {\n",
       "        vertical-align: middle;\n",
       "    }\n",
       "\n",
       "    .dataframe tbody tr th {\n",
       "        vertical-align: top;\n",
       "    }\n",
       "\n",
       "    .dataframe thead th {\n",
       "        text-align: right;\n",
       "    }\n",
       "</style>\n",
       "<table border=\"1\" class=\"dataframe\">\n",
       "  <thead>\n",
       "    <tr style=\"text-align: right;\">\n",
       "      <th></th>\n",
       "      <th>mean</th>\n",
       "      <th>sd</th>\n",
       "      <th>hdi_3%</th>\n",
       "      <th>hdi_97%</th>\n",
       "      <th>mcse_mean</th>\n",
       "      <th>mcse_sd</th>\n",
       "      <th>ess_bulk</th>\n",
       "      <th>ess_tail</th>\n",
       "      <th>r_hat</th>\n",
       "    </tr>\n",
       "  </thead>\n",
       "  <tbody>\n",
       "    <tr>\n",
       "      <th>intercep</th>\n",
       "      <td>-0.027</td>\n",
       "      <td>0.998</td>\n",
       "      <td>-1.946</td>\n",
       "      <td>1.776</td>\n",
       "      <td>0.014</td>\n",
       "      <td>0.016</td>\n",
       "      <td>5189.0</td>\n",
       "      <td>3060.0</td>\n",
       "      <td>1.0</td>\n",
       "    </tr>\n",
       "    <tr>\n",
       "      <th>bA</th>\n",
       "      <td>0.000</td>\n",
       "      <td>0.068</td>\n",
       "      <td>-0.128</td>\n",
       "      <td>0.127</td>\n",
       "      <td>0.001</td>\n",
       "      <td>0.001</td>\n",
       "      <td>5667.0</td>\n",
       "      <td>3171.0</td>\n",
       "      <td>1.0</td>\n",
       "    </tr>\n",
       "    <tr>\n",
       "      <th>sigma</th>\n",
       "      <td>1.215</td>\n",
       "      <td>0.029</td>\n",
       "      <td>1.163</td>\n",
       "      <td>1.268</td>\n",
       "      <td>0.000</td>\n",
       "      <td>0.000</td>\n",
       "      <td>6370.0</td>\n",
       "      <td>3071.0</td>\n",
       "      <td>1.0</td>\n",
       "    </tr>\n",
       "  </tbody>\n",
       "</table>\n",
       "</div>"
      ],
      "text/plain": [
       "           mean     sd  hdi_3%  hdi_97%  mcse_mean  mcse_sd  ess_bulk  \\\n",
       "intercep -0.027  0.998  -1.946    1.776      0.014    0.016    5189.0   \n",
       "bA        0.000  0.068  -0.128    0.127      0.001    0.001    5667.0   \n",
       "sigma     1.215  0.029   1.163    1.268      0.000    0.000    6370.0   \n",
       "\n",
       "          ess_tail  r_hat  \n",
       "intercep    3060.0    1.0  \n",
       "bA          3171.0    1.0  \n",
       "sigma       3071.0    1.0  "
      ]
     },
     "execution_count": 154,
     "metadata": {},
     "output_type": "execute_result"
    }
   ],
   "source": [
    "with pm.Model() as m6_10:\n",
    "    intercept = pm.Normal('intercep', 0, 1)\n",
    "    bA = pm.Normal('bA', 0, 2)\n",
    "    mu = bA * popn2.A\n",
    "    sigma = pm.Exponential('sigma', 1)\n",
    "    happiness = pm.Normal('happiness', mu, sigma, observed=popn2.happiness)\n",
    "    trace6_10 = pm.sample()\n",
    "az.summary(trace6_10)"
   ]
  },
  {
   "cell_type": "code",
   "execution_count": 169,
   "id": "337ca2a5-5425-46d5-82e9-602b1611fc80",
   "metadata": {},
   "outputs": [],
   "source": [
    "## Collider Bias - Unobserved\n",
    "# Unknown environment factor and parent's education affect Child's education\n",
    "# No direct impact from GrandParent education to Child's education\n",
    "N = 200\n",
    "b_GP = 1\n",
    "b_PC = 1\n",
    "b_GC = 0\n",
    "b_U = 2\n",
    "U = 2*np.random.binomial(1, 0.5, N) - 1\n",
    "G = np.random.normal(0, 1, N)\n",
    "P = np.random.normal(b_GP*G + b_U*U)\n",
    "C = np.random.normal(b_GC*G + b_PC*P + b_U*U)\n",
    "edu = pd.DataFrame(np.vstack([U, G, P, C]).T, columns=['U', 'G', 'P', 'C'])"
   ]
  },
  {
   "cell_type": "code",
   "execution_count": 180,
   "id": "0923f58f-ee97-489c-9c9d-c0b7054dd3e5",
   "metadata": {},
   "outputs": [
    {
     "data": {
      "image/png": "[encoded data removed]",
      "text/plain": [
       "<Figure size 432x288 with 1 Axes>"
      ]
     },
     "metadata": {},
     "output_type": "display_data"
    }
   ],
   "source": [
    "bad = U < 0\n",
    "good = ~bad\n",
    "plt.scatter(G[good], C[good], color='w', edgecolor='C0')\n",
    "plt.scatter(G[bad], C[bad], color='w', edgecolors='k')\n",
    "eP = (P > -1) & (P < 1)\n",
    "plt.scatter(G[good & eP], C[good & eP], color='C0', edgecolors='C0')\n",
    "plt.scatter(G[bad & eP], C[bad & eP], color='k', edgecolors='k')\n",
    "\n",
    "p = np.polyfit(G[eP], C[eP], 1)\n",
    "xn = np.array([-2, 2])\n",
    "plt.plot(xn, np.polyval(p, xn), color='r')\n",
    "\n",
    "plt.xlabel('Grandparent education (G)')\n",
    "plt.ylabel('Children education (C)');"
   ]
  },
  {
   "cell_type": "code",
   "execution_count": 165,
   "id": "4286e1a9-98d7-44ac-a994-1b21ab0c0816",
   "metadata": {},
   "outputs": [
    {
     "name": "stderr",
     "output_type": "stream",
     "text": [
      "Auto-assigning NUTS sampler...\n",
      "Initializing NUTS using jitter+adapt_diag...\n",
      "Multiprocess sampling (4 chains in 4 jobs)\n",
      "NUTS: [sigma, PC, GC, intercept]\n"
     ]
    },
    {
     "data": {
      "text/html": [
       "\n",
       "    <div>\n",
       "        <style>\n",
       "            /* Turns off some styling */\n",
       "            progress {\n",
       "                /* gets rid of default border in Firefox and Opera. */\n",
       "                border: none;\n",
       "                /* Needs to be in here for Safari polyfill so background images work as expected. */\n",
       "                background-size: auto;\n",
       "            }\n",
       "            .progress-bar-interrupted, .progress-bar-interrupted::-webkit-progress-bar {\n",
       "                background: #F44336;\n",
       "            }\n",
       "        </style>\n",
       "      <progress value='8000' class='' max='8000' style='width:300px; height:20px; vertical-align: middle;'></progress>\n",
       "      100.00% [8000/8000 00:01<00:00 Sampling 4 chains, 0 divergences]\n",
       "    </div>\n",
       "    "
      ],
      "text/plain": [
       "<IPython.core.display.HTML object>"
      ]
     },
     "metadata": {},
     "output_type": "display_data"
    },
    {
     "name": "stderr",
     "output_type": "stream",
     "text": [
      "Sampling 4 chains for 1_000 tune and 1_000 draw iterations (4_000 + 4_000 draws total) took 2 seconds.\n"
     ]
    }
   ],
   "source": [
    "with pm.Model() as m6_11:\n",
    "    intercept = pm.Normal('intercept', 0, 1)\n",
    "    b_GC = pm.Normal('GC', 0, 1)\n",
    "    b_PC = pm.Normal('PC', 0, 1)\n",
    "    sigma = pm.Exponential('sigma', 1)\n",
    "    mu = intercept + b_GC*edu.G + b_PC*edu.P\n",
    "    C = pm.Normal('C', mu, sigma, observed=edu.C)\n",
    "    trace6_11 = pm.sample()"
   ]
  },
  {
   "cell_type": "code",
   "execution_count": 166,
   "id": "ab9b2c3d-6ab7-4a31-864a-738316b3ebab",
   "metadata": {},
   "outputs": [
    {
     "data": {
      "text/html": [
       "<div>\n",
       "<style scoped>\n",
       "    .dataframe tbody tr th:only-of-type {\n",
       "        vertical-align: middle;\n",
       "    }\n",
       "\n",
       "    .dataframe tbody tr th {\n",
       "        vertical-align: top;\n",
       "    }\n",
       "\n",
       "    .dataframe thead th {\n",
       "        text-align: right;\n",
       "    }\n",
       "</style>\n",
       "<table border=\"1\" class=\"dataframe\">\n",
       "  <thead>\n",
       "    <tr style=\"text-align: right;\">\n",
       "      <th></th>\n",
       "      <th>mean</th>\n",
       "      <th>sd</th>\n",
       "      <th>hdi_3%</th>\n",
       "      <th>hdi_97%</th>\n",
       "    </tr>\n",
       "  </thead>\n",
       "  <tbody>\n",
       "    <tr>\n",
       "      <th>intercept</th>\n",
       "      <td>-0.06</td>\n",
       "      <td>0.09</td>\n",
       "      <td>-0.23</td>\n",
       "      <td>0.11</td>\n",
       "    </tr>\n",
       "    <tr>\n",
       "      <th>GC</th>\n",
       "      <td>-0.83</td>\n",
       "      <td>0.10</td>\n",
       "      <td>-1.01</td>\n",
       "      <td>-0.65</td>\n",
       "    </tr>\n",
       "    <tr>\n",
       "      <th>PC</th>\n",
       "      <td>1.82</td>\n",
       "      <td>0.04</td>\n",
       "      <td>1.75</td>\n",
       "      <td>1.90</td>\n",
       "    </tr>\n",
       "    <tr>\n",
       "      <th>sigma</th>\n",
       "      <td>1.28</td>\n",
       "      <td>0.06</td>\n",
       "      <td>1.16</td>\n",
       "      <td>1.40</td>\n",
       "    </tr>\n",
       "  </tbody>\n",
       "</table>\n",
       "</div>"
      ],
      "text/plain": [
       "           mean    sd  hdi_3%  hdi_97%\n",
       "intercept -0.06  0.09   -0.23     0.11\n",
       "GC        -0.83  0.10   -1.01    -0.65\n",
       "PC         1.82  0.04    1.75     1.90\n",
       "sigma      1.28  0.06    1.16     1.40"
      ]
     },
     "execution_count": 166,
     "metadata": {},
     "output_type": "execute_result"
    }
   ],
   "source": [
    "az.summary(trace6_11, kind='stats', round_to=2)"
   ]
  }
 ],
 "metadata": {
  "kernelspec": {
   "display_name": "Python 3.9.6 64-bit ('kaggle': conda)",
   "language": "python",
   "name": "python396jvsc74a57bd00aa3e0052e0612208b1a97e46d267030097c1656210ef55d57906a8d0b57dca6"
  },
  "language_info": {
   "codemirror_mode": {
    "name": "ipython",
    "version": 3
   },
   "file_extension": ".py",
   "mimetype": "text/x-python",
   "name": "python",
   "nbconvert_exporter": "python",
   "pygments_lexer": "ipython3",
   "version": "3.9.7"
  }
 },
 "nbformat": 4,
 "nbformat_minor": 5
}
