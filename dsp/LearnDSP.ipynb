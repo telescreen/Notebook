{
 "cells": [
  {
   "cell_type": "code",
   "execution_count": 2,
   "metadata": {},
   "outputs": [],
   "source": [
    "import matplotlib.pyplot as plt\n",
    "import numpy as np\n",
    "\n",
    "from dsignal import Signal, impseq, stepseq\n",
    "\n",
    "%matplotlib inline"
   ]
  },
  {
   "cell_type": "code",
   "execution_count": 2,
   "metadata": {},
   "outputs": [
    {
     "name": "stdout",
     "output_type": "stream",
     "text": [
      "t: [-5 -4 -3 -2 -1  0  1  2  3  4  5]\n",
      "x: [ 0.  0.  0.  2.  0.  0.  0.  0.  0. -1.  0.]\n"
     ]
    }
   ],
   "source": [
    "x = 2 * impseq(-2, -5, 5) - impseq(4, -5, 5)\n",
    "print(x)"
   ]
  },
  {
   "cell_type": "code",
   "execution_count": 3,
   "metadata": {},
   "outputs": [
    {
     "data": {
      "image/png": "[encoded data removed]",
      "text/plain": [
       "<Figure size 432x288 with 1 Axes>"
      ]
     },
     "metadata": {
      "needs_background": "light"
     },
     "output_type": "display_data"
    }
   ],
   "source": [
    "plt.stem(x.time, x.value)\n",
    "ax = plt.gca()\n",
    "ax.set_xlim([-5, 5])\n",
    "ax.set_ylim([-2,3])\n",
    "ax.grid()"
   ]
  },
  {
   "cell_type": "code",
   "execution_count": 14,
   "metadata": {},
   "outputs": [
    {
     "data": {
      "image/png": "[encoded data removed]",
      "text/plain": [
       "<Figure size 432x288 with 1 Axes>"
      ]
     },
     "metadata": {
      "needs_background": "light"
     },
     "output_type": "display_data"
    }
   ],
   "source": [
    "n = np.arange(0, 21)\n",
    "x1 = (stepseq(0,0,20) - stepseq(10,0,20)) * n\n",
    "x2 = (stepseq(10,0,20) - stepseq(20,0,20)) * 10 * np.exp(-0.3*(n-10))\n",
    "x = x1 + x2\n",
    "plt.stem(x.time, x.value)\n",
    "ax = plt.gca()\n",
    "ax.grid()"
   ]
  },
  {
   "cell_type": "code",
   "execution_count": 3,
   "metadata": {},
   "outputs": [
    {
     "name": "stdout",
     "output_type": "stream",
     "text": [
      "t: [-1  0  1]\n",
      "x: [0. 1. 1.]\n",
      "t: [-1  0  1  2  3  4  5  6  7]\n",
      "x: [0. 1. 1. 0. 1. 1. 0. 1. 1.]\n"
     ]
    }
   ],
   "source": [
    "x = stepseq(0, -1, 1)\n",
    "print(x.tile(3))"
   ]
  }
 ],
 "metadata": {
  "kernelspec": {
   "display_name": "Python 3.8.2 64-bit ('data': conda)",
   "language": "python",
   "name": "python38264bitdataconda8f24aee9bcd144c3bfccc6d06198ab22"
  },
  "language_info": {
   "codemirror_mode": {
    "name": "ipython",
    "version": 3
   },
   "file_extension": ".py",
   "mimetype": "text/x-python",
   "name": "python",
   "nbconvert_exporter": "python",
   "pygments_lexer": "ipython3",
   "version": "3.8.3"
  }
 },
 "nbformat": 4,
 "nbformat_minor": 4
}
