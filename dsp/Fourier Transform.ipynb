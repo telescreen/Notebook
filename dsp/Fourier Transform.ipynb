{
 "cells": [
  {
   "cell_type": "markdown",
   "metadata": {},
   "source": [
    "## Introduction\n",
    "\n",
    "Joseph Fourier provided the mathematics to understand what Newton proposed in Physics. Fourier proposes the composition of any well-behaved function into a sum of harmonic function sine and cosine. \n",
    "\n",
    "Sine and Cosine appears to be the Eigen Function of heat.\n",
    "\n",
    "## The Fourier Basis for $\\mathbb{C}^N$\n",
    "\n",
    "The set of $N$ signals in $\\mathbb{C}^N$ $\\omega_k[n] = e^{j\\frac{2\\pi}{N}nk}$ for $n, k = 0, 1, \\cdots, N-1$ is an orthogonal basis in $\\mathbb{C}^N$\n",
    "\n",
    "Proof of orthgonality:\n",
    "\n",
    "$$\n",
    "\\begin{equation}\n",
    "\\begin{split}\n",
    "\\langle \\omega^{(k)}, \\omega^{(h)} \\rangle &= \\sum_{n=0}^{N-1}(e^{j\\frac{2\\pi}{N}kn})* e^{j\\frac{2\\pi}{N}hn}\\\\\n",
    "&= \\sum_{n=0}^{N-1}(e^{j\\frac{2\\pi}{N}(h-k)n})\\\\\n",
    "&= \\left\\{ \\begin{array}{11}\n",
    "N & \\mbox{for } h = k \\\\\n",
    "\\frac{1-e^{j2\\pi(h-k)}}{1-e^{j\\frac{2\\pi}{N}(h-k)}} = 0 & otherwise\n",
    "\\end{array} \\right.\n",
    "\\end{split}\n",
    "\\end{equation}\n",
    "$$\n",
    "\n",
    "\n",
    "## DFT (Discreet Fourier Transform)\n",
    "\n",
    "#### Analysis formula $X_k = \\langle \\omega^{(k)}, x \\rangle$\n",
    "\n",
    "$$X[k] = \\sum_{n=0}^{N-1}x[n] e^{-j\\frac{2\\pi}{N}nk}, k = 0,1,\\cdots,N-1$$\n",
    "\n",
    "#### Synthesis $ x = \\frac{1}{N}\\sum_{k=0}^{N-1}X_k \\omega^{(k)}$\n",
    "\n",
    "$$ x[n] = \\frac{1}{N}\\sum_{k=0}^{N-1}X[k] e^{j\\frac{2\\pi}{N}nk}$$\n",
    "\n",
    "#### Matrix/vector representation of the DFT:\n",
    "\n",
    "$$ \\mathbf{U} = \\frac{1}{\\sqrt{N}}\\left [exp \\left (j\\frac{2\\pi}{N}nk \\right )\\right ]_{n \\in \\{0,N-1\\}, k \\in \\{0, N-1\\}} $$\n",
    "\n",
    "where $n$ counts rows through the number of samples and $k$ indexes the discrete frequencies as columns.\n",
    "\n",
    "The following figure shows the discrete frequencies on the unit circle and their corresponding real and imaginary parts that are the columns of $\\mathbf{U}$\n",
    "\n",
    "Analysis formula\n",
    "\n",
    "$$ X = Ux $$\n",
    "\n",
    "Synthesis formula\n",
    "\n",
    "$$ x = \\frac{1}{N} U^H X $$\n",
    "\n",
    "where $U^H$ is the Hermitan transpose of matrix $U$."
   ]
  },
  {
   "cell_type": "code",
   "execution_count": 1,
   "metadata": {
    "collapsed": false
   },
   "outputs": [
    {
     "name": "stdout",
     "output_type": "stream",
     "text": [
      "Populating the interactive namespace from numpy and matplotlib\n"
     ]
    }
   ],
   "source": [
    "%pylab inline\n",
    "\n",
    "def dftmatrix(N):\n",
    "    a = np.expand_dims(np.arange(N), 0)\n",
    "    WN = np.exp(-2j*np.pi*a.T*a/N)\n",
    "    return WN"
   ]
  },
  {
   "cell_type": "markdown",
   "metadata": {},
   "source": [
    "We could obtain the dftmatrxi using defined functions:"
   ]
  },
  {
   "cell_type": "markdown",
   "metadata": {},
   "source": [
    "## DFT for some functions\n",
    "\n",
    "Let's calculate dft transform for several functions. \n",
    "\n",
    "### The DFT of  $\\delta$ function\n",
    "\n",
    "$$ \\delta [n] = \\left\\{ \\begin{array}{11} \n",
    "        1 & \\mbox{if } n = 0 \\\\\n",
    "        0 & \\mbox{if } n \\not= 0\n",
    "   \\end{array}\n",
    "\\right. $$"
   ]
  },
  {
   "cell_type": "code",
   "execution_count": 2,
   "metadata": {
    "collapsed": false
   },
   "outputs": [
    {
     "data": {
      "text/plain": [
       "(-0.5, 3)"
      ]
     },
     "execution_count": 2,
     "metadata": {},
     "output_type": "execute_result"
    },
    {
     "data": {
      "image/png": "[encoded data removed]",
      "text/plain": [
       "<matplotlib.figure.Figure at 0x6ec6438>"
      ]
     },
     "metadata": {},
     "output_type": "display_data"
    }
   ],
   "source": [
    "N = 64\n",
    "x = linspace(0, N, N)\n",
    "delta_func = vectorize(lambda n: 1 if (n == 0) else 0)\n",
    "stem(x, delta_func(x))\n",
    "title('Delta signal')\n",
    "xlim([-1,65])\n",
    "ylim([-.5, 3])"
   ]
  },
  {
   "cell_type": "markdown",
   "metadata": {},
   "source": [
    "Transform $\\delta [n]$ in analysis part could be calculate as follows:"
   ]
  },
  {
   "cell_type": "code",
   "execution_count": 3,
   "metadata": {
    "collapsed": false
   },
   "outputs": [
    {
     "data": {
      "text/plain": [
       "[-1, 65, -0.5, 3]"
      ]
     },
     "execution_count": 3,
     "metadata": {},
     "output_type": "execute_result"
    },
    {
     "data": {
      "image/png": "[encoded data removed]",
      "text/plain": [
       "<matplotlib.figure.Figure at 0x51904e0>"
      ]
     },
     "metadata": {},
     "output_type": "display_data"
    }
   ],
   "source": [
    "M = dftmatrix(N)\n",
    "dft_delta = dot(M, delta_func(x))\n",
    "stem(x, abs(dft_delta))\n",
    "axis([-1, 65, -0.5, 3])"
   ]
  },
  {
   "cell_type": "code",
   "execution_count": 4,
   "metadata": {
    "collapsed": false
   },
   "outputs": [
    {
     "name": "stdout",
     "output_type": "stream",
     "text": [
      "Error: 5.891079929197043e-14\n",
      "(This small error is due to machine precision.)\n"
     ]
    },
    {
     "data": {
      "image/png": "[encoded data removed]",
      "text/plain": [
       "<matplotlib.figure.Figure at 0x7f76048>"
      ]
     },
     "metadata": {},
     "output_type": "display_data"
    }
   ],
   "source": [
    "inverse_dft_delta = 1./N*dot(M.T.conjugate(), dft_delta)\n",
    "stem(x, abs(inverse_dft_delta))\n",
    "axis([-1, 65, -0.5, 3])\n",
    "error = abs(delta_func(x) - inverse_dft_delta).sum()\n",
    "print('Error: {0}'.format(error))\n",
    "print('(This small error is due to machine precision.)')"
   ]
  },
  {
   "cell_type": "markdown",
   "metadata": {},
   "source": [
    "### The DFT of the cosine function $x[n] = 3cos(2\\pi n/16)$"
   ]
  },
  {
   "cell_type": "code",
   "execution_count": 5,
   "metadata": {
    "collapsed": false
   },
   "outputs": [
    {
     "data": {
      "text/plain": [
       "[-1, 65, -3, 3]"
      ]
     },
     "execution_count": 5,
     "metadata": {},
     "output_type": "execute_result"
    },
    {
     "data": {
      "image/png": "[encoded data removed]",
      "text/plain": [
       "<matplotlib.figure.Figure at 0x7f7e828>"
      ]
     },
     "metadata": {},
     "output_type": "display_data"
    }
   ],
   "source": [
    "y = 3*cos(2*pi/16 * x)\n",
    "stem(x, y)\n",
    "axis([-1, 65, -3, 3])"
   ]
  },
  {
   "cell_type": "markdown",
   "metadata": {},
   "source": [
    "The DFT of the above function is:"
   ]
  },
  {
   "cell_type": "code",
   "execution_count": 6,
   "metadata": {
    "collapsed": false
   },
   "outputs": [
    {
     "data": {
      "text/plain": [
       "(0, 65)"
      ]
     },
     "execution_count": 6,
     "metadata": {},
     "output_type": "execute_result"
    },
    {
     "data": {
      "image/png": "[encoded data removed]",
      "text/plain": [
       "<matplotlib.figure.Figure at 0x81e8a90>"
      ]
     },
     "metadata": {},
     "output_type": "display_data"
    }
   ],
   "source": [
    "Y = dot(M, y)\n",
    "stem(x, abs(Y))\n",
    "xlim([0, 65])"
   ]
  },
  {
   "cell_type": "markdown",
   "metadata": {},
   "source": [
    "We can observe that the plot result is similar to the result we calculate in theory\n",
    "\n",
    "$$ \\begin{equation} \\begin{split}\n",
    "x[n] &= 3cos \\left(\\frac{2\\pi n}{16} \\right) \\\\\n",
    "&= 3cos \\left(\\frac{2\\pi}{64}4n \\right) \\\\\n",
    "&= \\frac{3}{2} \\left[ e^{j\\frac{2\\pi}{64}4n} + e^{-j\\frac{2\\pi}{64}4n} \\right] \\\\\n",
    "&= \\frac{3}{2} \\left[ e^{j\\frac{2\\pi}{64}4n} + e^{j\\frac{2\\pi}{64}60n} \\right] \\\\\n",
    "&= \\frac{3}{2}\\left(w_4[n] + w_{64}[n] \\right)\n",
    "\\end{split}\n",
    "\\end{equation}\n",
    "$$\n",
    "\n",
    "$$\n",
    "\\begin{equation}\n",
    "\\begin{split}\n",
    "X[k] &= \\langle w_k[n], x[n] \\rangle \\\\\n",
    "&= \\langle x_k[n], \\frac{3}{2}\\left( w_4[n] + w_{60}[n] \\right) \\rangle \\\\\n",
    "&= \\frac{3}{2} \\langle w_k[n], w_4[n] \\rangle + \\frac{3}{2} \\langle w_4[n], w_{60}[n] \\rangle \\\\\n",
    "&= \\left\\{ \\begin{array}{11}\n",
    "    96 & \\mbox{for } k = 4, 60 \\\\\n",
    "    0 & \\mbox{otherwise}\n",
    "  \\end{array} \\right.\n",
    "\\end{split}\n",
    "\\end{equation}\n",
    "$$"
   ]
  },
  {
   "cell_type": "markdown",
   "metadata": {},
   "source": [
    "### The DFT of the cosine function $x[n] = 3cos(2\\pi/16n + \\pi/3)$"
   ]
  },
  {
   "cell_type": "code",
   "execution_count": 7,
   "metadata": {
    "collapsed": false
   },
   "outputs": [
    {
     "data": {
      "text/plain": [
       "(0, 65)"
      ]
     },
     "execution_count": 7,
     "metadata": {},
     "output_type": "execute_result"
    },
    {
     "data": {
      "image/png": "[encoded data removed]",
      "text/plain": [
       "<matplotlib.figure.Figure at 0x7012f28>"
      ]
     },
     "metadata": {},
     "output_type": "display_data"
    }
   ],
   "source": [
    "y2 = 3*cos(2*pi*x/16+pi/3)\n",
    "stem(x, y2)\n",
    "xlim([0,65])"
   ]
  },
  {
   "cell_type": "markdown",
   "metadata": {},
   "source": [
    "The DFT of the above function is:"
   ]
  },
  {
   "cell_type": "code",
   "execution_count": 8,
   "metadata": {
    "collapsed": false
   },
   "outputs": [
    {
     "data": {
      "text/plain": [
       "(0, 65)"
      ]
     },
     "execution_count": 8,
     "metadata": {},
     "output_type": "execute_result"
    },
    {
     "data": {
      "image/png": "[encoded data removed]",
      "text/plain": [
       "<matplotlib.figure.Figure at 0x7fe8d68>"
      ]
     },
     "metadata": {},
     "output_type": "display_data"
    }
   ],
   "source": [
    "Y2 = dot(M, y2)\n",
    "stem(x, abs(Y2))\n",
    "xlim([0, 65])"
   ]
  },
  {
   "cell_type": "markdown",
   "metadata": {},
   "source": [
    "### The DFT of the cosine function $x[n] = 3cos(2\\pi/10n)$"
   ]
  },
  {
   "cell_type": "code",
   "execution_count": 9,
   "metadata": {
    "collapsed": false
   },
   "outputs": [
    {
     "data": {
      "text/plain": [
       "(0, 65)"
      ]
     },
     "execution_count": 9,
     "metadata": {},
     "output_type": "execute_result"
    },
    {
     "data": {
      "image/png": "[encoded data removed]",
      "text/plain": [
       "<matplotlib.figure.Figure at 0x81400f0>"
      ]
     },
     "metadata": {},
     "output_type": "display_data"
    }
   ],
   "source": [
    "y3 = 3*cos(2*pi*x/10)\n",
    "stem(x, y3)\n",
    "xlim([0,65])"
   ]
  },
  {
   "cell_type": "markdown",
   "metadata": {},
   "source": [
    "The DFT of the above function is:"
   ]
  },
  {
   "cell_type": "code",
   "execution_count": 10,
   "metadata": {
    "collapsed": false
   },
   "outputs": [
    {
     "data": {
      "text/plain": [
       "(0, 65)"
      ]
     },
     "execution_count": 10,
     "metadata": {},
     "output_type": "execute_result"
    },
    {
     "data": {
      "image/png": "[encoded data removed]",
      "text/plain": [
       "<matplotlib.figure.Figure at 0x7efe8d0>"
      ]
     },
     "metadata": {},
     "output_type": "display_data"
    }
   ],
   "source": [
    "Y3 = dot(M, y3)\n",
    "stem(x, abs(Y3))\n",
    "title('Magnitude')\n",
    "ylabel('|X[k]|')\n",
    "xlim([0, 65])"
   ]
  },
  {
   "cell_type": "markdown",
   "metadata": {},
   "source": [
    "### The DFT of Length-M step in $\\mathbb{C}^N$\n",
    "\n",
    "$$x [n] = \\sum_{h=0}^{M-1}{\\delta [n - h]}, \\mbox{   } n = 0,1,\\cdots,N-1 $$\n",
    "\n",
    "The DFT of length-M step in $\\mathbb{C}^N$\n",
    "\n",
    "$$\n",
    "\\begin{equation}\n",
    "\\begin{split}\n",
    "X[k] & = \\sum_{n=0}^{N-1}{e^{-j\\frac{2\\pi}{N}nk}} =  \\sum_{n=0}^{M-1}{e^{-j\\frac{2\\pi}{N}nk}} \\\\\n",
    "& = \\frac{1-e^{-j\\frac{2\\pi}{N}kM}}{1-e^{-j\\frac{2\\pi}{N}k}} \\\\\n",
    "& = \\frac{e^{-j\\frac{\\pi}{N}kM}[e^{j\\frac{\\pi}{N}kM} - e^{-j\\frac{\\pi}{N}kM}]}{e^{-j\\frac{\\pi}{N}k}[e^{j\\frac{\\pi}{N}k} - e^{-j\\frac{\\pi}{N}k}]} \\\\\n",
    "& = \\frac{sin(\\frac{\\pi}{N}Mk)}{sin(\\frac{\\pi}{N}k)}e^{-j\\frac{\\pi}{N}(M-1)k}\n",
    "\\end{split}\n",
    "\\end{equation}\n",
    "$$\n",
    "\n",
    "* $X[0] = M$ from the definition of the sum\n",
    "* $X[k] = 0$ if $Mk/N$ integer ($0 \\le k < N$)\n",
    "* The phase of $X[k]$ linear in $k$ (except at sign changes for the real part)"
   ]
  },
  {
   "cell_type": "code",
   "execution_count": 11,
   "metadata": {
    "collapsed": false
   },
   "outputs": [
    {
     "data": {
      "text/plain": [
       "(0, 2)"
      ]
     },
     "execution_count": 11,
     "metadata": {},
     "output_type": "execute_result"
    },
    {
     "data": {
      "image/png": "[encoded data removed]",
      "text/plain": [
       "<matplotlib.figure.Figure at 0x82e8160>"
      ]
     },
     "metadata": {},
     "output_type": "display_data"
    }
   ],
   "source": [
    "def lengthM(M, L):\n",
    "    if M >= L: \n",
    "        return np.ones(L)\n",
    "    x = ones(M)\n",
    "    y = zeros(L-M)\n",
    "    return concatenate((x,y),axis=0)\n",
    "\n",
    "YLengthM = lengthM(4, N)\n",
    "stem(x, YLengthM)\n",
    "ylim([0,2])"
   ]
  },
  {
   "cell_type": "markdown",
   "metadata": {},
   "source": [
    "The DFT of the Length-M function is:"
   ]
  },
  {
   "cell_type": "code",
   "execution_count": 12,
   "metadata": {
    "collapsed": false
   },
   "outputs": [
    {
     "data": {
      "text/plain": [
       "<matplotlib.text.Text at 0x7f032b0>"
      ]
     },
     "execution_count": 12,
     "metadata": {},
     "output_type": "execute_result"
    },
    {
     "data": {
      "image/png": "[encoded data removed]",
      "text/plain": [
       "<matplotlib.figure.Figure at 0x7f275c0>"
      ]
     },
     "metadata": {},
     "output_type": "display_data"
    }
   ],
   "source": [
    "DFTLengthM = dot(M, YLengthM)\n",
    "stem(x, abs(DFTLengthM))\n",
    "title('Magnitude')\n",
    "axis([0,65, 0, 6])\n",
    "xlabel('Samples')\n",
    "ylabel('|X[k]|')"
   ]
  },
  {
   "cell_type": "markdown",
   "metadata": {},
   "source": [
    "### DFT of L periods\n",
    "\n",
    "We can use the Karplus-Strong formula to generate periodical signal. Remember the KS formula is:\n",
    "\n",
    "$$y[n] = \\alpha*y[n-M] + x[n]$$\n",
    "\n",
    "By carefully choosing $\\alpha$ and $x[n]$ we can genereate periodical signal. For example, we will choose \n",
    "* $\\bar{x}[n]$ that is nonzero only for $0 \\le n < M$. $\\bar{x}[n]$ is called support signal, so it has a bar over the variable.\n",
    "* $\\alpha = 1$ (for now)\n",
    "\n",
    "So the generated signal will be: $$y[n] = \\bar{x}[0], \\bar{x}[1],\\cdots, \\bar{x}[M-1], \\bar{x}[0], \\bar{x}[1],\\cdots, \\bar{x}[M-1]$$\n",
    "\n",
    "For example, we have a sawtooth signal:"
   ]
  },
  {
   "cell_type": "code",
   "execution_count": 13,
   "metadata": {
    "collapsed": false
   },
   "outputs": [
    {
     "data": {
      "text/plain": [
       "[0, 32, -2, 2]"
      ]
     },
     "execution_count": 13,
     "metadata": {},
     "output_type": "execute_result"
    },
    {
     "data": {
      "image/png": "[encoded data removed]",
      "text/plain": [
       "<matplotlib.figure.Figure at 0x7f2e710>"
      ]
     },
     "metadata": {},
     "output_type": "display_data"
    }
   ],
   "source": [
    "N32 = 32\n",
    "SawTooth = np.linspace(-1, 1, N32)\n",
    "stem(SawTooth)\n",
    "axis([0,32,-2,2])"
   ]
  },
  {
   "cell_type": "markdown",
   "metadata": {},
   "source": [
    "The DFT of the sawtooth signal has the shape similar to the below graph. Notice that the DFT of signal at 0 is 0 because the sawtooth signal is linear, so they average out at 0."
   ]
  },
  {
   "cell_type": "code",
   "execution_count": 14,
   "metadata": {
    "collapsed": false
   },
   "outputs": [
    {
     "data": {
      "text/plain": [
       "<matplotlib.text.Text at 0x80641d0>"
      ]
     },
     "execution_count": 14,
     "metadata": {},
     "output_type": "execute_result"
    },
    {
     "data": {
      "image/png": "[encoded data removed]",
      "text/plain": [
       "<matplotlib.figure.Figure at 0x8032f98>"
      ]
     },
     "metadata": {},
     "output_type": "display_data"
    }
   ],
   "source": [
    "WM32 = dftmatrix(N32)\n",
    "DFTSawTooth = dot(WM32, SawTooth)\n",
    "stem(abs(DFTSawTooth))\n",
    "axis([-1,33,0,12])\n",
    "title('Magnitude of DFT of SawTooth Function')\n",
    "xlabel('Samples')\n",
    "ylabel('|X[k]|')"
   ]
  },
  {
   "cell_type": "markdown",
   "metadata": {},
   "source": [
    "What if we calculate the DFT of 2 periods of SawTooth Function"
   ]
  },
  {
   "cell_type": "code",
   "execution_count": 15,
   "metadata": {
    "collapsed": false
   },
   "outputs": [
    {
     "data": {
      "text/plain": [
       "[0, 64, -1, 1]"
      ]
     },
     "execution_count": 15,
     "metadata": {},
     "output_type": "execute_result"
    },
    {
     "data": {
      "image/png": "[encoded data removed]",
      "text/plain": [
       "<matplotlib.figure.Figure at 0x82f0128>"
      ]
     },
     "metadata": {},
     "output_type": "display_data"
    }
   ],
   "source": [
    "SawTooth2 = concatenate((SawTooth, SawTooth))\n",
    "stem(SawTooth2)\n",
    "axis([0,64,-1,1])"
   ]
  },
  {
   "cell_type": "code",
   "execution_count": 16,
   "metadata": {
    "collapsed": false
   },
   "outputs": [
    {
     "data": {
      "text/plain": [
       "<matplotlib.text.Text at 0x809deb8>"
      ]
     },
     "execution_count": 16,
     "metadata": {},
     "output_type": "execute_result"
    },
    {
     "data": {
      "image/png": "[encoded data removed]",
      "text/plain": [
       "<matplotlib.figure.Figure at 0x72733c8>"
      ]
     },
     "metadata": {},
     "output_type": "display_data"
    }
   ],
   "source": [
    "DFTSawTooth2 = dot(M, SawTooth2)\n",
    "stem(abs(DFTSawTooth2))\n",
    "axis([-1,64,0,25])\n",
    "title('Magnitude of DFT of 2 periods SawTooth Function')\n",
    "xlabel('Samples')\n",
    "ylabel('|X[k]|')"
   ]
  },
  {
   "cell_type": "markdown",
   "metadata": {},
   "source": [
    "We can compute the DFT of the above signal as following:\n",
    "\n",
    "$$\n",
    "\\begin{equation}\n",
    "\\begin{split}\n",
    "X_L[k] &= \\sum_{n=0}^{LM-1}{y[n]e^{-j\\frac{2\\pi}{LM}nk}}, \\mbox{  } k = 0,1,2,\\cdots,LM-1 \\\\\n",
    "&= \\sum_{p=0}^{L-1} \\sum_{n=0}^{M-1}y[n+pM]e^{-j\\frac{2\\pi}{LM}(n+pM)k} \\\\\n",
    "&= \\sum_{p=0}^{L-1} \\sum_{n=0}^{M-1}y[n]e^{-j\\frac{2\\pi}{LM}nk} e^{-j\\frac{2\\pi}{L}pk} \\\\\n",
    "&= \\left( \\sum_{p=0}^{L-1}e^{-j\\frac{2\\pi}{L}pk}\\right) \\sum_{n=0}^{M-1}\\bar{x}[n]e^{-j\\frac{2\\pi}{LM}nk}\n",
    "\\end{split}\n",
    "\\end{equation}\n",
    "$$\n",
    "\n",
    "We've seen this before (in the proof of orthogonality for the DFT basis)\n",
    "\n",
    "\n",
    "$$\n",
    "\\sum_{p=0}^{L-1}e^{-j\\frac{2\\pi}{L}pk} = \\left\\{\n",
    "\\begin{array}{11}\n",
    "  L & \\mbox{if } k \\mbox{ multiple of } L \\\\\n",
    "  0 & \\mbox{otherwise }\n",
    "\\end{array}\n",
    "\\right.\n",
    "$$\n",
    "\n",
    "So \n",
    "\n",
    "$$\n",
    "X_L[k] = \\left\\{ \\begin{array}{11} \n",
    "L\\bar{X}[k/L] & \\mbox{if } k = 0,L,2L,3L,\\cdots \\\\\n",
    "0 & \\mbox{otherwise}\n",
    "\\end{array}\\right.\n",
    "$$"
   ]
  },
  {
   "cell_type": "markdown",
   "metadata": {},
   "source": [
    "## DTFT (Discrete-Time Fourier Transform)\n",
    "\n",
    "Formal definition:\n",
    "\n",
    "* $x[n] \\in l_2(\\mathbb{Z})$\n",
    "* Define the function of $\\omega \\in \\mathbb{R}$\n",
    "$$ F(\\omega) = \\sum_{n=-\\infty}^{\\infty}x[n]e^{-j\\omega n}$$\n",
    "* Inversion (when $F(\\omega)$ exists):\n",
    "$$ x[n] = \\frac{1}{2\\pi}\\int_{-\\pi}^{\\pi}F(\\omega)e^{j\\omega n}d\\omega , \\mbox{   } n \\in \\mathbb{Z} $$\n",
    "\n",
    "DTFT periodicity and notation:\n",
    "* $F(\\omega)$ is $2\\pi$-periodic\n",
    "* To stress periodicity (and for other reasons) we will write:\n",
    "\n",
    "$$ X(e^{j\\omega}) = \\sum_{n=-\\infty}^{\\infty}x[n]e^{-j\\omega n} $$\n",
    "* By convention, $X(e^{j\\omega})$ is represented over $[-\\pi, \\pi]$"
   ]
  },
  {
   "cell_type": "markdown",
   "metadata": {},
   "source": [
    "### DTFT of $x[n] = \\alpha^n u[n], \\mbox{ } |\\alpha| < 1 $\n",
    "\n",
    "By definition we have\n",
    "\n",
    "$$\n",
    "\\begin{equation}\n",
    "\\begin{split}\n",
    "X(e^{j\\omega}) &= \\sum_{n=-\\infty}^{\\infty}x[n]e^{-j\\omega n} \\\\\n",
    "&= \\sum_{n=0}^{\\infty}\\alpha^n e^{-j \\omega n} \\\\\n",
    "&= \\sum_{n=0}^{\\infty}(\\alpha e^{-j\\omega})^n \\\\\n",
    "&= \\frac{1}{1 - \\alpha e^{-j \\omega}}\n",
    "\\end{split}\n",
    "\\end{equation}\n",
    "$$\n",
    "\n",
    "The magnitude of X is:\n",
    "\n",
    "$$ \n",
    "|X(e^{j\\omega})|^2 = \\frac{1}{1 + \\alpha^2 - 2\\alpha cos\\omega}\n",
    "$$"
   ]
  },
  {
   "cell_type": "code",
   "execution_count": 17,
   "metadata": {
    "collapsed": false
   },
   "outputs": [
    {
     "data": {
      "text/plain": [
       "<Container object of 3 artists>"
      ]
     },
     "execution_count": 17,
     "metadata": {},
     "output_type": "execute_result"
    },
    {
     "data": {
      "image/png": "[encoded data removed]",
      "text/plain": [
       "<matplotlib.figure.Figure at 0x81f1d68>"
      ]
     },
     "metadata": {},
     "output_type": "display_data"
    }
   ],
   "source": [
    "alpha = 0.9\n",
    "YKarplusStrong = alpha**arange(N)\n",
    "stem(YKarplusStrong)"
   ]
  },
  {
   "cell_type": "code",
   "execution_count": 18,
   "metadata": {
    "collapsed": false
   },
   "outputs": [
    {
     "data": {
      "text/plain": [
       "[<matplotlib.lines.Line2D at 0x81ea908>]"
      ]
     },
     "execution_count": 18,
     "metadata": {},
     "output_type": "execute_result"
    },
    {
     "data": {
      "image/png": "[encoded data removed]",
      "text/plain": [
       "<matplotlib.figure.Figure at 0x7f08860>"
      ]
     },
     "metadata": {},
     "output_type": "display_data"
    }
   ],
   "source": [
    "DFTYKarplusStrong = vectorize(\n",
    "    lambda x: 1. / (1+ alpha**2 - 2 * alpha * cos(x)))\n",
    "x = linspace(-pi, pi, 64)\n",
    "plot(x, abs(DFTYKarplusStrong(x)))"
   ]
  },
  {
   "cell_type": "markdown",
   "metadata": {},
   "source": [
    "### DTFT for Karplus-String, in which support signal is a 32-tap sawtooth\n",
    "\n",
    "The support signal will be:\n",
    "\n",
    "$x[n] = \\frac{2n}{M-1}-1,n = 0,1,\\cdots,M-1 $"
   ]
  },
  {
   "cell_type": "code",
   "execution_count": 19,
   "metadata": {
    "collapsed": false
   },
   "outputs": [
    {
     "data": {
      "text/plain": [
       "[0, 32, -2, 2]"
      ]
     },
     "execution_count": 19,
     "metadata": {},
     "output_type": "execute_result"
    },
    {
     "data": {
      "image/png": "[encoded data removed]",
      "text/plain": [
       "<matplotlib.figure.Figure at 0x8002668>"
      ]
     },
     "metadata": {},
     "output_type": "display_data"
    }
   ],
   "source": [
    "M32 = 32\n",
    "x = 2*np.arange(M32)/(M32-1) - 1\n",
    "stem(x)\n",
    "axis([0, 32, -2, 2])"
   ]
  },
  {
   "cell_type": "code",
   "execution_count": 20,
   "metadata": {
    "collapsed": false
   },
   "outputs": [
    {
     "data": {
      "image/png": "[encoded data removed]",
      "text/plain": [
       "<matplotlib.figure.Figure at 0x83406d8>"
      ]
     },
     "metadata": {},
     "output_type": "display_data"
    }
   ],
   "source": [
    "NumberOfSamples = 1000\n",
    "n = arange(NumberOfSamples)\n",
    "Y = lambda alpha, n, M: alpha**floor(n/M)*x[n % M]\n",
    "plot(n, Y(0.9, n, 32))\n",
    "axis([-2, 1000, -1.2, 1.2])\n",
    "grid()"
   ]
  },
  {
   "cell_type": "markdown",
   "metadata": {},
   "source": [
    "The DTFT of the sawtooth signal defined above can be calculated\n",
    "\n",
    "$$\n",
    "\\begin{equation} \\begin{split}\n",
    "Y(e^{j\\omega}) &= \\sum_{n=\\infty}^{\\infty} y[n] e^{-j\\omega n} \\\\\n",
    "&= \\sum_{p=0}^{\\infty} \\sum_{n=0}^{M-1} \\alpha^p \\bar{x}[n] e^{-j\\omega(pM+n)} \\\\\n",
    "&= \\sum_{p=0}^{\\infty} \\alpha^p e^{-j\\omega Mp} \\sum_{p=0}^{M}\\bar{x}[n]e^{-j\\omega n} \\\\\n",
    "&= A(e^{j\\omega M}) \\bar{X}(e^{j\\omega})\n",
    "\\end{split}\n",
    "\\end{equation}\n",
    "$$\n",
    "\n",
    "We calculated the first term $(e^{j\\omega M})$. It's DTFT of $x[n] = \\alpha^n u[n], \\mbox{ } |\\alpha| < 1 $. $A(e^{j\\omega M})$ rescales the frequency axis: **periodicity**."
   ]
  },
  {
   "cell_type": "markdown",
   "metadata": {},
   "source": [
    "Second term\n",
    "$$\n",
    "\\bar{X}(e^{j\\omega}) = e^{-j\\omega}\\left(\\frac{M+1}{M-1}\\right) \\frac{1-e^{-j(M-1)\\omega}}{(1-e^{-j\\omega})^2} - \\frac{1 - e^{-j(M+1)\\omega}}{(1-e^{-j\\omega})^2}\n",
    "$$"
   ]
  },
  {
   "cell_type": "markdown",
   "metadata": {},
   "source": [
    "### DTFT properties\n",
    "\n",
    "* Linearity\n",
    "$$ DTFT\\{\\alpha x[n] + \\beta y[n]\\} = \\alpha X(e^{j\\omega}) + \\beta Y(e^{j\\omega})$$\n",
    "* Time shift\n",
    "$$ DTFT\\{ x[n-M] \\} = e^{-j\\omega M}X(e^{j\\omega}))$$\n",
    "* modulation (dual)\n",
    "$$ DTFT\\{ e^{j\\omega_{0}n}x[n]\\} = X(e^{j(\\omega - \\omega_{0})}) $$\n",
    "* Time reversal\n",
    "$$ DTFT{x[-n]} = X(e^{-j\\omega}) $$\n",
    "* Conjugation\n",
    "$$ DTFT{x^*[n]} = X^*(e^{-j\\omega}) $$\n",
    "\n",
    "### Some particular cases\n",
    "\n",
    "* If $x[n]$ is symmetric, the DTFT is symmetric:\n",
    "$$ x[n] = x[-n] \\Leftrightarrow X(e^{j\\omega}) = X(e^{-j\\omega}) $$\n",
    "* If $x[n]$ is real, the DTFT is Hermitian-symmetric:\n",
    "$$ x[n] = x^*[n] \\Leftrightarrow X(e^{j\\omega}) = X^*(e^{-j\\omega}) $$\n",
    "* Special case: if $x[n]$ is real, the magnitude of the DTFT is symmetric:\n",
    "$$ x[n] \\in \\mathbb{R} \\Rightarrow |X(e^{j\\omega})| = |X(e^{-j\\omega})| $$\n",
    "* if $x[n]$ is real and symmetric, $X(e^{j\\omega})$ is also real and symmetric"
   ]
  },
  {
   "cell_type": "markdown",
   "metadata": {},
   "source": [
    "## The Dirac Delta Function\n",
    "\n",
    "Problem: Too many interesting sequences are not square summable.\n",
    "\n",
    "Defined by the \"sifting\" property\n",
    "\n",
    "$$\n",
    "\\int_{-\\infty}^{\\infty} \\delta(t-s)f(t)dt = f(s)\n",
    "$$\n",
    "For all function of $t \\in \\mathbb{R}$\n",
    "\n",
    "### Intuition\n",
    "\n",
    "* Family of localizing functions $r_k(t)$ with $k \\in \\mathbb{N}$ and $t \\in \\mathbb{R}$\n",
    "* support inversly proportional to $k$\n",
    "* constanst area\n",
    "\n",
    "Example **rect** function\n",
    "\n",
    "$$\n",
    "rect(t) = \\left\\{ \\begin{array}{11}\n",
    "1 & \\mbox{for } |t| < 1/2 \\\\\n",
    "0 & otherwise\n",
    "\\end{array} \\right.\n",
    "$$\n",
    "\n",
    "Consider the localizing family $r_k(t) = k*rect(kt)$:\n",
    "* Non-zero over $\\left[\\frac{-1}{2k}, \\frac{1}{2k}\\right]$\n",
    "* Area is 1\n",
    "\n",
    "### Extracting a point value\n",
    "\n",
    "By the Mean Value Theorem\n",
    "\n",
    "$$\n",
    "\\int_{-\\infty}^{\\infty} r_k(t)f(t)dt = k\\int_{-1/2k}^{1/1k} f(t)dt = f(\\gamma)|_{\\gamma \\in [-1/2k, 1/2k]}\n",
    "$$\n",
    "\n",
    "an so:\n",
    "\n",
    "$$\n",
    "\\lim_{k\\to\\infty}\\int_{-\\infty}^{\\infty} r_k(t)f(t)dt = f(0)\n",
    "$$\n",
    "\n",
    "### The \"pulse train\"\n",
    "\n",
    "$$\n",
    "\\tilde{\\delta}(\\omega) = 2\\pi\\sum_{k=-\\infty}^{\\infty}\\delta(\\omega - 2\\pi k)\n",
    "$$\n",
    "\n",
    "Just a technicality to use the Dirac delta in the space of $2\\pi$-periodic functions.\n",
    "\n",
    "$$\n",
    "\\begin{equation}\n",
    "\\begin{split}\n",
    "IDTFT\\{\\tilde{\\delta}(\\omega)\\} &= \\frac{1}{2\\pi} \\int_{-\\pi}^{\\pi} \\tilde{\\delta}(\\omega)e^{j\\omega n}dn \\\\\n",
    "&= \\int_{-\\pi}^{\\pi} \\delta(\\omega)e^{j\\omega n}dn \\\\\n",
    "&= e^{j\\omega n}|_{w=0} \\\\\n",
    "&= 1\n",
    "\\end{split}\n",
    "\\end{equation}\n",
    "$$\n",
    "\n",
    "Partial DTFT sum:\n",
    "\n",
    "$$\n",
    "S_k(\\omega) = \\sum_{n=-k}^{k} e^{-j\\omega n}\n",
    "$$\n",
    "\n",
    "Using the same technique, we have\n",
    "\n",
    "$$\n",
    "IDTFT\\left\\{ \\tilde{\\delta}(\\omega - \\omega_0) \\right\\} = e^{j\\omega_0 n}\n",
    "$$\n",
    "\n",
    "So:\n",
    "* $DTFT\\{1\\} = \\tilde{\\delta}(\\omega)$\n",
    "* $DTFT\\{e^{j\\omega_0 n}\\} = \\tilde{\\delta}(\\omega - \\omega_0)$\n",
    "* $DTFT\\{cos\\omega_0 n\\} = [\\tilde{\\delta}(\\omega - \\omega_0) + \\tilde{\\delta}(\\omega + \\omega_0]/2$\n",
    "* $DTFT\\{sin\\omega_0 n\\} = -j[\\tilde{\\delta}(\\omega - \\omega_0) - \\tilde{\\delta}(\\omega + \\omega_0]/2$"
   ]
  },
  {
   "cell_type": "code",
   "execution_count": 22,
   "metadata": {
    "collapsed": false
   },
   "outputs": [
    {
     "data": {
      "text/plain": [
       "<function __main__.<lambda>>"
      ]
     },
     "execution_count": 22,
     "metadata": {},
     "output_type": "execute_result"
    },
    {
     "data": {
      "image/png": "[encoded data removed]",
      "text/plain": [
       "<matplotlib.figure.Figure at 0x826abe0>"
      ]
     },
     "metadata": {},
     "output_type": "display_data"
    }
   ],
   "source": [
    "from IPython.html.widgets import interact, IntSliderWidget\n",
    "\n",
    "S_k = np.vectorize(lambda omega, k: \n",
    "                   sum(exp(-1j*arange(-k, k)*omega)),\n",
    "                   excluded=['k'])\n",
    "omega_range = linspace(-pi, pi, 100)\n",
    "plotSk = lambda k: plot(omega_range, abs(S_k(omega_range, k)))\n",
    "interact(plotSk, k=IntSliderWidget(min=1, max=20, step=1, value=5))"
   ]
  },
  {
   "cell_type": "markdown",
   "metadata": {},
   "source": [
    "## Relationship between transforms\n",
    "\n",
    "* DFT, DFS change of basis in $\\mathbb{C}^N$. Basis vectors are \"building blocks\" for any signal. DFT is computable.\n",
    "* DTFT formal change of basis in $l_2(\\mathbb{Z})$, a mathematical tool.\n",
    "\n",
    "Embedding finite-length signals\n",
    "* N-tap signal $x[n]$.\n",
    "* natural spectral representation: DFT $X[k]$.\n",
    "* 2 ways to embed $x[n]$ into an infinite sequence:\n",
    "    + periodic extension: $\\tilde{x}[n] = x[n \\mbox{ mod } N]$\n",
    "    + finite-support extension: $\\bar{x}[n] = \\left\\{ \\begin{array}{11}\n",
    "        x[n] & 0 \\le n < N \\\\\n",
    "        0 & otherwise \\end{array} \\right. $\n",
    "       "
   ]
  },
  {
   "cell_type": "markdown",
   "metadata": {},
   "source": [
    "### DTFT of periodic signals\n",
    "\n",
    "$$\\tilde{x}[n] = x[n \\mbox{ mod } N]$$\n",
    "\n",
    "$$\n",
    "\\begin{equation}\n",
    "\\begin{split}\n",
    "\\tilde{X}(e^{j\\omega}) &= \\sum_{n=-\\infty}^{\\infty}\\tilde{x}[n]e^{-j\\omega n} \\\\\n",
    "&= \\sum_{n=-\\infty}^{\\infty}\\left( \\frac{1}{N} \\sum_{k=0}^{N-1}\\tilde{X}[k]e^{j\\frac{2\\pi}{N}nk} \\right) e^{-j\\omega n} \\\\\n",
    "&= \\frac{1}{N} \\sum_{k=0}^{N-1}X[k] \\left( \\sum_{n=-\\infty}^{\\infty}e^{j\\frac{2\\pi}{N}nk}e^{-j\\omega n} \\right)\n",
    "\\end{split}\n",
    "\\end{equation}\n",
    "$$\n",
    "\n",
    "We've seen this before\n",
    "\n",
    "$$\n",
    "\\begin{equation}\n",
    "\\begin{split}\n",
    "\\sum_{n=-\\infty}^{\\infty}e^{j\\frac{2\\pi}{N}nk}e^{-j\\omega n} &= DTFT \\left\\{ e^{j\\frac{2\\pi}{N}nk} \\right\\} \\\\\n",
    "&= \\tilde{\\delta}(\\omega - \\frac{2\\pi}{N}k)\n",
    "\\end{split}\n",
    "\\end{equation}\n",
    "$$\n",
    "\n",
    "therefore\n",
    "\n",
    "$$\n",
    "\\tilde{X}(e^{j\\omega}) = \\frac{1}{N}\\sum_{k=0}^{N-1}X[k] \\tilde{\\delta}(\\omega - \\frac{2\\pi}{N}k)\n",
    "$$"
   ]
  },
  {
   "cell_type": "markdown",
   "metadata": {},
   "source": [
    "### DTFT of finite-support signals\n",
    "\n",
    "$$\\bar{x}[n] = \\left\\{ \\begin{array}{11} \n",
    "x[n] & 0 \\le n < N \\\\\n",
    "0 & otherwise\n",
    "\\end{array}\\right.\n",
    "$$\n",
    "\n",
    "$$\\begin{equation}\n",
    "\\begin{split}\n",
    "\\tilde{X}(e^{j\\omega}) &= \\sum_{n=-\\infty}^{\\infty}\\bar{x}[n]e^{-j\\omega n} = \\sum_{n=0}^{N-1}\\bar{x}[n]e^{-j\\omega n} \\\\\n",
    "&= \\sum_{n=0}^{N-1} \\left( \\frac{1}{N} \\sum_{k=0}^{N-1}X[k]e^{j\\frac{2\\pi}{N}nk} \\right) e^{-j\\omega n} \\\\\n",
    "&= \\frac{1}{N} \\sum_{k=0}^{N-1} X[k] \\left( \\sum_{n=0}^{N-1} e^{-j(\\omega - \\frac{2\\pi}{N}k)n} \\right)\n",
    "\\end{split}\n",
    "\\end{equation}\n",
    "$$\n",
    "\n",
    "$$\n",
    "\\sum_{n=0}^{N-1} e^{-j(\\omega - \\frac{2\\pi}{N}k)n} = \\bar{R}(e^{j(\\omega-\\frac{2\\pi}{N}k)})\n",
    "$$\n",
    "\n",
    "where $\\bar{R}(e^{j\\omega})$ is the DTFT of $\\bar{r}[n]$, the interval indicator signal:\n",
    "\n",
    "$$\n",
    "\\bar{r}[n] = \\left\\{ \\begin{array}{11}\n",
    "1 & 0 \\le n < N \\\\\n",
    "0 & otherwise\n",
    "\\end{array}\\right.\n",
    "$$"
   ]
  },
  {
   "cell_type": "code",
   "execution_count": 24,
   "metadata": {
    "collapsed": false
   },
   "outputs": [
    {
     "data": {
      "text/plain": [
       "[-10, 10, 0, 2]"
      ]
     },
     "execution_count": 24,
     "metadata": {},
     "output_type": "execute_result"
    },
    {
     "data": {
      "image/png": "[encoded data removed]",
      "text/plain": [
       "<matplotlib.figure.Figure at 0x87ef630>"
      ]
     },
     "metadata": {},
     "output_type": "display_data"
    }
   ],
   "source": [
    "def interval_indicator_fun(N, r):\n",
    "    if r < N: \n",
    "        raise ValueError(\"Range must be greater than the interval\")\n",
    "    low = np.zeros(r)\n",
    "    high = np.concatenate((np.ones(N), np.zeros(r-N)))\n",
    "    return np.concatenate((low, high))\n",
    "\n",
    "yint = interval_indicator_fun(5, 10)\n",
    "xint = np.arange(-10, 10)\n",
    "plt.plot(xint, yint, 'o')\n",
    "plt.axis([-10, 10, 0, 2])"
   ]
  },
  {
   "cell_type": "markdown",
   "metadata": {},
   "source": [
    "### DTFT of interval signal\n",
    "\n",
    "$$\n",
    "\\begin{equation}\\begin{split}\n",
    "\\bar{R}(e^{j\\omega}) &= \\sum_{n=0}^{N-1}e^{-j\\omega n} \\\\\n",
    "&= \\frac{1-e^{-j\\omega N}}{1-e^{-j\\omega}} \\\\\n",
    "&= \\frac{e^{-j\\frac{\\omega N}{2}}\\left[ e^{j\\frac{\\omega N}{2}} - e^{-j\\frac{\\omega N}{2}}\\right]}{e^{-j\\frac{\\omega}{2}}\\left[ e^{j\\frac{\\omega}{2}} - e^{-j\\frac{\\omega}{2}}\\right]} \\\\\n",
    "&= \\frac{sin(\\frac{\\omega}{2}N)}{sin(\\frac{\\omega}{2})} e^{-j\\frac{\\omega}{2}(N-1)}\n",
    "\\end{split}\\end{equation}\n",
    "$$"
   ]
  },
  {
   "cell_type": "code",
   "execution_count": 23,
   "metadata": {
    "collapsed": false
   },
   "outputs": [
    {
     "data": {
      "image/png": "[encoded data removed]",
      "text/plain": [
       "<matplotlib.figure.Figure at 0x87e9c88>"
      ]
     },
     "metadata": {},
     "output_type": "display_data"
    }
   ],
   "source": [
    "plot_range = linspace(-5, 5, 100)\n",
    "def Rdtft(omega, N):\n",
    "    return sin(omega/2*N)/sin(omega/2)*exp(-1j*omega/2*(N-1))\n",
    "plotRdtft = lambda k: plot(plot_range, Rdtft(plot_range, k).real)\n",
    "interact(plotRdtft, k=IntSliderWidget(min=1, max=20, step=1, value=9))\n",
    "grid()"
   ]
  },
  {
   "cell_type": "markdown",
   "metadata": {},
   "source": [
    "So we can finish the calculation of the DTFT of finite-support signals\n",
    "\n",
    "$$\n",
    "\\bar{X}(e^{j\\omega}) = \\sum_{k=0}^{N-1}X[k]\\Lambda(\\omega - \\frac{2\\pi}{N}k)\n",
    "$$\n",
    "\n",
    "with $\\Lambda(\\omega) = (1/N)\\bar{R}(e^{j\\omega})$ smooth interpolation of DFT values."
   ]
  },
  {
   "cell_type": "markdown",
   "metadata": {},
   "source": [
    "### About zero-padding\n",
    "\n",
    "when computing the DFT numerically one may \"pad\" the data vector with 0 to obtain a smoother plot.\n",
    "\n",
    "zero padding does not add information\n",
    "a zero-padded DFT is samply a sampled DTFT of the finite support extension"
   ]
  },
  {
   "cell_type": "markdown",
   "metadata": {},
   "source": [
    "## Sinusoidal modulation\n",
    "\n",
    "3 categories of signal where most of the spectral energy resides:\n",
    "* **lowpass signals** (baseband signals)\n",
    "* **highpass signals**\n",
    "* **bandpass signals**.\n",
    "\n",
    "### sinusoidal modulation\n",
    "\n",
    "$$\n",
    "DTFT \\left\\{ x[n]cos(\\omega_c n) \\right\\} = DTFT \\left\\{ \\frac{1}{2}e^{j\\omega_c n}x[n] + \\frac{1}{2}e^{-j\\omega_c n}x[n] \\right\\} = \\frac{1}{2} \\left[ X(e^{j(\\omega - \\omega_c)} + X(e^{j(\\omega + \\omega_c)}) \\right]\n",
    "$$\n",
    "\n",
    "* usually $x[n]$ **baseband**\n",
    "* $\\omega_c$ is the **carrier frequency**\n",
    "\n",
    "The spectrum is moved to frequency $-\\omega_c$ and $\\omega_c$\n",
    "\n",
    "### applications\n",
    "\n",
    "* voice and music are lowpass signals\n",
    "* radio channels are bandpass, in much higher frequencies\n",
    "* modulation brings the baseband signal in the tranmission band\n",
    "* demodulation at the receiver brings it back\n",
    "\n",
    "## Sinusoidal demodulation\n",
    "\n",
    "Just multiply the received signal by the carrier again\n",
    "\n",
    "$$y[n] = x[n] cos(\\omega_cn)$$\n",
    "$$ Y(e^{j\\omega}) = \\frac{1}{2} \\left[ X(e^{j(\\omega - \\omega_c)}) + X(e^{j(\\omega + \\omega_c)}) \\right]$$\n",
    "\n",
    "$$ \\begin{equation} \\begin{split}\n",
    "DTFT { y[n].2cos(\\omega_cn) } &= Y(e^{j(\\omega - \\omega_c)}) + Y(e^{j(\\omega + \\omega_c)}) \\\\\n",
    "&= \\frac{1}{2} \\left[ X(e^{j(\\omega - 2\\omega_c)}) + X(e^{j\\omega)}) + X(e^{j(\\omega + 2\\omega_c)}) + X(e^{j\\omega)}) \\right] \\\\\n",
    "&= X(e^{j\\omega)}) + \\frac{1}{2} \\left[ X(e^{j(\\omega - 2\\omega_c)}) + X(e^{j(\\omega + 2\\omega_c)}) \\right]\n",
    "\\end{split}\n",
    "\\end{equation}\n",
    "$$\n",
    "\n",
    "### Tuning a guitar\n",
    "\n",
    "Problem (abstraction):\n",
    "* reference sinusoid at frequency $\\omega_0$\n",
    "* tunable sinusoid of frequency $\\omega$\n",
    "* tune by ears $\\omega = \\omega_0$\n",
    "\n",
    "Procedure\n",
    "\n",
    "1. bring $\\omega$ clost to $\\omega_0$\n",
    "2. when $\\omega \\approx \\omega_0$ play both sinusoids together\n",
    "3. Trigonometry comes to the rescue:\n",
    "\n",
    "$$\\begin{equation}\\begin{split}\n",
    "x[n] &= cos(\\omega_0 n) + cos(\\omega n) \\\\\n",
    "&= 2cos(\\frac{\\omega_0 + \\omega}{2}n)cos(\\frac{\\omega_0 - \\omega}{2}n) \\\\\n",
    "&\\approx 2cos(\\Delta_\\omega n)cos(\\omega_0 n)\n",
    "\\end{split}\n",
    "\\end{equation}\n",
    "$$\n",
    "\n",
    "* error signal: $2cos(\\Delta_\\omega n)$\n",
    "* modulation at $\\omega_0$\n"
   ]
  }
 ],
 "metadata": {
  "kernelspec": {
   "display_name": "Python 3",
   "language": "python",
   "name": "python3"
  },
  "language_info": {
   "codemirror_mode": {
    "name": "ipython",
    "version": 3
   },
   "file_extension": ".py",
   "mimetype": "text/x-python",
   "name": "python",
   "nbconvert_exporter": "python",
   "pygments_lexer": "ipython3",
   "version": "3.4.3"
  }
 },
 "nbformat": 4,
 "nbformat_minor": 0
}
