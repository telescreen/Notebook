{
 "cells": [
  {
   "cell_type": "markdown",
   "metadata": {},
   "source": [
    "# Convolution\n",
    "\n",
    "We can always write an input signal as a product of the impulse shifted (time-reverse) by $k$ and the input signal itself.\n",
    "\n",
    "$$x[n] = \\sum_{k=-\\infty}^{\\infty}x[k]\\delta[n-k]$$\n",
    "\n",
    "Actually we could explain every signals by a linear transformation of the impulse so by linearity and time invariance, we could apply the transformation signal to input signal as:\n",
    "\n",
    "$$\\begin{equation} \\begin{split}\n",
    "y[n] &= \\sum_{k=-\\infty}^{\\infty}x[k]h[n-k] \\\\\n",
    "&= x[n] * h[n]\n",
    "\\end{split} \\end{equation}$$\n",
    "\n",
    "Ingredients:\n",
    "* a sequence $x[m]$\n",
    "* a second sequence $h[m]$\n",
    "\n",
    "The recipies:\n",
    "* time reverse\n",
    "* at each step $n$ (from $-\\infty$ to $\\infty$)\n",
    "   * center the time-reversed $h[m]$ in $n$\n",
    "   * compute the inner product.\n",
    "    \n",
    "### Convolution properties\n",
    "* linearity and time invariance\n",
    "* commutativity $(x*h)[n] = (h*x)[n]$\n",
    "* associativity for absolutely - and square-summable sequences:\n",
    "$((x*h)*w)[n] = (x*(h*w))[n]$"
   ]
  },
  {
   "cell_type": "markdown",
   "metadata": {},
   "source": [
    "# Filtering examples\n",
    "\n",
    "* Moving avarage filter\n",
    "* Leaky integrator\n",
    "\n",
    "Typical filtering scenario: filter noise\n",
    "\n",
    "## Denoising by Moving Average\n",
    "\n",
    "**idea**: replace each sample by the local average\n",
    "$y[n] = \\frac{x[n] + x[n-1]}{2}$\n",
    "\n",
    "**General**:\n",
    "$$ y[n] = \\frac{1}{M}\\sum_{k=0}^{M-1}x[n-k]$$"
   ]
  },
  {
   "cell_type": "markdown",
   "metadata": {},
   "source": [
    "### Moving Average: impulse response\n",
    "\n",
    "$$\n",
    "\\begin{equation} \\begin{split}\n",
    "h[n] &= \\frac{1}{M} \\sum_{k=0}^{M-1}\\delta[n-k] \\\\\n",
    "&= \\left\\{ \\begin{array}{11} \n",
    "1/M & \\mbox{for } 0 \\le n < M \\\\\n",
    "0 & \\mbox{otherwise}\n",
    "\\end{array} \\right.\n",
    "\\end{split}\n",
    "\\end{equation}\n",
    "$$ \n",
    "\n",
    "#### Analysis:\n",
    "* smoothing effect proportional to M\n",
    "* number of operations and storage also proportional to M\n",
    "\n",
    "#### First-order recursion\n",
    "\n",
    "$$\n",
    "\\begin{equation} \\begin{split}\n",
    "y_M[n] &= \\frac{1}{M}(x[n] + x[n-1] + x[n-2] + \\cdots + x[n-M+1]) \\\\\n",
    "&= \\frac{1}{M}x[n] + \\frac{1}{M}(x[n-1] + x[n-2] + \\cdots + x[n-M+1]) \\\\\n",
    "\\end{split}\n",
    "\\end{equation}\n",
    "$$ \n",
    "\n",
    "The second term is almost $y_{M-1}[n-1]$\n",
    "\n",
    "Formally:\n",
    "\n",
    "$$y_M[n] =  \\frac{1}{M}\\sum_{k=0}^{M-1}x[n-k]$$\n",
    "\n",
    "The Moving-Average of 1 point time-reverse is:\n",
    "$$\n",
    "\\begin{equation} \\begin{split}\n",
    "y_M[n-1] &=  \\frac{1}{M}\\sum_{k=0}^{M}x[n-1-k] \\\\\n",
    "&= \\frac{1}{M}\\sum_{k=0}^{M}x[n-(k+1)] \\\\\n",
    "&= \\frac{1}{M}\\sum_{k=1}^{M}x[n-k] \\\\\n",
    "\\end{split}\n",
    "\\end{equation}\n",
    "$$ \n",
    "\n",
    "The Moving-Average for the signal of $M-1$ points\n",
    "\n",
    "$$y_{M-1}[n] = \\frac{1}{M-1}\\sum_{k=0}^{M-2}x[n-k]$$\n",
    "\n",
    "If we try the same technique as above by delaying the input signal by 1 point, we have\n",
    "\n",
    "$$y_{M-1}[n-1] =  \\frac{1}{M-1}\\sum_{k=1}^{M-1}x[n-k]$$\n",
    "\n",
    "$$\n",
    "\\begin{equation} \\begin{split}\n",
    "\\sum_{k=0}^{M-1}x[n-k] &= x[n] + \\sum_{k=1}^{M-1}x[n-k] \\\\\n",
    "M_{y_M}[n] &= x[n] + (M-1)y_{M-1}[n-1] \n",
    "\\end{split}\n",
    "\\end{equation}\n",
    "$$\n",
    "\n",
    "So we arrange the term to get:\n",
    "\n",
    "$$\n",
    "\\begin{equation} \n",
    "\\begin{split}\n",
    "y_M[n] = \\lambda y_{M-1}[n-1] + (1-\\lambda)x[n] \\\\\n",
    "\\mbox{for } \\lambda = \\frac{M-1}{M}\n",
    "\\end{split}\n",
    "\\end{equation}\n",
    "$$\n"
   ]
  },
  {
   "cell_type": "markdown",
   "metadata": {},
   "source": [
    "## The Leaky Integrator\n",
    "\n",
    "* When $M$ is large, $y_{M-1}[n] \\approx y_M[n]$ (and $\\lambda \\approx 1$)\n",
    "* So we can rewrite the Moving Average as\n",
    "$y[n] = \\lambda y[n-1] + (1-\\lambda)x[n]$"
   ]
  },
  {
   "cell_type": "markdown",
   "metadata": {},
   "source": [
    "What is the Moving Average of the impulse response:\n",
    "\n",
    "$y[n] = \\lambda y[n-1] + (1-\\lambda)\\delta[n]$\n",
    "\n",
    "* $y[n] = 0$ for all $n < 0$\n",
    "* $y[0] = \\lambda y[-1] + (1-\\lambda)\\delta[0] = (1-\\lambda)$\n",
    "* $y[1] = \\lambda y[0] + (1-\\lambda)\\delta[1] = \\lambda(1-\\lambda)$\n",
    "* $y[2] = \\lambda y[1] + (1-\\lambda)\\delta[2] = \\lambda^2(1-\\lambda)$\n",
    "* $y[3] = \\lambda y[2] + (1-\\lambda)\\delta[3] = \\lambda^3(1-\\lambda)$"
   ]
  },
  {
   "cell_type": "code",
   "execution_count": 17,
   "metadata": {
    "collapsed": false
   },
   "outputs": [
    {
     "name": "stdout",
     "output_type": "stream",
     "text": [
      "Populating the interactive namespace from numpy and matplotlib\n"
     ]
    },
    {
     "data": {
      "text/plain": [
       "<Container object of 3 artists>"
      ]
     },
     "execution_count": 17,
     "metadata": {},
     "output_type": "execute_result"
    },
    {
     "data": {
      "image/png": "[encoded data removed]",
      "text/plain": [
       "<matplotlib.figure.Figure at 0x6fef278>"
      ]
     },
     "metadata": {},
     "output_type": "display_data"
    }
   ],
   "source": [
    "%pylab inline\n",
    "impulse = vectorize(lambda n: 1 if (n == 0) else 0)\n",
    "x = linspace(-5, 30, 36)\n",
    "stem(x, impulse(x))"
   ]
  },
  {
   "cell_type": "code",
   "execution_count": 20,
   "metadata": {
    "collapsed": false
   },
   "outputs": [
    {
     "data": {
      "image/png": "[encoded data removed]",
      "text/plain": [
       "<matplotlib.figure.Figure at 0x7816dd8>"
      ]
     },
     "metadata": {},
     "output_type": "display_data"
    }
   ],
   "source": [
    "from IPython.html.widgets import interact, FloatSlider\n",
    "\n",
    "def MovingAverage(lda, x):\n",
    "    signal_size = x.size\n",
    "    y = zeros(signal_size)\n",
    "    y[0] = lda * x[0]\n",
    "    for i in range(1, signal_size):\n",
    "        y[i] = lda*y[i-1] + (1-lda)*x[i]\n",
    "    return y\n",
    "\n",
    "def stemMA(lambda_value): \n",
    "    stem(x, MovingAverage(lambda_value, impulse(x)))\n",
    "    axis([-6, 30, 0, 1])\n",
    "    xlabel('Signal')\n",
    "\n",
    "interact(stemMA, \n",
    "         lambda_value=FloatSlider(min=0, max=1.0, step=0.05, value=0.5))"
   ]
  },
  {
   "cell_type": "markdown",
   "metadata": {},
   "source": [
    "# Filter types according to impulse response\n",
    "\n",
    "* Finite Impulse Response (FIR)\n",
    "* Infinite Impulse Reponse (IIR)\n",
    "* Causal\n",
    "* Noncausal"
   ]
  },
  {
   "cell_type": "markdown",
   "metadata": {},
   "source": [
    "## FIR\n",
    "\n",
    "* Impulse response has finite support\n",
    "* Only a finite number of samples are involved in the computation of each output sample"
   ]
  },
  {
   "cell_type": "markdown",
   "metadata": {},
   "source": [
    "## IIR\n",
    "\n",
    "* Impulse response has infinite support\n",
    "* a potentially infinite number of samples are involved in the computation of each output sample.\n",
    "* Surprisingly, in many cases the computation can still be performed in a finite amount of steps."
   ]
  },
  {
   "cell_type": "markdown",
   "metadata": {},
   "source": [
    "## Causal vs Noncausal\n",
    "\n",
    "### Causal\n",
    "\n",
    "* Impulse response is zero for $n < 0$\n",
    "* only past samples (with response to the present) are involved in the computation of each output sample\n",
    "* causal filters can work \"on line\" since they only need the past\n",
    "\n",
    "### Noncausal\n",
    "\n",
    "* Impulse response is nonzero for some (or all) $n < 0$\n",
    "* can still be implemented in a offline fashion (when all input data is available on storage)"
   ]
  },
  {
   "cell_type": "markdown",
   "metadata": {},
   "source": [
    "### Stability\n",
    "\n",
    "* Key concept: avoid \"explosions\" if the input is nice\n",
    "* A nice signal is a bounded signal $|x[n]| < M$ for all $n$\n",
    "* Bounded-Input Bounded-Output (BIBO) stability: if the input is nice the output should be nice.\n",
    "\n",
    "Hypotheses:\n",
    "\n",
    "* $|x[n] < M$\n",
    "* $\\sum_n |h[n]| = L < \\infty$\n",
    "\n",
    "Thesis:\n",
    "\n",
    "* $|y[n]| bounded$"
   ]
  },
  {
   "cell_type": "markdown",
   "metadata": {},
   "source": [
    "### Good news\n",
    "\n",
    "* FIR filters are always stable\n",
    "* IIRs stable when $|\\lambda| < 1$\n",
    "\n",
    "$$\n",
    "\\begin{equation}\n",
    "\\begin{array}\n",
    "\\sum_{n=-\\infty}^{\\infty}|h[n]| &= |1-\\lambda| \\sum_{n=0}^{\\infty}|\\lambda|^n \\\\\n",
    "&= \\lim_{n \\rightarrow \\infty}|1 - \\lambda| \\frac{1 - |\\lambda|^{n+1}}{1 - |\\lambda|} \\\\\n",
    "&< \\infty \\mbox{ for } |\\lambda| < 1\n",
    "\\end{array}\n",
    "\\end{equation}\n",
    "$$"
   ]
  },
  {
   "cell_type": "markdown",
   "metadata": {},
   "source": [
    "# Frequency response\n",
    "\n",
    "* Eigensequences\n",
    "* Convolution theorem\n",
    "* Frequency and phase response\n",
    "\n",
    "## Convolution of $e^{j\\omega_0 n}$\n",
    "\n",
    "What if we take the convolution of a complex value with frequency $\\omega_0$.\n",
    "\n",
    "$$ \\begin{equation} \\begin{split}\n",
    "y[n] &= e^{j\\omega_0 n} * h[n] \\\\\n",
    "&= h[n] * e^{j\\omega_0 n} \\\\\n",
    "&= \\sum_{k=-\\infty}^{\\infty}h[k]e^{j\\omega_0(n-k)} \\\\\n",
    "&= e^{j\\omega_0 n} \\sum_{k=-\\infty}^{\\infty}h[k]e^{-j\\omega_0 k} \\\\\n",
    "&= e^{j\\omega_0 n} H(e^{j\\omega_0 n})\n",
    "\\end{split} \\end{equation}\n",
    "$$\n",
    "\n",
    "The sum is the DTFT calculated at $\\omega_0$"
   ]
  },
  {
   "cell_type": "markdown",
   "metadata": {},
   "source": [
    "THe first fundamental property\n",
    "* The linear transform doesn't change the frequency of the input\n",
    "* Complex exponentials are eigensequences of LTI systems.\n",
    "* DTFT of impulse response determines the frequency characteristics of a filter.\n",
    "\n",
    "## Magnitude and Phase\n",
    "\n",
    "If $H(e^{j\\omega_0}) = Ae^{j\\theta}$ then $\\mathbb{H}\\{e^{j\\omega_0 n}\\} = Ae^{j(\\omega_0 n + \\theta)}$\n",
    "\n",
    "Applitude:\n",
    "* amplification ($A > 1$)\n",
    "* attenuation ($0 \\le A < 1$)\n",
    "\n",
    "Phase shift:\n",
    "* delay ($\\theta < 0$)\n",
    "* advancement ($\\theta > 0$)\n",
    "\n",
    "The convolution theorem\n",
    "\n",
    "\n",
    "$$ \\begin{equation} \\begin{split}\n",
    "DTFT\\{x[n]*h[n]\\} &= \\sum_{n=-\\infty}^{\\infty}(x*h)[n]e^{-j\\omega n} \\\\\n",
    "&= \\sum_{n=-\\infty}^{\\infty} \\sum_{k=-\\infty}^{\\infty}x[k]h[n-k]e^{-j\\omega n} \\\\\n",
    "&= \\sum_{n=-\\infty}^{\\infty} \\sum_{k=-\\infty}^{\\infty}x[k]h[n-k]e^{-j\\omega k} e^{-j\\omega (n-k)} \\\\\n",
    "&= \\sum_{k=-\\infty}^{\\infty}x[k] e^{-j\\omega k} \\sum_{n=-\\infty}^{\\infty}h[n-k] e^{-j\\omega (n-k)} \\\\\n",
    "&= H(e^{j\\omega}) X(e^{j\\omega})\n",
    "\\end{split} \\end{equation}\n",
    "$$"
   ]
  },
  {
   "cell_type": "markdown",
   "metadata": {},
   "source": [
    "The fourier transform of impulse response is called Frequency reponse.\n",
    "\n",
    "$$H(e^{j\\omega}) = DTFT\\{h[n]\\}$$\n",
    "\n",
    "Two effects:\n",
    "* **magnitude**: amplification ($|H(e^{j\\omega})| > 1$) or attentuation ($|H(e^{j\\omega})| < 1$)\n",
    "* **phase** overall delay and shape changes"
   ]
  },
  {
   "cell_type": "markdown",
   "metadata": {},
   "source": [
    "# Ideal Filters\n",
    "\n",
    "Filter types according to magnitude response\n",
    "* Lowpass: low frequency left, kill everything else\n",
    "* Highpass: high frequency left\n",
    "* Bandpass: band frequency left\n",
    "\n",
    "Filter types according to phase response\n",
    "* Linear phase\n",
    "* non-linear phase"
   ]
  },
  {
   "cell_type": "markdown",
   "metadata": {},
   "source": [
    "### Ideal lowpass filter\n",
    "$$ \n",
    "H(e^{j\\omega}) = \\left\\{ \\begin{equation} \\begin{array}{11}\n",
    "1 & \\mbox{for } |\\omega| \\le \\omega_c \\\\\n",
    "0 & \\mbox{ otherwise }\n",
    "\\end{array}\n",
    "\\end {equation} \\right.\n",
    "$$\n",
    "\n",
    "* perfectly flat passband\n",
    "* infinite attenuation in stopband\n",
    "* zero-phase (no delay)\n",
    "\n",
    "#### Lowpass filter: impulse response\n",
    "\n",
    "$$\n",
    "\\begin{equation} \\begin{array}\n",
    "h[n] &= IDTFT\\{ H(e^{j\\omega}) \\} \\\\\n",
    "&= \\frac{1}{2\\pi}\\int_{-\\pi}^{\\pi}H(e^{j\\omega})e^{j\\omega n}d\\omega \\\\\n",
    "&= \\frac{1}{2\\pi}\\int_{-\\omega_c}^{\\omega_c}H(e^{j\\omega})e^{j\\omega n}d\\omega \\\\\n",
    "&= \\frac{1}{\\pi n} \\frac{e^{j\\omega_c n} - e^{-j\\omega_c n}}{2j} \\\\\n",
    "&= \\frac{sin\\omega_c n}{\\pi n} \\\\\n",
    "\\end{array} \\end{equation}\n",
    "$$"
   ]
  },
  {
   "cell_type": "markdown",
   "metadata": {},
   "source": [
    "For example we want to calculate $sinc$ for $\\omega_c = \\pi/3$"
   ]
  },
  {
   "cell_type": "code",
   "execution_count": 49,
   "metadata": {
    "collapsed": false
   },
   "outputs": [
    {
     "data": {
      "text/plain": [
       "<matplotlib.text.Text at 0xb14f2e8>"
      ]
     },
     "execution_count": 49,
     "metadata": {},
     "output_type": "execute_result"
    },
    {
     "data": {
      "image/png": "[encoded data removed]",
      "text/plain": [
       "<matplotlib.figure.Figure at 0xb129fd0>"
      ]
     },
     "metadata": {},
     "output_type": "display_data"
    }
   ],
   "source": [
    "import numpy as np\n",
    "import math as m\n",
    "from scipy import constants as c\n",
    "\n",
    "n = np.linspace(-30, 30, 200)\n",
    "f = 1/3*np.sinc(n/3)\n",
    "stem(n, f)\n",
    "title('Sinc function')\n",
    "xlabel('Amplitude')\n",
    "ylabel('X')"
   ]
  },
  {
   "cell_type": "code",
   "execution_count": 57,
   "metadata": {
    "collapsed": false
   },
   "outputs": [
    {
     "data": {
      "text/plain": [
       "<Container object of 3 artists>"
      ]
     },
     "execution_count": 57,
     "metadata": {},
     "output_type": "execute_result"
    },
    {
     "data": {
      "image/png": "[encoded data removed]",
      "text/plain": [
       "<matplotlib.figure.Figure at 0xcd3aac8>"
      ]
     },
     "metadata": {},
     "output_type": "display_data"
    }
   ],
   "source": [
    "Xej = np.fft.fft(f)\n",
    "stem(abs(Xej))"
   ]
  },
  {
   "cell_type": "markdown",
   "metadata": {},
   "source": [
    "# Numerical Examples: Linear time invariant systems\n",
    "\n",
    "## Linearity\n",
    "\n",
    "We use the command to calculate the convolution between the input x and the impulse response h. Notice that the command uses only the available data without zero padding them.\n",
    "\n",
    "`y = np.convolve(x,h,'valid')`\n",
    "\n",
    "In constrast with what is done by\n",
    "\n",
    "`y = np.convolve(x,h)`\n",
    "\n",
    "When using only available data in performing a convolution between a sequence $x$ of length $M$ and a sequence $h$ of length $L$, the convolution expression using only the available data can be written as:\n",
    "\n",
    "if $M > L, \\mbox{   } y[n] = \\sum_{l=1}^L h[l]x[n-l], \\mbox{   } n = L + 1, \\cdots, M$\n",
    "\n",
    "if $L > M, \\mbox{   } y[n] = \\sum_{m=1}^M x[m]h[n-m], \\mbox{   } n = M + 1, \\cdots, L$\n",
    "\n",
    "The resulting signal is of length:\n",
    "\n",
    "$max(M - max(0, L-1), 0)$"
   ]
  },
  {
   "cell_type": "markdown",
   "metadata": {},
   "source": [
    "For example, let's consider a system where its impulse response is given by $h[n] = \\alpha^n u[n]$, and $u[n]$ is the step function. The convolution could be calculated as below"
   ]
  },
  {
   "cell_type": "code",
   "execution_count": 21,
   "metadata": {
    "collapsed": false
   },
   "outputs": [
    {
     "name": "stdout",
     "output_type": "stream",
     "text": [
      "Populating the interactive namespace from numpy and matplotlib\n"
     ]
    }
   ],
   "source": [
    "%pylab inline\n",
    "\n",
    "alpha = 0.999\n",
    "h = pow(alpha, np.arange(100))\n",
    "y = np.linspace(0, 999, 1000)\n",
    "x1 = np.sin((y*2*c.pi*40)/1000)\n",
    "y1 = np.convolve(x1, h, 'valid')"
   ]
  },
  {
   "cell_type": "markdown",
   "metadata": {},
   "source": [
    "The dimension of $y1$ is 901 samples. We could plot the input $x1$ and $y1$ to see the effect of the system."
   ]
  },
  {
   "cell_type": "code",
   "execution_count": 34,
   "metadata": {
    "collapsed": false
   },
   "outputs": [
    {
     "data": {
      "text/plain": [
       "[<matplotlib.lines.Line2D at 0xa7e8e80>]"
      ]
     },
     "execution_count": 34,
     "metadata": {},
     "output_type": "execute_result"
    },
    {
     "data": {
      "image/png": "[encoded data removed]",
      "text/plain": [
       "<matplotlib.figure.Figure at 0x95e9f98>"
      ]
     },
     "metadata": {},
     "output_type": "display_data"
    }
   ],
   "source": [
    "plot(h)"
   ]
  },
  {
   "cell_type": "code",
   "execution_count": 33,
   "metadata": {
    "collapsed": false
   },
   "outputs": [
    {
     "data": {
      "text/plain": [
       "(-2, 2)"
      ]
     },
     "execution_count": 33,
     "metadata": {},
     "output_type": "execute_result"
    },
    {
     "data": {
      "image/png": "[encoded data removed]",
      "text/plain": [
       "<matplotlib.figure.Figure at 0x96e95f8>"
      ]
     },
     "metadata": {},
     "output_type": "display_data"
    }
   ],
   "source": [
    "figure(1)\n",
    "subplot(211)\n",
    "plot(y, x1)\n",
    "ylim([-2, 2])\n",
    "subplot(212)\n",
    "plot(y1)\n",
    "ylim([-2, 2])"
   ]
  },
  {
   "cell_type": "code",
   "execution_count": 38,
   "metadata": {
    "collapsed": false
   },
   "outputs": [
    {
     "data": {
      "text/plain": [
       "[0.0,\n",
       " 0.0,\n",
       " 0.0,\n",
       " 0.0,\n",
       " 0.050000000000000044,\n",
       " 0.04750000000000004,\n",
       " 0.04512500000000004,\n",
       " 0.04286875000000004,\n",
       " 0.040725312500000034,\n",
       " 0.03868904687500003,\n",
       " 0.036754594531250025]"
      ]
     },
     "execution_count": 38,
     "metadata": {},
     "output_type": "execute_result"
    }
   ],
   "source": [
    "class Leaky(object):\n",
    "    def __init__(self, lmb):\n",
    "        self.lmb = lmb\n",
    "        self.y = 0\n",
    "    def compute(self, x):\n",
    "        res = []\n",
    "        for v in x:\n",
    "            self.y = self.lmb * self.y + (1 - self.lmb)*v\n",
    "            res.append(self.y)\n",
    "        return res\n",
    "            \n",
    "L = Leaky(0.95)\n",
    "L.compute([0,0,0,0,1,0,0,0,0,0,0])"
   ]
  },
  {
   "cell_type": "markdown",
   "metadata": {},
   "source": [
    "## Denoising with the Leaky Integrator\n",
    "\n",
    "### Two simple tones\n",
    "\n",
    "Consider a Leaky Integrator filter of order 10. As seen on the filtering lecture, the corresponding impulse response is given by $h[n] = (1-\\lambda)\\lambda^n u[n]$, where $n = (10-1)/10 = 0.9$"
   ]
  },
  {
   "cell_type": "code",
   "execution_count": 58,
   "metadata": {
    "collapsed": true
   },
   "outputs": [],
   "source": [
    "M = 10\n",
    "lbd = float(M-1)/float(M)\n",
    "h = (1-lbd)*pow(lbd, np.arange(100)) \n",
    "# constructs the impulse response of the system of length 100"
   ]
  },
  {
   "cell_type": "markdown",
   "metadata": {},
   "source": [
    "Generate now a Gaussian white noise (sequence of independent random numbers that are generated according to the same Gaussian distribution)"
   ]
  },
  {
   "cell_type": "code",
   "execution_count": 59,
   "metadata": {
    "collapsed": true
   },
   "outputs": [],
   "source": [
    "sigma2 = 0.1\n",
    "noise = sigma2*np.random.randn(2000)"
   ]
  },
  {
   "cell_type": "markdown",
   "metadata": {},
   "source": [
    "That we add to the sequence of two pulse $x1$ and $x2$ that we have used in the examples \"three tones\" of the Fourier module, that is"
   ]
  },
  {
   "cell_type": "code",
   "execution_count": 60,
   "metadata": {
    "collapsed": true
   },
   "outputs": [],
   "source": [
    "x1 = np.sin((y*2*c.pi*40)/1000)\n",
    "x2 = np.sin((y*2*c.pi*80)/1000)\n",
    "x = np.append(x1, x2)\n",
    "xNoisy = noise + x"
   ]
  },
  {
   "cell_type": "markdown",
   "metadata": {},
   "source": [
    "We can plot x and xNoisy to see the effect of the noise"
   ]
  },
  {
   "cell_type": "code",
   "execution_count": 61,
   "metadata": {
    "collapsed": false
   },
   "outputs": [
    {
     "data": {
      "image/png": "[encoded data removed]",
      "text/plain": [
       "<matplotlib.figure.Figure at 0xd2bd240>"
      ]
     },
     "metadata": {},
     "output_type": "display_data"
    }
   ],
   "source": [
    "subplot(2,1,1)\n",
    "plot(np.arange(x.size), x)\n",
    "ylabel('x')\n",
    "xlim([825, 1175])\n",
    "subplot(2,1,2)\n",
    "plot(np.arange(xNoisy.size), xNoisy)\n",
    "xlabel('Samples')\n",
    "ylabel('xNoisy')\n",
    "xlim([825, 1175])\n",
    "show()"
   ]
  },
  {
   "cell_type": "markdown",
   "metadata": {},
   "source": [
    "We now apply the leaky integrator to the noisy signal"
   ]
  },
  {
   "cell_type": "code",
   "execution_count": 63,
   "metadata": {
    "collapsed": false
   },
   "outputs": [
    {
     "data": {
      "text/plain": [
       "(750, 1050)"
      ]
     },
     "execution_count": 63,
     "metadata": {},
     "output_type": "execute_result"
    },
    {
     "data": {
      "image/png": "[encoded data removed]",
      "text/plain": [
       "<matplotlib.figure.Figure at 0xd2b6c18>"
      ]
     },
     "metadata": {},
     "output_type": "display_data"
    }
   ],
   "source": [
    "yConv = np.convolve(xNoisy, h, 'valid')\n",
    "plot(np.arange(yConv.size), yConv)\n",
    "xlabel('Samples')\n",
    "ylabel('yConv')\n",
    "xlim([750, 1050])"
   ]
  },
  {
   "cell_type": "markdown",
   "metadata": {},
   "source": [
    "### Jingle!\n",
    "\n",
    "So let's now apply our denoising method to a human voice signal. Load the file jingle.mat into Python using the command"
   ]
  },
  {
   "cell_type": "code",
   "execution_count": 66,
   "metadata": {
    "collapsed": false
   },
   "outputs": [
    {
     "name": "stdout",
     "output_type": "stream",
     "text": [
      "{'__version__': '1.0', 'jingle': array([[ 0.        ,  0.        ,  0.        , ..., -0.01513672,\n",
      "        -0.01254272, -0.01034546]]), '__header__': b'MATLAB 5.0 MAT-file, Platform: MACI64, Created on: Tue Feb  5 21:22:28 2013', '__globals__': [], 'Fs': array([[44100]], dtype=uint16)}\n"
     ]
    }
   ],
   "source": [
    "import scipy.io as sio\n",
    "mat_contents = sio.loadmat('jingle.mat')\n",
    "jingle = mat_contents['jingle']\n",
    "print(mat_contents)"
   ]
  },
  {
   "cell_type": "markdown",
   "metadata": {},
   "source": [
    "By typing _whos_ you get the following line as well as many others.\n",
    "\n",
    "We now create a white noise signal to add to jingle"
   ]
  },
  {
   "cell_type": "code",
   "execution_count": 69,
   "metadata": {
    "collapsed": true
   },
   "outputs": [],
   "source": [
    "sigma = 0.01\n",
    "noise = sigma * np.random.randn(255000)\n",
    "jingleNoisy = jingle + noise\n",
    "jingleNoisy = jingleNoisy.reshape(255000,)"
   ]
  },
  {
   "cell_type": "markdown",
   "metadata": {},
   "source": [
    "## The convolution theorem & frequency response of filters\n",
    "\n",
    "The convolution theorem tells us that the Fourier transofrm of the convolution between two sequences is equal to the product of the Fourier transform of the two products.\n",
    "\n",
    "Working with the finite sequences, we need to be careful on the choice of the length of the Fourier transform. We will use here the command for a K point fft.\n",
    "\n",
    "`scipy.fftpack.fft(X, K)`\n",
    "\n",
    "When convoluting a sequence of $x$ of length $N$ with a sequence $h$ of length $L < N$\n",
    "\n",
    "`y = np.convolve(x, h, 'valid')`\n",
    "\n",
    "the result is of length $N - L + 1$\n",
    "\n",
    "Therefore we will consider $N - L + 1$ point FFT\n",
    "\n",
    "### two tones again\n",
    "\n",
    "Let's take our noisy two tones xNoisy (length $N = 2000$), the Leaky Integrator filter $h$ (length $L = 100$), and plot their spectral content, that is, the absolute value of their Fourier transform:"
   ]
  },
  {
   "cell_type": "code",
   "execution_count": 75,
   "metadata": {
    "collapsed": false
   },
   "outputs": [
    {
     "data": {
      "image/png": "[encoded data removed]",
      "text/plain": [
       "<matplotlib.figure.Figure at 0xcfef320>"
      ]
     },
     "metadata": {},
     "output_type": "display_data"
    }
   ],
   "source": [
    "#  Construct the impulse response of the system of length 100\n",
    "import numpy as np\n",
    "import math as m\n",
    "from scipy import constants as c\n",
    "M = 10\n",
    "lbd = float((M-1))/float(M)\n",
    "h = (1-lbd)*pow(lbd,np.arange(100))\n",
    "\n",
    "#  Generate two tones\n",
    "y = np.linspace(0,999,1000)\n",
    "x1 = np.sin((y*2*c.pi*40)/1000)\n",
    "x2 = np.sin((y*2*c.pi*80)/1000)\n",
    "x = np.append(x1,x2)\n",
    "\n",
    "# Generate the noise\n",
    "sigma3 = 0.1\n",
    "noise = sigma3 * np.random.randn(2000)\n",
    "\n",
    "# Add noise to signal\n",
    "xNoisy = x + noise\n",
    "\n",
    "N = len(xNoisy)\n",
    "L = len(h)\n",
    "\n",
    "# DFT/DFS of noisy signal and impulse response\n",
    "from scipy import fftpack as f\n",
    "XNoisy = f.fft(xNoisy, N - L + 1)\n",
    "H = f.fft(h, N - L + 1)\n",
    "\n",
    "# To plot vs the normalized frequencies\n",
    "normFrequ = np.arange(N - L + 1, dtype=float)/(float(N-L+1))\n",
    "\n",
    "subplot(2,1,1)\n",
    "plot(normFrequ, abs(XNoisy))\n",
    "xlabel('Normalized Frequencies')\n",
    "ylabel('|xNoisy|')\n",
    "subplot(2,1,2)\n",
    "plot(normFrequ, abs(H))\n",
    "xlabel('Normalized Frequencies')\n",
    "ylabel('|H|')\n",
    "show()"
   ]
  },
  {
   "cell_type": "markdown",
   "metadata": {},
   "source": [
    "The absolute value of the product (samplewise) of the two Fourier transforms is computed as"
   ]
  },
  {
   "cell_type": "code",
   "execution_count": 76,
   "metadata": {
    "collapsed": false
   },
   "outputs": [],
   "source": [
    "ABS = H * XNoisy"
   ]
  },
  {
   "cell_type": "markdown",
   "metadata": {},
   "source": [
    "The plot of the absolute value of the product of the two Fourier transforms"
   ]
  },
  {
   "cell_type": "code",
   "execution_count": 77,
   "metadata": {
    "collapsed": false
   },
   "outputs": [
    {
     "data": {
      "image/png": "[encoded data removed]",
      "text/plain": [
       "<matplotlib.figure.Figure at 0xe1f8a58>"
      ]
     },
     "metadata": {},
     "output_type": "display_data"
    }
   ],
   "source": [
    "plot(normFrequ, abs(ABS))\n",
    "xlabel('Normalized Frequencies')\n",
    "ylabel('|H*xNoisy|')\n",
    "show()"
   ]
  }
 ],
 "metadata": {
  "kernelspec": {
   "display_name": "Python 3",
   "language": "python",
   "name": "python3"
  },
  "language_info": {
   "codemirror_mode": {
    "name": "ipython",
    "version": 3
   },
   "file_extension": ".py",
   "mimetype": "text/x-python",
   "name": "python",
   "nbconvert_exporter": "python",
   "pygments_lexer": "ipython3",
   "version": "3.4.3"
  }
 },
 "nbformat": 4,
 "nbformat_minor": 0
}
