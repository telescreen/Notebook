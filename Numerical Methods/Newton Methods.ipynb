{
 "cells": [
  {
   "cell_type": "markdown",
   "metadata": {},
   "source": [
    "These series of notebook is memos for [Introduction to Numerical Methods](https://ocw.mit.edu/courses/mathematics/18-335j-introduction-to-numerical-methods-spring-2019/index.htm). \n",
    "\n",
    "Below are the course description\n",
    "> This course offers an advanced introduction to numerical analysis, with a focus on accuracy and efficiency of numerical algorithms. Topics include sparse-matrix/iterative and dense-matrix algorithms in numerical linear algebra (for linear systems and eigenproblems), floating-point arithmetic, backwards error analysis, conditioning, and stability. Other computational topics (e.g., numerical integration or nonlinear optimization) are also surveyed."
   ]
  },
  {
   "cell_type": "markdown",
   "metadata": {},
   "source": [
    "# Square Roots via Newton Methods\n",
    "\n",
    "### 1. Overview\n",
    "*Numerical methods* can be distinguished from other branches of analysis and computer science by 3 characteristics.\n",
    "\n",
    "* They work with arbitrarily **real** numbers (although in practice we only ever compute rationalapproximationsof irrational results)\n",
    "* We are concerned not only with existence and correctness of the solutions but with the **time** required to compute the result.\n",
    "* We are concerned with **accuracy** of the results, because in practice we only have **approximate** answers.\n",
    "  - *How fast they converge* is a key question.\n",
    "  - *Arithmetic with real numbers is approximate*\n",
    "  \n",
    "### 2. Square Roots\n",
    "\n",
    "Babylonians method to compute game roots $x = \\sqrt{a}$ for $a > 0$ is to solve $x^2 = a$. The algorithm starts with some guess $x_1 > 0$ and computes the sequence of improved guesses.\n",
    "\n",
    "$$ x_{n+1} = \\frac{1}{2}\\Big(x_n + \\frac{a}{x_n}\\Big) $$\n",
    "\n",
    "In modern times, Newton method to find a root of $f(x) = x^2 - a$ by approximate root of $f(x) = 0$ from a guess $x_n$ by approximating $f(x)$ as its tangent line $ f(x_n) + f'(x_n)(x - x_n)$ leading to an improved guess $x_{n+1}$ from the root of the tangent\n",
    "\n",
    "$$ x_{n+1} = x_n - \\frac{f(x_n)}{f'(x_n)} $$\n",
    "\n",
    "Let's try for $\\sqrt{2} = 1.414213562373095\\cdots$ starting with a guess of 1.5"
   ]
  },
  {
   "cell_type": "code",
   "execution_count": 1,
   "metadata": {},
   "outputs": [
    {
     "name": "stdout",
     "output_type": "stream",
     "text": [
      "1.4166666666666665\n"
     ]
    }
   ],
   "source": [
    "x = 1.5\n",
    "a = 2\n",
    "x = (x + a/x)/2\n",
    "print(x)"
   ]
  },
  {
   "cell_type": "code",
   "execution_count": 2,
   "metadata": {},
   "outputs": [
    {
     "name": "stdout",
     "output_type": "stream",
     "text": [
      "1.4142156862745097\n"
     ]
    }
   ],
   "source": [
    "x = (x + a/x)/2\n",
    "print(x)"
   ]
  },
  {
   "cell_type": "code",
   "execution_count": 3,
   "metadata": {},
   "outputs": [
    {
     "name": "stdout",
     "output_type": "stream",
     "text": [
      "1.4142135623746899\n"
     ]
    }
   ],
   "source": [
    "x = (x + a/x)/2\n",
    "print(x)"
   ]
  },
  {
   "cell_type": "markdown",
   "metadata": {},
   "source": [
    "After **3 iterations** we have **12 correct digits**"
   ]
  },
  {
   "cell_type": "code",
   "execution_count": 4,
   "metadata": {},
   "outputs": [],
   "source": [
    "import numpy as np\n",
    "import mpmath\n",
    "import matplotlib.pyplot as plt"
   ]
  },
  {
   "cell_type": "code",
   "execution_count": 5,
   "metadata": {},
   "outputs": [],
   "source": [
    "def iterate_square(a, iteration, guess):\n",
    "    for i in range(iteration): \n",
    "        guess = (guess + a/guess)/2\n",
    "    return guess"
   ]
  },
  {
   "cell_type": "code",
   "execution_count": 6,
   "metadata": {},
   "outputs": [
    {
     "name": "stdout",
     "output_type": "stream",
     "text": [
      "1.0\n",
      "1.5\n",
      "1.41666666666667\n",
      "1.41421568627451\n",
      "1.41421356237469\n",
      "1.41421356237309\n",
      "1.41421356237309\n",
      "1.41421356237309\n",
      "1.41421356237309\n",
      "1.41421356237309\n",
      "1.41421356237309\n"
     ]
    }
   ],
   "source": [
    "for i in range(11):\n",
    "    print(iterate_square(mpmath.mpf(2), i, mpmath.mpf(1)))"
   ]
  },
  {
   "cell_type": "code",
   "execution_count": 7,
   "metadata": {},
   "outputs": [
    {
     "data": {
      "image/png": "[encoded data removed]",
      "text/plain": [
       "<Figure size 720x432 with 1 Axes>"
      ]
     },
     "metadata": {
      "needs_background": "light"
     },
     "output_type": "display_data"
    }
   ],
   "source": [
    "mpmath.mp.dps = 200\n",
    "abserr = lambda approx, exact: mpmath.fdiv(mpmath.fabs(approx-exact), exact)\n",
    "vals = [iterate_square(mpmath.mpf(2), i, mpmath.mpf(1)) for i in range(10)]\n",
    "errs = [abserr(val, mpmath.sqrt(mpmath.mpf(2))) for val in vals]\n",
    "plt.figure(figsize=(10,6))\n",
    "plt.semilogy(errs, 'o-')\n",
    "plt.grid()\n",
    "plt.xlim([0,8])\n",
    "plt.xlabel('Number of iterations')\n",
    "plt.ylabel('Relative Error')\n",
    "plt.title('Error decays faster than exponential in the # iterations');"
   ]
  },
  {
   "cell_type": "markdown",
   "metadata": {},
   "source": [
    "**The number of accurate digits approximately doubles on each iteration.** "
   ]
  },
  {
   "cell_type": "code",
   "execution_count": null,
   "metadata": {},
   "outputs": [],
   "source": []
  }
 ],
 "metadata": {
  "kernelspec": {
   "display_name": "Python 3.8.3 64-bit ('dsp': conda)",
   "language": "python",
   "name": "python38364bitdspconda8984bb8d2ade4cb6a9f072bbcc3837fa"
  },
  "language_info": {
   "codemirror_mode": {
    "name": "ipython",
    "version": 3
   },
   "file_extension": ".py",
   "mimetype": "text/x-python",
   "name": "python",
   "nbconvert_exporter": "python",
   "pygments_lexer": "ipython3",
   "version": "3.8.3"
  }
 },
 "nbformat": 4,
 "nbformat_minor": 4
}
