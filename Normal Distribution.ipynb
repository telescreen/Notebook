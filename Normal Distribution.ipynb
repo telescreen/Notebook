{
 "cells": [
  {
   "cell_type": "markdown",
   "metadata": {},
   "source": [
    "Gaussian distribution\n",
    "====================\n",
    "\n",
    "The normal distribution is a very commonly occuring continous probability distribution - a function that tells the probability that any real observation will fall between any two real limits or real numbers\n",
    "\n",
    "The normal distribution is immensely useful because of the central limit theorem.\n",
    "\n",
    "### Standard normal distribution\n",
    "\n",
    "The simplest case of a normal distribution is known as the _standard normal distribution_, which has $\\mu = 0$ and $\\sigma = 1$\n",
    "\n",
    "$$ \\phi(x) = \\frac{e^{-\\frac{1}{2}x^2}}{\\sqrt{2\\pi}} $$\n",
    "\n",
    "- often denoted $ X \\sim N(\\mu,\\sigma^2)$\n",
    "\n",
    "### General normal distribution\n",
    "\n",
    "$$ y(x, \\mu, \\sigma) = \\frac{1}{\\sqrt{2\\pi\\sigma^2}}exp\\Big[{-\\frac{(x - \\mu)^2}{2\\sigma^2}}\\Big]$$\n",
    "\n",
    "- A version of the standard normal distribution whose domain has been stretched by a factor $\\sigma$ (the standard deviation) and traslated by $\\mu$ (the mean value)\n",
    "\n",
    "$$ f(x,\\mu,\\sigma) = \\frac{1}{\\sigma}\\phi\\left(\\frac{x-\\mu}{\\sigma}\\right)$$\n",
    "\n",
    "### Alternative parameterizations\n",
    "\n",
    "Some authors advocate using the precision $\\tau$ as the parameter defining the width of the distribution. The precision is normally defined as the reciprocal of the variance, $1/\\sigma^2$\n",
    "\n",
    "$$ f(x) = \\sqrt{\\frac{\\tau}{2\\pi}}e^{\\frac{-\\tau(x-\\mu)^2}{2}} $$\n",
    "\n",
    "advatages:\n",
    "- in numerical computations when $\\sigma$ is very close to zero\n",
    "- simplify formulas in some contexts: Baysian inference of variables with multivariate normal distribution.\n",
    "\n",
    "### Cumulative distribution function\n",
    "\n",
    "$$ \\Phi(x) = \\frac{1}{\\sqrt{2\\pi}}\\int_{-\\infty}^{x} e^{-t^2/2}dt $$\n",
    "\n",
    "In statistics, one often uses the related error function, or erf(x), defined as the probability of a random variable with normal distribution of mean 0 and variance 1/2 falling in the range $[-x,x]$\n",
    "\n",
    "$$ erf(x) = \\frac{1}{\\sqrt{\\pi}}\\int_{-x}^{x} e^{-t^2}dt $$\n",
    "\n",
    "$$ \\Phi(x) = \\frac{1}{2}\\Big[1 + erf\\left(\\frac{x}{\\sqrt2}\\right)\\Big] $$\n",
    "\n",
    "$$ F(x) = \\Phi\\left(\\frac{x-\\mu}{\\sigma}\\right) = \\frac{1}{2}\\Big[1 + erf\\left(\\frac{x-\\mu}{\\sigma\\sqrt{2}}\\right)\\Big]$$\n",
    "\n",
    "The cummulative distribution function (CDF) of the standard normal distribution can be expanded by Integral by parts into a series\n",
    "\n",
    "$$ \\Phi(x) = 0.5 + \\frac{1}{2\\pi}.e^\\frac{-x^2}{2}\\Big[x+\\frac{x^3}{3}+\\frac{x^5}{3.5}+\\dots+\\frac{x^{2n+1}}{(2n+1)!!}+\\dots\\Big]  $$\n",
    "\n",
    "### Standard deviation and tolerance intervals\n",
    "\n",
    "The probability that a normal deviate lies in the range $\\mu - n\\sigma$ and $\\mu + n\\sigma$ is given by\n",
    "\n",
    "$$ F(\\mu + n\\sigma) - F(\\mu - n\\sigma) = \\Phi(n) - \\Phi(-n) = erf\\left(\\frac{n}{\\sqrt{2}}\\right)$$\n",
    "\n",
    "68% of values drawn from a normal distribution are within one standard deviation $\\sigma$ away from the mean; about 95% of the values lie within two standard deviations; and about 99.7% are within three standard deviations.\n",
    "- 68-95-99.7 rule\n",
    "\n",
    "### Quantile function\n",
    "The quantile function of a distribution is the inverse of the cumulative distribution function.\n",
    "\n",
    "$$ \n",
    "\\Phi^{-1}(p) = \\sqrt{2}erf^{-1}(2p-1),  p \\in (0,1) \n",
    "$$\n",
    "\n",
    "For a normal random variable with mean $\\mu$ and variance $\\sigma^2$, the quantile function is:\n",
    "\n",
    "$$ \n",
    "F^{-1}(p) = \\mu + \\sigma\\Phi^{-1}(p) = \\mu + \\sigma\\sqrt{2}erf^{-1}(2p - 1) ,  p \\in (0,1) \n",
    "$$\n",
    "\n",
    "The quantile $\\Phi^{-1}(p)$ of the standard normal distribution is commonly denoted as $z_p$. These values are used in \n",
    "- hypothesis testing\n",
    "- construction of confidence intervals\n",
    "- Q-Q plots\n",
    "\n",
    "A normal random variable X will exceed $\\mu + \\sigma z_p$ with probability $1-p$; and will lie outside the interval $\\mu \\pm \\sigma z_p$ with probability $2(1-p)$\n",
    "\n",
    "### Central limit theorem\n"
   ]
  },
  {
   "cell_type": "code",
   "execution_count": 3,
   "metadata": {
    "collapsed": false,
    "jupyter": {
     "outputs_hidden": false
    }
   },
   "outputs": [
    {
     "data": {
      "image/png": "[encoded data removed]",
      "text/plain": [
       "<matplotlib.figure.Figure at 0x7f033cc31650>"
      ]
     },
     "metadata": {},
     "output_type": "display_data"
    }
   ],
   "source": [
    "import numpy as np\n",
    "import numpy.random as r\n",
    "import matplotlib.pyplot as plt\n",
    "\n",
    "%matplotlib inline\n",
    "\n",
    "d = r.randn(100)\n",
    "m = d.mean()\n",
    "s = d.std()\n",
    "\n",
    "# Create a vector of x values\n",
    "x = np.linspace(d.min(), d.max(), 1000)\n",
    "\n",
    "# gauss function \n",
    "gauss = lambda x,m,s: 1/(s*np.sqrt(2*np.pi))*np.exp(-0.5*((x-m)/s)**2)\n",
    "\n",
    "def cdf(x):\n",
    "    sum = x\n",
    "    value = x\n",
    "    for i in range(1,100):\n",
    "        value = value*x*x/(2*i+1)\n",
    "        sum += value\n",
    "    return 0.5+(sum/np.sqrt(2*np.pi))*np.exp(-(x*x)/2)\n",
    "\n",
    "y = gauss(x,m,s)\n",
    "\n",
    "plt.plot(x,y)\n",
    "plt.title('Gaussian Distribution')\n",
    "plt.show()"
   ]
  },
  {
   "cell_type": "code",
   "execution_count": null,
   "metadata": {
    "collapsed": false,
    "jupyter": {
     "outputs_hidden": false
    }
   },
   "outputs": [],
   "source": []
  }
 ],
 "metadata": {
  "kernelspec": {
   "display_name": "Python 3",
   "language": "python",
   "name": "python3"
  },
  "language_info": {
   "codemirror_mode": {
    "name": "ipython",
    "version": 3
   },
   "file_extension": ".py",
   "mimetype": "text/x-python",
   "name": "python",
   "nbconvert_exporter": "python",
   "pygments_lexer": "ipython3",
   "version": "3.7.5"
  }
 },
 "nbformat": 4,
 "nbformat_minor": 4
}
